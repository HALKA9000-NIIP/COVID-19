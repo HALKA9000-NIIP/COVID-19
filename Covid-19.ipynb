{
 "cells": [
  {
   "cell_type": "markdown",
   "metadata": {
    "colab_type": "text",
    "id": "view-in-github"
   },
   "source": [
    "<a href=\"https://colab.research.google.com/github/mkitti/COVID-19/blob/lavery_notebook/Covid-19.ipynb\" target=\"_parent\"><img src=\"https://colab.research.google.com/assets/colab-badge.svg\" alt=\"Open In Colab\"/></a>"
   ]
  },
  {
   "cell_type": "markdown",
   "metadata": {
    "colab_type": "text",
    "id": "iVkj4qUwv9Ke"
   },
   "source": [
    "# Covid-19 Notebook\n",
    "## Original notebook by Leon Avery, PhD\n",
    "https://www.facebook.com/leon.avery.10/posts/10221691168285770\n",
    "Original version: http://www.math.uwaterloo.ca/~lavery/Covid-19/\n",
    "\n",
    "This notebook has been adapted by Mark Kittisopikul, PhD, for general use. This notebook\n",
    "1. Pulls data from Johns Hopkins University Center for Systems Science and Engineering at https://github.com/CSSEGISandData/COVID-19\n",
    "2. Imports the data into a table via Pandas\n",
    "3. Plots the data"
   ]
  },
  {
   "cell_type": "markdown",
   "metadata": {},
   "source": [
    "# Other Works\n",
    "\n",
    "## Using Python scientific tools for a (rough) analysis of COVID-19 data\n",
    "\n",
    "https://medium.com/@santiagocasas/using-python-scientific-tools-for-a-rough-analysis-of-covid-19-data-d3ac58f474bf\n",
    "https://colab.research.google.com/drive/1Q_VWV6XsD9yMNoKEQpQ9Xe23bwb0UFym"
   ]
  },
  {
   "cell_type": "code",
   "execution_count": 1,
   "metadata": {
    "colab": {},
    "colab_type": "code",
    "id": "jYmnIBe9v9Kg"
   },
   "outputs": [],
   "source": [
    "import os, csv\n",
    "import datetime\n",
    "import matplotlib.pyplot as plt\n",
    "import pandas as pd\n",
    "import subprocess\n",
    "import numpy as np\n",
    "%matplotlib inline"
   ]
  },
  {
   "cell_type": "code",
   "execution_count": 2,
   "metadata": {
    "colab": {},
    "colab_type": "code",
    "id": "rMiJOT3_v9Kl"
   },
   "outputs": [],
   "source": [
    "nation = 'US'\n",
    "series = 'Confirmed'"
   ]
  },
  {
   "cell_type": "code",
   "execution_count": 3,
   "metadata": {
    "colab": {
     "base_uri": "https://localhost:8080/",
     "height": 34
    },
    "colab_type": "code",
    "id": "rQpaWLqov9Kx",
    "outputId": "292b7342-3070-43f1-af6a-a70f5f517c59"
   },
   "outputs": [
    {
     "name": "stdout",
     "output_type": "stream",
     "text": [
      "Data merged\n"
     ]
    }
   ],
   "source": [
    "# Retrieve data via git\n",
    "datasource = 'https://github.com/CSSEGISandData/COVID-19.git'\n",
    "\n",
    "if(os.path.isdir('csse_covid_19_data')):\n",
    "  # Assume we are in a cloned git repository\n",
    "  subprocess.run(['git','remote','add','CSSEGISandData',datasource])\n",
    "  subprocess.run(['git','fetch','CSSEGISandData'])\n",
    "  subprocess.run(['git','merge','CSSEGISandData/master'])\n",
    "  print('Data merged')\n",
    "else:\n",
    "  # Assume no data has been downloaded\n",
    "  subprocess.run(['git','clone',datasource])\n",
    "  os.chdir('COVID-19')\n",
    "  print('Data cloned')"
   ]
  },
  {
   "cell_type": "code",
   "execution_count": 4,
   "metadata": {
    "colab": {
     "base_uri": "https://localhost:8080/",
     "height": 51
    },
    "colab_type": "code",
    "id": "75O7jZj_v9Kq",
    "outputId": "e883fc34-6589-48ac-9198-dd95ba59c0e7"
   },
   "outputs": [],
   "source": [
    "covid19_dir = os.getcwd();\n",
    "ts_file = os.path.join(\n",
    "    covid19_dir,\n",
    "    'csse_covid_19_data',\n",
    "    'csse_covid_19_time_series',\n",
    "    'time_series_19-covid-{series}.csv'.format(series=series)    \n",
    ")\n",
    "[\n",
    "    covid19_dir,\n",
    "    ts_file\n",
    "];"
   ]
  },
  {
   "cell_type": "code",
   "execution_count": 5,
   "metadata": {
    "colab": {},
    "colab_type": "code",
    "id": "CHs6nMFvv9K1"
   },
   "outputs": [],
   "source": [
    "with open(ts_file, 'r') as csvfile:\n",
    "    tsreader = csv.DictReader(csvfile)\n",
    "    ts_data = list(tsreader)"
   ]
  },
  {
   "cell_type": "code",
   "execution_count": 6,
   "metadata": {
    "colab": {
     "base_uri": "https://localhost:8080/",
     "height": 473
    },
    "colab_type": "code",
    "id": "JuiXm-wav9K6",
    "outputId": "8b0eaf72-a1c4-4fcf-bc66-2ed1143846f8"
   },
   "outputs": [
    {
     "data": {
      "text/html": [
       "<div>\n",
       "<style scoped>\n",
       "    .dataframe tbody tr th:only-of-type {\n",
       "        vertical-align: middle;\n",
       "    }\n",
       "\n",
       "    .dataframe tbody tr th {\n",
       "        vertical-align: top;\n",
       "    }\n",
       "\n",
       "    .dataframe thead th {\n",
       "        text-align: right;\n",
       "    }\n",
       "</style>\n",
       "<table border=\"1\" class=\"dataframe\">\n",
       "  <thead>\n",
       "    <tr style=\"text-align: right;\">\n",
       "      <th></th>\n",
       "      <th>Province/State</th>\n",
       "      <th>Country/Region</th>\n",
       "      <th>Lat</th>\n",
       "      <th>Long</th>\n",
       "      <th>1/22/20</th>\n",
       "      <th>1/23/20</th>\n",
       "      <th>1/24/20</th>\n",
       "      <th>1/25/20</th>\n",
       "      <th>1/26/20</th>\n",
       "      <th>1/27/20</th>\n",
       "      <th>...</th>\n",
       "      <th>3/8/20</th>\n",
       "      <th>3/9/20</th>\n",
       "      <th>3/10/20</th>\n",
       "      <th>3/11/20</th>\n",
       "      <th>3/12/20</th>\n",
       "      <th>3/13/20</th>\n",
       "      <th>3/14/20</th>\n",
       "      <th>3/15/20</th>\n",
       "      <th>3/16/20</th>\n",
       "      <th>3/17/20</th>\n",
       "    </tr>\n",
       "  </thead>\n",
       "  <tbody>\n",
       "    <tr>\n",
       "      <th>0</th>\n",
       "      <td>NaN</td>\n",
       "      <td>Thailand</td>\n",
       "      <td>15.0000</td>\n",
       "      <td>101.0000</td>\n",
       "      <td>2</td>\n",
       "      <td>3</td>\n",
       "      <td>5</td>\n",
       "      <td>7</td>\n",
       "      <td>8</td>\n",
       "      <td>8</td>\n",
       "      <td>...</td>\n",
       "      <td>50</td>\n",
       "      <td>50</td>\n",
       "      <td>53</td>\n",
       "      <td>59</td>\n",
       "      <td>70</td>\n",
       "      <td>75</td>\n",
       "      <td>82</td>\n",
       "      <td>114</td>\n",
       "      <td>147</td>\n",
       "      <td>177</td>\n",
       "    </tr>\n",
       "    <tr>\n",
       "      <th>1</th>\n",
       "      <td>NaN</td>\n",
       "      <td>Japan</td>\n",
       "      <td>36.0000</td>\n",
       "      <td>138.0000</td>\n",
       "      <td>2</td>\n",
       "      <td>1</td>\n",
       "      <td>2</td>\n",
       "      <td>2</td>\n",
       "      <td>4</td>\n",
       "      <td>4</td>\n",
       "      <td>...</td>\n",
       "      <td>502</td>\n",
       "      <td>511</td>\n",
       "      <td>581</td>\n",
       "      <td>639</td>\n",
       "      <td>639</td>\n",
       "      <td>701</td>\n",
       "      <td>773</td>\n",
       "      <td>839</td>\n",
       "      <td>825</td>\n",
       "      <td>878</td>\n",
       "    </tr>\n",
       "    <tr>\n",
       "      <th>2</th>\n",
       "      <td>NaN</td>\n",
       "      <td>Singapore</td>\n",
       "      <td>1.2833</td>\n",
       "      <td>103.8333</td>\n",
       "      <td>0</td>\n",
       "      <td>1</td>\n",
       "      <td>3</td>\n",
       "      <td>3</td>\n",
       "      <td>4</td>\n",
       "      <td>5</td>\n",
       "      <td>...</td>\n",
       "      <td>150</td>\n",
       "      <td>150</td>\n",
       "      <td>160</td>\n",
       "      <td>178</td>\n",
       "      <td>178</td>\n",
       "      <td>200</td>\n",
       "      <td>212</td>\n",
       "      <td>226</td>\n",
       "      <td>243</td>\n",
       "      <td>266</td>\n",
       "    </tr>\n",
       "    <tr>\n",
       "      <th>3</th>\n",
       "      <td>NaN</td>\n",
       "      <td>Nepal</td>\n",
       "      <td>28.1667</td>\n",
       "      <td>84.2500</td>\n",
       "      <td>0</td>\n",
       "      <td>0</td>\n",
       "      <td>0</td>\n",
       "      <td>1</td>\n",
       "      <td>1</td>\n",
       "      <td>1</td>\n",
       "      <td>...</td>\n",
       "      <td>1</td>\n",
       "      <td>1</td>\n",
       "      <td>1</td>\n",
       "      <td>1</td>\n",
       "      <td>1</td>\n",
       "      <td>1</td>\n",
       "      <td>1</td>\n",
       "      <td>1</td>\n",
       "      <td>1</td>\n",
       "      <td>1</td>\n",
       "    </tr>\n",
       "    <tr>\n",
       "      <th>4</th>\n",
       "      <td>NaN</td>\n",
       "      <td>Malaysia</td>\n",
       "      <td>2.5000</td>\n",
       "      <td>112.5000</td>\n",
       "      <td>0</td>\n",
       "      <td>0</td>\n",
       "      <td>0</td>\n",
       "      <td>3</td>\n",
       "      <td>4</td>\n",
       "      <td>4</td>\n",
       "      <td>...</td>\n",
       "      <td>99</td>\n",
       "      <td>117</td>\n",
       "      <td>129</td>\n",
       "      <td>149</td>\n",
       "      <td>149</td>\n",
       "      <td>197</td>\n",
       "      <td>238</td>\n",
       "      <td>428</td>\n",
       "      <td>566</td>\n",
       "      <td>673</td>\n",
       "    </tr>\n",
       "    <tr>\n",
       "      <th>...</th>\n",
       "      <td>...</td>\n",
       "      <td>...</td>\n",
       "      <td>...</td>\n",
       "      <td>...</td>\n",
       "      <td>...</td>\n",
       "      <td>...</td>\n",
       "      <td>...</td>\n",
       "      <td>...</td>\n",
       "      <td>...</td>\n",
       "      <td>...</td>\n",
       "      <td>...</td>\n",
       "      <td>...</td>\n",
       "      <td>...</td>\n",
       "      <td>...</td>\n",
       "      <td>...</td>\n",
       "      <td>...</td>\n",
       "      <td>...</td>\n",
       "      <td>...</td>\n",
       "      <td>...</td>\n",
       "      <td>...</td>\n",
       "      <td>...</td>\n",
       "    </tr>\n",
       "    <tr>\n",
       "      <th>455</th>\n",
       "      <td>Cayman Islands</td>\n",
       "      <td>United Kingdom</td>\n",
       "      <td>19.3133</td>\n",
       "      <td>-81.2546</td>\n",
       "      <td>0</td>\n",
       "      <td>0</td>\n",
       "      <td>0</td>\n",
       "      <td>0</td>\n",
       "      <td>0</td>\n",
       "      <td>0</td>\n",
       "      <td>...</td>\n",
       "      <td>0</td>\n",
       "      <td>0</td>\n",
       "      <td>0</td>\n",
       "      <td>0</td>\n",
       "      <td>0</td>\n",
       "      <td>1</td>\n",
       "      <td>1</td>\n",
       "      <td>1</td>\n",
       "      <td>1</td>\n",
       "      <td>1</td>\n",
       "    </tr>\n",
       "    <tr>\n",
       "      <th>456</th>\n",
       "      <td>Reunion</td>\n",
       "      <td>France</td>\n",
       "      <td>-21.1351</td>\n",
       "      <td>55.2471</td>\n",
       "      <td>0</td>\n",
       "      <td>0</td>\n",
       "      <td>0</td>\n",
       "      <td>0</td>\n",
       "      <td>0</td>\n",
       "      <td>0</td>\n",
       "      <td>...</td>\n",
       "      <td>0</td>\n",
       "      <td>0</td>\n",
       "      <td>0</td>\n",
       "      <td>1</td>\n",
       "      <td>1</td>\n",
       "      <td>5</td>\n",
       "      <td>6</td>\n",
       "      <td>7</td>\n",
       "      <td>9</td>\n",
       "      <td>9</td>\n",
       "    </tr>\n",
       "    <tr>\n",
       "      <th>457</th>\n",
       "      <td>NaN</td>\n",
       "      <td>Barbados</td>\n",
       "      <td>13.1939</td>\n",
       "      <td>-59.5432</td>\n",
       "      <td>0</td>\n",
       "      <td>0</td>\n",
       "      <td>0</td>\n",
       "      <td>0</td>\n",
       "      <td>0</td>\n",
       "      <td>0</td>\n",
       "      <td>...</td>\n",
       "      <td>0</td>\n",
       "      <td>0</td>\n",
       "      <td>0</td>\n",
       "      <td>0</td>\n",
       "      <td>0</td>\n",
       "      <td>0</td>\n",
       "      <td>0</td>\n",
       "      <td>0</td>\n",
       "      <td>0</td>\n",
       "      <td>2</td>\n",
       "    </tr>\n",
       "    <tr>\n",
       "      <th>458</th>\n",
       "      <td>NaN</td>\n",
       "      <td>Montenegro</td>\n",
       "      <td>42.5000</td>\n",
       "      <td>19.3000</td>\n",
       "      <td>0</td>\n",
       "      <td>0</td>\n",
       "      <td>0</td>\n",
       "      <td>0</td>\n",
       "      <td>0</td>\n",
       "      <td>0</td>\n",
       "      <td>...</td>\n",
       "      <td>0</td>\n",
       "      <td>0</td>\n",
       "      <td>0</td>\n",
       "      <td>0</td>\n",
       "      <td>0</td>\n",
       "      <td>0</td>\n",
       "      <td>0</td>\n",
       "      <td>0</td>\n",
       "      <td>0</td>\n",
       "      <td>2</td>\n",
       "    </tr>\n",
       "    <tr>\n",
       "      <th>459</th>\n",
       "      <td>NaN</td>\n",
       "      <td>The Gambia</td>\n",
       "      <td>13.4667</td>\n",
       "      <td>-16.6000</td>\n",
       "      <td>0</td>\n",
       "      <td>0</td>\n",
       "      <td>0</td>\n",
       "      <td>0</td>\n",
       "      <td>0</td>\n",
       "      <td>0</td>\n",
       "      <td>...</td>\n",
       "      <td>0</td>\n",
       "      <td>0</td>\n",
       "      <td>0</td>\n",
       "      <td>0</td>\n",
       "      <td>0</td>\n",
       "      <td>0</td>\n",
       "      <td>0</td>\n",
       "      <td>0</td>\n",
       "      <td>0</td>\n",
       "      <td>1</td>\n",
       "    </tr>\n",
       "  </tbody>\n",
       "</table>\n",
       "<p>460 rows × 60 columns</p>\n",
       "</div>"
      ],
      "text/plain": [
       "     Province/State  Country/Region      Lat      Long  1/22/20  1/23/20  \\\n",
       "0               NaN        Thailand  15.0000  101.0000        2        3   \n",
       "1               NaN           Japan  36.0000  138.0000        2        1   \n",
       "2               NaN       Singapore   1.2833  103.8333        0        1   \n",
       "3               NaN           Nepal  28.1667   84.2500        0        0   \n",
       "4               NaN        Malaysia   2.5000  112.5000        0        0   \n",
       "..              ...             ...      ...       ...      ...      ...   \n",
       "455  Cayman Islands  United Kingdom  19.3133  -81.2546        0        0   \n",
       "456         Reunion          France -21.1351   55.2471        0        0   \n",
       "457             NaN        Barbados  13.1939  -59.5432        0        0   \n",
       "458             NaN      Montenegro  42.5000   19.3000        0        0   \n",
       "459             NaN      The Gambia  13.4667  -16.6000        0        0   \n",
       "\n",
       "     1/24/20  1/25/20  1/26/20  1/27/20  ...  3/8/20  3/9/20  3/10/20  \\\n",
       "0          5        7        8        8  ...      50      50       53   \n",
       "1          2        2        4        4  ...     502     511      581   \n",
       "2          3        3        4        5  ...     150     150      160   \n",
       "3          0        1        1        1  ...       1       1        1   \n",
       "4          0        3        4        4  ...      99     117      129   \n",
       "..       ...      ...      ...      ...  ...     ...     ...      ...   \n",
       "455        0        0        0        0  ...       0       0        0   \n",
       "456        0        0        0        0  ...       0       0        0   \n",
       "457        0        0        0        0  ...       0       0        0   \n",
       "458        0        0        0        0  ...       0       0        0   \n",
       "459        0        0        0        0  ...       0       0        0   \n",
       "\n",
       "     3/11/20  3/12/20  3/13/20  3/14/20  3/15/20  3/16/20  3/17/20  \n",
       "0         59       70       75       82      114      147      177  \n",
       "1        639      639      701      773      839      825      878  \n",
       "2        178      178      200      212      226      243      266  \n",
       "3          1        1        1        1        1        1        1  \n",
       "4        149      149      197      238      428      566      673  \n",
       "..       ...      ...      ...      ...      ...      ...      ...  \n",
       "455        0        0        1        1        1        1        1  \n",
       "456        1        1        5        6        7        9        9  \n",
       "457        0        0        0        0        0        0        2  \n",
       "458        0        0        0        0        0        0        2  \n",
       "459        0        0        0        0        0        0        1  \n",
       "\n",
       "[460 rows x 60 columns]"
      ]
     },
     "execution_count": 6,
     "metadata": {},
     "output_type": "execute_result"
    }
   ],
   "source": [
    "ts_frame = pd.read_csv(ts_file, parse_dates=True, date_parser=pd.to_datetime)\n",
    "ts_frame"
   ]
  },
  {
   "cell_type": "code",
   "execution_count": 7,
   "metadata": {
    "colab": {
     "base_uri": "https://localhost:8080/",
     "height": 1000
    },
    "colab_type": "code",
    "id": "JZR84GiPv9LA",
    "outputId": "77b3b2f3-b139-4168-c3fd-754d4d65713d"
   },
   "outputs": [],
   "source": [
    "list(ts_frame.loc[:,'Country/Region']);"
   ]
  },
  {
   "cell_type": "code",
   "execution_count": 8,
   "metadata": {
    "colab": {
     "base_uri": "https://localhost:8080/",
     "height": 221
    },
    "colab_type": "code",
    "id": "W2QKhKhTv9LF",
    "outputId": "6473d076-c3b1-4070-cf14-4a7595c5acc8"
   },
   "outputs": [],
   "source": [
    "nationrows = ts_frame.loc[:, 'Country/Region'] == nation\n",
    "nationrows;"
   ]
  },
  {
   "cell_type": "code",
   "execution_count": 9,
   "metadata": {
    "colab": {
     "base_uri": "https://localhost:8080/",
     "height": 439
    },
    "colab_type": "code",
    "id": "bLtcFxNmv9LK",
    "outputId": "dc2b232f-ef3d-4c48-8ca6-7d59502b15f3"
   },
   "outputs": [
    {
     "data": {
      "text/html": [
       "<div>\n",
       "<style scoped>\n",
       "    .dataframe tbody tr th:only-of-type {\n",
       "        vertical-align: middle;\n",
       "    }\n",
       "\n",
       "    .dataframe tbody tr th {\n",
       "        vertical-align: top;\n",
       "    }\n",
       "\n",
       "    .dataframe thead th {\n",
       "        text-align: right;\n",
       "    }\n",
       "</style>\n",
       "<table border=\"1\" class=\"dataframe\">\n",
       "  <thead>\n",
       "    <tr style=\"text-align: right;\">\n",
       "      <th></th>\n",
       "      <th>Province/State</th>\n",
       "      <th>Country/Region</th>\n",
       "      <th>Lat</th>\n",
       "      <th>Long</th>\n",
       "      <th>1/22/20</th>\n",
       "      <th>1/23/20</th>\n",
       "      <th>1/24/20</th>\n",
       "      <th>1/25/20</th>\n",
       "      <th>1/26/20</th>\n",
       "      <th>1/27/20</th>\n",
       "      <th>...</th>\n",
       "      <th>3/8/20</th>\n",
       "      <th>3/9/20</th>\n",
       "      <th>3/10/20</th>\n",
       "      <th>3/11/20</th>\n",
       "      <th>3/12/20</th>\n",
       "      <th>3/13/20</th>\n",
       "      <th>3/14/20</th>\n",
       "      <th>3/15/20</th>\n",
       "      <th>3/16/20</th>\n",
       "      <th>3/17/20</th>\n",
       "    </tr>\n",
       "  </thead>\n",
       "  <tbody>\n",
       "    <tr>\n",
       "      <th>98</th>\n",
       "      <td>Washington</td>\n",
       "      <td>US</td>\n",
       "      <td>47.4009</td>\n",
       "      <td>-121.4905</td>\n",
       "      <td>0</td>\n",
       "      <td>0</td>\n",
       "      <td>0</td>\n",
       "      <td>0</td>\n",
       "      <td>0</td>\n",
       "      <td>0</td>\n",
       "      <td>...</td>\n",
       "      <td>0</td>\n",
       "      <td>0</td>\n",
       "      <td>267</td>\n",
       "      <td>366</td>\n",
       "      <td>442</td>\n",
       "      <td>568</td>\n",
       "      <td>572</td>\n",
       "      <td>643</td>\n",
       "      <td>904</td>\n",
       "      <td>1076</td>\n",
       "    </tr>\n",
       "    <tr>\n",
       "      <th>99</th>\n",
       "      <td>New York</td>\n",
       "      <td>US</td>\n",
       "      <td>42.1657</td>\n",
       "      <td>-74.9481</td>\n",
       "      <td>0</td>\n",
       "      <td>0</td>\n",
       "      <td>0</td>\n",
       "      <td>0</td>\n",
       "      <td>0</td>\n",
       "      <td>0</td>\n",
       "      <td>...</td>\n",
       "      <td>0</td>\n",
       "      <td>0</td>\n",
       "      <td>173</td>\n",
       "      <td>220</td>\n",
       "      <td>328</td>\n",
       "      <td>421</td>\n",
       "      <td>525</td>\n",
       "      <td>732</td>\n",
       "      <td>967</td>\n",
       "      <td>1706</td>\n",
       "    </tr>\n",
       "    <tr>\n",
       "      <th>100</th>\n",
       "      <td>California</td>\n",
       "      <td>US</td>\n",
       "      <td>36.1162</td>\n",
       "      <td>-119.6816</td>\n",
       "      <td>0</td>\n",
       "      <td>0</td>\n",
       "      <td>0</td>\n",
       "      <td>0</td>\n",
       "      <td>0</td>\n",
       "      <td>0</td>\n",
       "      <td>...</td>\n",
       "      <td>0</td>\n",
       "      <td>0</td>\n",
       "      <td>144</td>\n",
       "      <td>177</td>\n",
       "      <td>221</td>\n",
       "      <td>282</td>\n",
       "      <td>340</td>\n",
       "      <td>426</td>\n",
       "      <td>557</td>\n",
       "      <td>698</td>\n",
       "    </tr>\n",
       "    <tr>\n",
       "      <th>101</th>\n",
       "      <td>Massachusetts</td>\n",
       "      <td>US</td>\n",
       "      <td>42.2302</td>\n",
       "      <td>-71.5301</td>\n",
       "      <td>0</td>\n",
       "      <td>0</td>\n",
       "      <td>0</td>\n",
       "      <td>0</td>\n",
       "      <td>0</td>\n",
       "      <td>0</td>\n",
       "      <td>...</td>\n",
       "      <td>0</td>\n",
       "      <td>0</td>\n",
       "      <td>92</td>\n",
       "      <td>95</td>\n",
       "      <td>108</td>\n",
       "      <td>123</td>\n",
       "      <td>138</td>\n",
       "      <td>164</td>\n",
       "      <td>197</td>\n",
       "      <td>218</td>\n",
       "    </tr>\n",
       "    <tr>\n",
       "      <th>102</th>\n",
       "      <td>Diamond Princess</td>\n",
       "      <td>US</td>\n",
       "      <td>35.4437</td>\n",
       "      <td>139.6380</td>\n",
       "      <td>0</td>\n",
       "      <td>0</td>\n",
       "      <td>0</td>\n",
       "      <td>0</td>\n",
       "      <td>0</td>\n",
       "      <td>0</td>\n",
       "      <td>...</td>\n",
       "      <td>45</td>\n",
       "      <td>45</td>\n",
       "      <td>46</td>\n",
       "      <td>46</td>\n",
       "      <td>46</td>\n",
       "      <td>46</td>\n",
       "      <td>46</td>\n",
       "      <td>46</td>\n",
       "      <td>47</td>\n",
       "      <td>47</td>\n",
       "    </tr>\n",
       "    <tr>\n",
       "      <th>...</th>\n",
       "      <td>...</td>\n",
       "      <td>...</td>\n",
       "      <td>...</td>\n",
       "      <td>...</td>\n",
       "      <td>...</td>\n",
       "      <td>...</td>\n",
       "      <td>...</td>\n",
       "      <td>...</td>\n",
       "      <td>...</td>\n",
       "      <td>...</td>\n",
       "      <td>...</td>\n",
       "      <td>...</td>\n",
       "      <td>...</td>\n",
       "      <td>...</td>\n",
       "      <td>...</td>\n",
       "      <td>...</td>\n",
       "      <td>...</td>\n",
       "      <td>...</td>\n",
       "      <td>...</td>\n",
       "      <td>...</td>\n",
       "      <td>...</td>\n",
       "    </tr>\n",
       "    <tr>\n",
       "      <th>399</th>\n",
       "      <td>New Castle, DE</td>\n",
       "      <td>US</td>\n",
       "      <td>39.5393</td>\n",
       "      <td>-75.6674</td>\n",
       "      <td>0</td>\n",
       "      <td>0</td>\n",
       "      <td>0</td>\n",
       "      <td>0</td>\n",
       "      <td>0</td>\n",
       "      <td>0</td>\n",
       "      <td>...</td>\n",
       "      <td>0</td>\n",
       "      <td>0</td>\n",
       "      <td>0</td>\n",
       "      <td>0</td>\n",
       "      <td>0</td>\n",
       "      <td>0</td>\n",
       "      <td>0</td>\n",
       "      <td>0</td>\n",
       "      <td>0</td>\n",
       "      <td>0</td>\n",
       "    </tr>\n",
       "    <tr>\n",
       "      <th>415</th>\n",
       "      <td>Alabama</td>\n",
       "      <td>US</td>\n",
       "      <td>32.3182</td>\n",
       "      <td>-86.9023</td>\n",
       "      <td>0</td>\n",
       "      <td>0</td>\n",
       "      <td>0</td>\n",
       "      <td>0</td>\n",
       "      <td>0</td>\n",
       "      <td>0</td>\n",
       "      <td>...</td>\n",
       "      <td>0</td>\n",
       "      <td>0</td>\n",
       "      <td>0</td>\n",
       "      <td>0</td>\n",
       "      <td>0</td>\n",
       "      <td>5</td>\n",
       "      <td>6</td>\n",
       "      <td>12</td>\n",
       "      <td>29</td>\n",
       "      <td>39</td>\n",
       "    </tr>\n",
       "    <tr>\n",
       "      <th>418</th>\n",
       "      <td>Puerto Rico</td>\n",
       "      <td>US</td>\n",
       "      <td>18.2208</td>\n",
       "      <td>-66.5901</td>\n",
       "      <td>0</td>\n",
       "      <td>0</td>\n",
       "      <td>0</td>\n",
       "      <td>0</td>\n",
       "      <td>0</td>\n",
       "      <td>0</td>\n",
       "      <td>...</td>\n",
       "      <td>0</td>\n",
       "      <td>0</td>\n",
       "      <td>0</td>\n",
       "      <td>0</td>\n",
       "      <td>0</td>\n",
       "      <td>0</td>\n",
       "      <td>3</td>\n",
       "      <td>5</td>\n",
       "      <td>5</td>\n",
       "      <td>5</td>\n",
       "    </tr>\n",
       "    <tr>\n",
       "      <th>434</th>\n",
       "      <td>Guam</td>\n",
       "      <td>US</td>\n",
       "      <td>13.4443</td>\n",
       "      <td>144.7937</td>\n",
       "      <td>0</td>\n",
       "      <td>0</td>\n",
       "      <td>0</td>\n",
       "      <td>0</td>\n",
       "      <td>0</td>\n",
       "      <td>0</td>\n",
       "      <td>...</td>\n",
       "      <td>0</td>\n",
       "      <td>0</td>\n",
       "      <td>0</td>\n",
       "      <td>0</td>\n",
       "      <td>0</td>\n",
       "      <td>0</td>\n",
       "      <td>0</td>\n",
       "      <td>3</td>\n",
       "      <td>3</td>\n",
       "      <td>3</td>\n",
       "    </tr>\n",
       "    <tr>\n",
       "      <th>454</th>\n",
       "      <td>Virgin Islands</td>\n",
       "      <td>US</td>\n",
       "      <td>18.3358</td>\n",
       "      <td>-64.8963</td>\n",
       "      <td>0</td>\n",
       "      <td>0</td>\n",
       "      <td>0</td>\n",
       "      <td>0</td>\n",
       "      <td>0</td>\n",
       "      <td>0</td>\n",
       "      <td>...</td>\n",
       "      <td>0</td>\n",
       "      <td>0</td>\n",
       "      <td>0</td>\n",
       "      <td>0</td>\n",
       "      <td>0</td>\n",
       "      <td>0</td>\n",
       "      <td>1</td>\n",
       "      <td>1</td>\n",
       "      <td>1</td>\n",
       "      <td>2</td>\n",
       "    </tr>\n",
       "  </tbody>\n",
       "</table>\n",
       "<p>247 rows × 60 columns</p>\n",
       "</div>"
      ],
      "text/plain": [
       "       Province/State Country/Region      Lat      Long  1/22/20  1/23/20  \\\n",
       "98         Washington             US  47.4009 -121.4905        0        0   \n",
       "99           New York             US  42.1657  -74.9481        0        0   \n",
       "100        California             US  36.1162 -119.6816        0        0   \n",
       "101     Massachusetts             US  42.2302  -71.5301        0        0   \n",
       "102  Diamond Princess             US  35.4437  139.6380        0        0   \n",
       "..                ...            ...      ...       ...      ...      ...   \n",
       "399    New Castle, DE             US  39.5393  -75.6674        0        0   \n",
       "415           Alabama             US  32.3182  -86.9023        0        0   \n",
       "418       Puerto Rico             US  18.2208  -66.5901        0        0   \n",
       "434              Guam             US  13.4443  144.7937        0        0   \n",
       "454    Virgin Islands             US  18.3358  -64.8963        0        0   \n",
       "\n",
       "     1/24/20  1/25/20  1/26/20  1/27/20  ...  3/8/20  3/9/20  3/10/20  \\\n",
       "98         0        0        0        0  ...       0       0      267   \n",
       "99         0        0        0        0  ...       0       0      173   \n",
       "100        0        0        0        0  ...       0       0      144   \n",
       "101        0        0        0        0  ...       0       0       92   \n",
       "102        0        0        0        0  ...      45      45       46   \n",
       "..       ...      ...      ...      ...  ...     ...     ...      ...   \n",
       "399        0        0        0        0  ...       0       0        0   \n",
       "415        0        0        0        0  ...       0       0        0   \n",
       "418        0        0        0        0  ...       0       0        0   \n",
       "434        0        0        0        0  ...       0       0        0   \n",
       "454        0        0        0        0  ...       0       0        0   \n",
       "\n",
       "     3/11/20  3/12/20  3/13/20  3/14/20  3/15/20  3/16/20  3/17/20  \n",
       "98       366      442      568      572      643      904     1076  \n",
       "99       220      328      421      525      732      967     1706  \n",
       "100      177      221      282      340      426      557      698  \n",
       "101       95      108      123      138      164      197      218  \n",
       "102       46       46       46       46       46       47       47  \n",
       "..       ...      ...      ...      ...      ...      ...      ...  \n",
       "399        0        0        0        0        0        0        0  \n",
       "415        0        0        5        6       12       29       39  \n",
       "418        0        0        0        3        5        5        5  \n",
       "434        0        0        0        0        3        3        3  \n",
       "454        0        0        0        1        1        1        2  \n",
       "\n",
       "[247 rows x 60 columns]"
      ]
     },
     "execution_count": 9,
     "metadata": {},
     "output_type": "execute_result"
    }
   ],
   "source": [
    "nation_frame = ts_frame[nationrows]\n",
    "nation_frame"
   ]
  },
  {
   "cell_type": "code",
   "execution_count": 10,
   "metadata": {
    "colab": {
     "base_uri": "https://localhost:8080/",
     "height": 1000
    },
    "colab_type": "code",
    "id": "Cu-m1WkEv9LP",
    "outputId": "df12aec5-71e9-414a-cf2d-e3040dcdfb60"
   },
   "outputs": [
    {
     "data": {
      "text/plain": [
       "3/11/20    1281\n",
       "3/12/20    1663\n",
       "3/13/20    2179\n",
       "3/14/20    2727\n",
       "3/15/20    3499\n",
       "3/16/20    4632\n",
       "3/17/20    6421\n",
       "dtype: object"
      ]
     },
     "execution_count": 10,
     "metadata": {},
     "output_type": "execute_result"
    }
   ],
   "source": [
    "nation_frame.aggregate(np.sum)[-7:]"
   ]
  },
  {
   "cell_type": "code",
   "execution_count": 11,
   "metadata": {
    "colab": {
     "base_uri": "https://localhost:8080/",
     "height": 952
    },
    "colab_type": "code",
    "id": "NljR3coEv9LT",
    "outputId": "a2f44f22-0347-46eb-c69d-5a0f59689427"
   },
   "outputs": [],
   "source": [
    "nation_series = nation_frame.agg(np.sum)[4:]\n",
    "[\n",
    "    type(nation_series),\n",
    "    nation_series\n",
    "];"
   ]
  },
  {
   "cell_type": "code",
   "execution_count": 12,
   "metadata": {
    "colab": {
     "base_uri": "https://localhost:8080/",
     "height": 1000
    },
    "colab_type": "code",
    "id": "JKsiYVMov9LX",
    "outputId": "d6db8eb8-b705-4dfa-cb16-d750d35d9766",
    "scrolled": false
   },
   "outputs": [],
   "source": [
    "strdates = nation_series.keys()\n",
    "dates = [pd.to_datetime(sd) for sd in strdates]\n",
    "[\n",
    "    type(strdates),\n",
    "    strdates,\n",
    "    type(dates),\n",
    "    dates,\n",
    "    np.array(nation_series[:])\n",
    "];"
   ]
  },
  {
   "cell_type": "code",
   "execution_count": 13,
   "metadata": {
    "colab": {
     "base_uri": "https://localhost:8080/",
     "height": 281
    },
    "colab_type": "code",
    "id": "-BZIXgzXv9Lb",
    "outputId": "b39d893a-0b21-41bc-ee12-08f254d0a70a"
   },
   "outputs": [
    {
     "data": {
      "image/png": "[encoded data removed]",
      "text/plain": [
       "<Figure size 432x288 with 1 Axes>"
      ]
     },
     "metadata": {
      "needs_background": "light"
     },
     "output_type": "display_data"
    }
   ],
   "source": [
    "nation_series.plot(\n",
    "    logy=True, \n",
    "    title=f'Cumulative {series}: {nation}'\n",
    ")\n",
    "plt.grid(True)"
   ]
  },
  {
   "cell_type": "code",
   "execution_count": 14,
   "metadata": {},
   "outputs": [
    {
     "data": {
      "text/plain": [
       "dict_keys(['Confirmed', 'Deaths', 'Recovered'])"
      ]
     },
     "execution_count": 14,
     "metadata": {},
     "output_type": "execute_result"
    }
   ],
   "source": [
    "# Load series into a dict of pandas dataframes\n",
    "series_options = ['Confirmed','Deaths','Recovered']\n",
    "series_frames = dict();\n",
    "for series in series_options:\n",
    "  ts_file = os.path.join(\n",
    "    covid19_dir,\n",
    "    'csse_covid_19_data',\n",
    "    'csse_covid_19_time_series',\n",
    "    f'time_series_19-covid-{series}.csv'    \n",
    "  )\n",
    "  series_frames[series] = pd.read_csv(ts_file, parse_dates=True, date_parser=pd.to_datetime)\n",
    "    \n",
    "series_frames.keys()"
   ]
  },
  {
   "cell_type": "code",
   "execution_count": 15,
   "metadata": {},
   "outputs": [],
   "source": [
    "nation_series_cache = dict()\n",
    "def get_nation_series(nation,series):\n",
    "  if nation in nation_series_cache and series in nation_series_cache[nation]:\n",
    "    nation_series = nation_series_cache[nation][series]\n",
    "  else:\n",
    "    ts_frame = series_frames[series]\n",
    "    nationrows = ts_frame.loc[:, 'Country/Region'] == nation\n",
    "    nation_frame = ts_frame[nationrows]\n",
    "    nation_series = nation_frame.agg(np.sum)[4:]\n",
    "    if nation not in nation_series_cache:\n",
    "        nation_series_cache[nation] = dict()\n",
    "    nation_series_cache[nation][series] = nation_series\n",
    "\n",
    "  strdates = nation_series.keys()\n",
    "  dates = [pd.to_datetime(sd) for sd in strdates]\n",
    "\n",
    "  return (nation_series,dates)"
   ]
  },
  {
   "cell_type": "code",
   "execution_count": 16,
   "metadata": {
    "colab": {
     "base_uri": "https://localhost:8080/",
     "height": 573
    },
    "colab_type": "code",
    "id": "ZA6DjYNgxQcd",
    "outputId": "a5781d9c-3078-46a3-b457-4586927fba32"
   },
   "outputs": [
    {
     "data": {
      "image/png": "[encoded data removed]",
      "text/plain": [
       "<Figure size 432x288 with 1 Axes>"
      ]
     },
     "metadata": {
      "needs_background": "light"
     },
     "output_type": "display_data"
    },
    {
     "data": {
      "image/png": "[encoded data removed]",
      "text/plain": [
       "<Figure size 432x288 with 1 Axes>"
      ]
     },
     "metadata": {
      "needs_background": "light"
     },
     "output_type": "display_data"
    }
   ],
   "source": [
    "nations = sorted(ts_frame.loc[:,'Country/Region'].unique())\n",
    "#series_options = ['Confirmed','Deaths','Recovered']\n",
    "#series_options = [re.match(r'time_series_19-covid-(.*).csv',file)[1] for file in os.listdir(os.path.join(\n",
    "#    covid19_dir,\n",
    "#    'csse_covid_19_data',\n",
    "#    'csse_covid_19_time_series'))\n",
    "#  if re.match(r'time_series_19-covid-(.*).csv',file)\n",
    "#]\n",
    "\n",
    "# Plot a single series combining all the code above\n",
    "\n",
    "def plot_single_series(nation,series):\n",
    "  nation_series, dates = get_nation_series(nation,series)\n",
    "  nation_series.plot(\n",
    "      logy=True, \n",
    "      title=f'Cumulative {series}: {nation}'\n",
    "  )\n",
    "  plt.grid(True)\n",
    "  plt.ylabel(series)\n",
    "  plt.xlabel('Date')\n",
    "  plt.legend([series])\n",
    "\n",
    "# Plot all the series\n",
    "def plot_all_series(nation):\n",
    "  for series in series_options:\n",
    "    plot_single_series(nation,series)\n",
    "  plt.ylabel('Cases')\n",
    "  plt.legend(series_options)\n",
    "  plt.title(f'Cumulative: {nation}')\n",
    "\n",
    "plt.figure()\n",
    "plot_single_series(nation,series)\n",
    "\n",
    "plt.figure()\n",
    "plot_all_series(nation)"
   ]
  },
  {
   "cell_type": "code",
   "execution_count": 17,
   "metadata": {
    "colab": {
     "base_uri": "https://localhost:8080/",
     "height": 359,
     "referenced_widgets": [
      "145e25557332486ea8495b986f666c76",
      "a5497f5c79a940bc9f82ebb023ab1e59",
      "883264ffe9f248fc86d19143f0c0eea3",
      "0630fc9f1da94f6ab4748b17456e3e84",
      "c238f38a8683494c9cdd8b37484540ee",
      "d61af3937cb4447bbbef9a7cdbb97357",
      "ce5081fdfb4f4aa88c6516bfca3305d8",
      "9990de9e25274567a9b20a0a450b774e",
      "8452ca7e83af4a3ba358385d6292c8c5"
     ]
    },
    "colab_type": "code",
    "id": "LGtmyYsQFya_",
    "outputId": "ec8c1ca1-03be-437f-a571-38556fa1f3de"
   },
   "outputs": [
    {
     "data": {
      "application/vnd.jupyter.widget-view+json": {
       "model_id": "8bc4adefe6534858a2157376ec004424",
       "version_major": 2,
       "version_minor": 0
      },
      "text/plain": [
       "interactive(children=(Dropdown(description='Nation: ', index=144, options=('Afghanistan', 'Albania', 'Algeria'…"
      ]
     },
     "metadata": {},
     "output_type": "display_data"
    }
   ],
   "source": [
    "from ipywidgets import interactive\n",
    "import ipywidgets as widgets\n",
    "\n",
    "nations_widget = widgets.Dropdown(\n",
    "    options = nations,\n",
    "    value = nation,\n",
    "    description = \"Nation: \"\n",
    ")\n",
    "\n",
    "interactive(plot_single_series,nation=nations_widget,series=series_options)"
   ]
  },
  {
   "cell_type": "code",
   "execution_count": 18,
   "metadata": {
    "colab": {
     "base_uri": "https://localhost:8080/",
     "height": 327,
     "referenced_widgets": [
      "f5fc0bf80f8f4ae8b3a709341dc018b5",
      "fdbbb36dba8e43d99b126443f0d58829",
      "883264ffe9f248fc86d19143f0c0eea3",
      "a22662d4591b40daae38a18ac0c1d86b",
      "d61af3937cb4447bbbef9a7cdbb97357",
      "ce5081fdfb4f4aa88c6516bfca3305d8"
     ]
    },
    "colab_type": "code",
    "id": "DwZZW_0FHShG",
    "outputId": "3194a70d-4459-4f59-84c0-5f842f4dfc64"
   },
   "outputs": [
    {
     "data": {
      "application/vnd.jupyter.widget-view+json": {
       "model_id": "8eec52c21a85473baec31e628874388d",
       "version_major": 2,
       "version_minor": 0
      },
      "text/plain": [
       "interactive(children=(Dropdown(description='Nation: ', index=144, options=('Afghanistan', 'Albania', 'Algeria'…"
      ]
     },
     "metadata": {},
     "output_type": "display_data"
    }
   ],
   "source": [
    "interactive(plot_all_series,nation=nations_widget)"
   ]
  },
  {
   "cell_type": "markdown",
   "metadata": {
    "colab_type": "text",
    "id": "1uXpgthnYKLH"
   },
   "source": [
    "# Rate Estimation\n",
    "\n",
    "We would like to measure rates to understand how quickly the number of cases is increasing or decreasing. We expect the rate to be exponential, so our interest is in the slope of log plots above. We would also like to know these slopes over time.\n",
    "\n",
    "Because the data is noisy, some fitting is required. Here I have chosen to do a spline fit. Once the spline fit is obtained, obtaining the derivatives is straightforward.\n",
    "\n",
    "The derivative of the log of a function is the derivative of the function over the value of the function. For this data, this would give us how the rate of increase of cases compares to the number of cases."
   ]
  },
  {
   "cell_type": "code",
   "execution_count": 19,
   "metadata": {
    "colab": {},
    "colab_type": "code",
    "id": "MUPuOY5hJRcT"
   },
   "outputs": [],
   "source": [
    "from scipy.interpolate import UnivariateSpline \n",
    "from scipy.interpolate import LSQUnivariateSpline\n",
    "\n",
    "x = np.arange(nation_series.shape[0])\n",
    "y = np.log10(np.float64(nation_series)+1)\n",
    "knot_interval = 14;\n",
    "t = np.flip(np.arange(nation_series.shape[0]-knot_interval,0,-knot_interval))\n",
    "# Weight the last days by a factor of 10\n",
    "w = np.ones_like(y)\n",
    "w[-4:] = 10\n",
    "nation_sp = UnivariateSpline(x,y,w)\n",
    "nation_lsq_sp = LSQUnivariateSpline(x,y,t,w=w)\n",
    "nation_sp_deriv = nation_sp.derivative(1)\n",
    "nation_lsq_sp_deriv = nation_lsq_sp.derivative(1)"
   ]
  },
  {
   "cell_type": "code",
   "execution_count": 20,
   "metadata": {
    "colab": {
     "base_uri": "https://localhost:8080/",
     "height": 868
    },
    "colab_type": "code",
    "id": "QJ7lw4j5OsTt",
    "outputId": "e2642612-346b-4132-ae67-bf748fdf2ed9"
   },
   "outputs": [
    {
     "data": {
      "text/plain": [
       "<matplotlib.legend.Legend at 0x7f8806df7810>"
      ]
     },
     "execution_count": 20,
     "metadata": {},
     "output_type": "execute_result"
    },
    {
     "data": {
      "image/png": "[encoded data removed]",
      "text/plain": [
       "<Figure size 432x288 with 1 Axes>"
      ]
     },
     "metadata": {
      "needs_background": "light"
     },
     "output_type": "display_data"
    },
    {
     "data": {
      "image/png": "[encoded data removed]",
      "text/plain": [
       "<Figure size 432x288 with 1 Axes>"
      ]
     },
     "metadata": {
      "needs_background": "light"
     },
     "output_type": "display_data"
    },
    {
     "data": {
      "image/png": "[encoded data removed]",
      "text/plain": [
       "<Figure size 432x288 with 1 Axes>"
      ]
     },
     "metadata": {
      "needs_background": "light"
     },
     "output_type": "display_data"
    }
   ],
   "source": [
    "plt.figure()\n",
    "plt.plot(x,nation_sp(x))\n",
    "plt.plot(x,nation_lsq_sp(x))\n",
    "plt.plot(x,y,'--')\n",
    "plt.grid(True)\n",
    "plt.title(f'Spline Fit of {nation} Data')\n",
    "plt.ylabel('log10(Confirmed Cases + 1)')\n",
    "plt.xlabel('Days')\n",
    "plt.legend(['UnivariateSpline','LSQUnivariateSpline','Actual'])\n",
    "\n",
    "\n",
    "plt.figure()\n",
    "plt.plot(x,nation_sp_deriv(x)*np.log(10))\n",
    "plt.plot(x,nation_lsq_sp_deriv(x)*np.log(10))\n",
    "plt.grid(True)\n",
    "plt.title(f'Derivative of Spline Fit of {nation} Data')\n",
    "plt.xlabel('Days')\n",
    "plt.ylabel('d log10(Confirmed Cases + 1)/d days * log(10)')\n",
    "plt.legend(['UnivariateSpline','LSQUnivariateSpline'])\n",
    "\n",
    "plt.figure()\n",
    "plt.plot(x,np.log(2)/(nation_sp_deriv(x)*np.log(10)))\n",
    "plt.plot(x,np.log(2)/(nation_lsq_sp_deriv(x)*np.log(10)))\n",
    "plt.grid(True)\n",
    "plt.title(f'{nation} Case Doubling Time')\n",
    "plt.xlabel('Days')\n",
    "plt.ylabel('Doubling Time (Days)')\n",
    "plt.ylim(0,6)\n",
    "plt.legend(['UnivariateSpline','LSQUnivariateSpline'])\n"
   ]
  },
  {
   "cell_type": "code",
   "execution_count": 21,
   "metadata": {
    "colab": {},
    "colab_type": "code",
    "id": "n1rMqJ9PRMG3"
   },
   "outputs": [],
   "source": [
    "def plot_spline_deriv(nation,series=\"Confirmed\"):\n",
    "  nation_series, dates = get_nation_series(nation,series)\n",
    "\n",
    "  # We add 1 here to avoid taking the log of 0 if no data exists\n",
    "  x = np.arange(nation_series.shape[0])\n",
    "  y = np.log10(np.float64(nation_series+1))\n",
    "  knot_interval = 14;\n",
    "  t = np.flip(np.arange(nation_series.shape[0]-knot_interval,0,-knot_interval))\n",
    "\n",
    "  # Weight the last days by a factor of 10\n",
    "  w = np.ones_like(y)\n",
    "  w[-4:] = 10\n",
    "  #nation_sp = UnivariateSpline(x,y,w)\n",
    "  nation_lsq_sp = LSQUnivariateSpline(x,y,t,w=w)\n",
    "  #nation_sp_deriv = nation_sp.derivative(1)\n",
    "  nation_lsq_sp_deriv = nation_lsq_sp.derivative(1)\n",
    "\n",
    "  #plt.subplot(1,2,1)\n",
    "  plt.figure()\n",
    "  #plt.plot(dates,nation_sp(x))\n",
    "  plt.plot(dates,nation_lsq_sp(x))\n",
    "  plt.plot(dates,y)\n",
    "  plt.grid(True)\n",
    "  plt.title(f'Spline Fit of {nation} Data')\n",
    "  plt.ylabel(f'log10({series} Cases+1)')\n",
    "  #plt.xlabel('Days')\n",
    "  plt.xticks(rotation=90)\n",
    "\n",
    "  #plt.subplot(1,2,2)\n",
    "  plt.figure()\n",
    "  #plt.plot(dates,nation_sp_deriv(x)*np.log(10))\n",
    "  plt.plot(dates,nation_lsq_sp_deriv(x)*np.log(10))\n",
    "  plt.grid(True)\n",
    "  plt.title(f'Derivative of Spline Fit of {nation} Data')\n",
    "  #plt.xlabel('Days')\n",
    "  plt.ylabel('d log10({series} Cases+1)/d days  * log(10)')\n",
    "  plt.xticks(rotation=90)\n"
   ]
  },
  {
   "cell_type": "code",
   "execution_count": 22,
   "metadata": {
    "colab": {
     "base_uri": "https://localhost:8080/",
     "height": 705,
     "referenced_widgets": [
      "30134147278b4670af72452b56af64a4",
      "ca59317dd8d546f4ad8a6ab0d119ca9c",
      "883264ffe9f248fc86d19143f0c0eea3",
      "33fd355cdf6e4b70853f9a0ad580b3ea",
      "3c02154e687b4f579f0442cb46416cfc",
      "d61af3937cb4447bbbef9a7cdbb97357",
      "ce5081fdfb4f4aa88c6516bfca3305d8",
      "2be1e31a590544bbbc1f9ef2cfc5c9ac",
      "f627a4d1c63f416e8b534e3143627dbe"
     ]
    },
    "colab_type": "code",
    "id": "vFQzy3_uT8xC",
    "outputId": "22a0d5f5-ba4d-4e30-ca64-063f990336b3"
   },
   "outputs": [
    {
     "data": {
      "application/vnd.jupyter.widget-view+json": {
       "model_id": "685e61eddaec4169a549ddf16a6ca71f",
       "version_major": 2,
       "version_minor": 0
      },
      "text/plain": [
       "interactive(children=(Dropdown(description='Nation: ', index=144, options=('Afghanistan', 'Albania', 'Algeria'…"
      ]
     },
     "metadata": {},
     "output_type": "display_data"
    }
   ],
   "source": [
    "interactive(plot_spline_deriv,nation=nations_widget,series=series_options)"
   ]
  },
  {
   "cell_type": "code",
   "execution_count": 23,
   "metadata": {
    "colab": {},
    "colab_type": "code",
    "id": "cD_y89RpuxDo"
   },
   "outputs": [],
   "source": [
    "def plot_spline_double_time(nation,series=\"Confirmed\"):\n",
    "  nation_series, dates = get_nation_series(nation,series)\n",
    "\n",
    "  # We add 1 here to avoid taking the log of 0 if no data exists\n",
    "  x = np.arange(nation_series.shape[0])\n",
    "  y = np.log10(np.float64(nation_series+1))\n",
    "  knot_interval = 14;\n",
    "  t = np.flip(np.arange(nation_series.shape[0]-knot_interval,0,-knot_interval))\n",
    "\n",
    "  # Weight the last days by a factor of 10\n",
    "  w = np.ones_like(y)\n",
    "  w[-4:] = 10\n",
    "  #nation_sp = UnivariateSpline(x,y,w)\n",
    "  nation_lsq_sp = LSQUnivariateSpline(x,y,t,w=w)\n",
    "  #nation_sp_deriv = nation_sp.derivative(1)\n",
    "  nation_lsq_sp_deriv = nation_lsq_sp.derivative(1)\n",
    "\n",
    "  #plt.subplot(1,2,1)\n",
    "  plt.figure()\n",
    "  plt.plot(dates,nation_lsq_sp(x))\n",
    "  plt.plot(dates,y)\n",
    "  plt.grid(True)\n",
    "  plt.title(f'Spline Fit of {nation} Data')\n",
    "  plt.ylabel(f'log10({series} Cases+1)')\n",
    "  #plt.xlabel('Days')\n",
    "  plt.xticks(rotation=90)\n",
    "\n",
    "  #plt.subplot(1,2,2)\n",
    "  plt.figure()\n",
    "  plt.plot(dates,np.log(2)/(nation_lsq_sp_deriv(x)*np.log(10)))\n",
    "  plt.grid(True)\n",
    "  plt.title(f'{nation} Doubling Time')\n",
    "  #plt.xlabel('Days')\n",
    "  plt.ylabel('Doubling Time (days)')\n",
    "  plt.xticks(rotation=90)\n",
    "  plt.ylim(bottom=0,top=6)"
   ]
  },
  {
   "cell_type": "code",
   "execution_count": 24,
   "metadata": {
    "colab": {
     "base_uri": "https://localhost:8080/",
     "height": 705,
     "referenced_widgets": [
      "aba7704c0db542898dc8b92e2d8b4041",
      "91825e2c6c204fdba6ec5901ed7d16d1",
      "883264ffe9f248fc86d19143f0c0eea3",
      "9c7a8e7f9678438799fa66c40018f118",
      "989951965ef84970a61fbbe300e559b0",
      "d61af3937cb4447bbbef9a7cdbb97357",
      "ce5081fdfb4f4aa88c6516bfca3305d8",
      "ebc0d32d8d17455bb92faa7b1d75bc70",
      "46071001529e493fbb781d3094be7add"
     ]
    },
    "colab_type": "code",
    "id": "ICHPy4Q2Celu",
    "outputId": "33437de5-6c1e-4750-9db9-66990c65bdb4"
   },
   "outputs": [
    {
     "data": {
      "application/vnd.jupyter.widget-view+json": {
       "model_id": "638f56c0decf42929ef22d89866c8d43",
       "version_major": 2,
       "version_minor": 0
      },
      "text/plain": [
       "interactive(children=(Dropdown(description='Nation: ', index=144, options=('Afghanistan', 'Albania', 'Algeria'…"
      ]
     },
     "metadata": {},
     "output_type": "display_data"
    }
   ],
   "source": [
    "interactive(plot_spline_double_time,nation=nations_widget,series=series_options)"
   ]
  },
  {
   "cell_type": "code",
   "execution_count": 25,
   "metadata": {},
   "outputs": [
    {
     "data": {
      "application/vnd.jupyter.widget-view+json": {
       "model_id": "a2dfcd75c5c54ea2ba647e3091e6f34c",
       "version_major": 2,
       "version_minor": 0
      },
      "text/plain": [
       "interactive(children=(Dropdown(description='Nation: ', index=144, options=('Afghanistan', 'Albania', 'Algeria'…"
      ]
     },
     "metadata": {},
     "output_type": "display_data"
    }
   ],
   "source": [
    "from scipy import stats\n",
    "def do_linear_regression(nation,series,n_points,days_back):\n",
    "  nation_series, dates = get_nation_series(nation,series)\n",
    "  days = np.arange(0,nation_series.shape[0])\n",
    "  y = np.log(np.float64(nation_series+1))\n",
    "  if days_back >= 0:\n",
    "    s = slice(-n_points,None)\n",
    "  else:\n",
    "    s = slice(-n_points+days_back,days_back)\n",
    "  lr = stats.linregress(days[s],y[s])\n",
    "  \n",
    "  plt.plot(days,y)\n",
    "  line = lr.slope*days[s]+lr.intercept\n",
    "  plt.plot(days[s],line)\n",
    "  plt.grid(True)\n",
    "\n",
    "  plt.xlabel('Days')\n",
    "  plt.ylabel('log(Cases+1)')\n",
    "\n",
    "  str = f\"\"\"Slope: {lr.slope:.3f}\n",
    "Doubling time: {np.inf if lr.slope==0 else 0.693/lr.slope:.3f} days\n",
    "Daily increase: {(np.exp(lr.slope)-1)*100:2.0f}%\"\"\"\n",
    "\n",
    "  plt.text(days[s][0]-25,line[0],str)\n",
    "\n",
    "  return lr\n",
    "    \n",
    "interactive(do_linear_regression,\n",
    "            nation=nations_widget,\n",
    "            series=series_options,\n",
    "            n_points=widgets.IntSlider(value=4,min=2,max=nation_series.shape[0]),\n",
    "            days_back=widgets.IntSlider(value=0,min=-nation_series.shape[0],max=0)\n",
    "           )"
   ]
  },
  {
   "cell_type": "code",
   "execution_count": 26,
   "metadata": {},
   "outputs": [
    {
     "data": {
      "text/plain": [
       "array([51, 52, 53, 54, 55])"
      ]
     },
     "execution_count": 26,
     "metadata": {},
     "output_type": "execute_result"
    }
   ],
   "source": [
    "days = np.arange(0,nation_series.shape[0])\n",
    "days[slice(-5,None)]"
   ]
  },
  {
   "cell_type": "markdown",
   "metadata": {},
   "source": [
    "# Extrapolation\n",
    "\n",
    "Here we extrapolate at an exponential rate from the most recent case number."
   ]
  },
  {
   "cell_type": "code",
   "execution_count": 27,
   "metadata": {},
   "outputs": [
    {
     "name": "stdout",
     "output_type": "stream",
     "text": [
      "US will where Italy is now in 5.6 days for Confirmed\n",
      "US will where China is now in 8.9 days for Confirmed\n"
     ]
    },
    {
     "data": {
      "text/plain": [
       "8.897975902200354"
      ]
     },
     "execution_count": 27,
     "metadata": {},
     "output_type": "execute_result"
    }
   ],
   "source": [
    "def get_linear_regression_of_log(nation_series,s = slice(-4,None)):\n",
    "    lr = stats.linregress(np.arange(0,nation_series.shape[0])[s],np.log(np.float64(nation_series[s])))\n",
    "    return lr\n",
    "    \n",
    "def days_until(nation_A,nation_B,series='Confirmed'):\n",
    "    nation_A_series = get_nation_series(nation_A,series)[0]\n",
    "    nation_B_series = get_nation_series(nation_B,series)[0]\n",
    "    lr = get_linear_regression_of_log(nation_A_series)\n",
    "    days = np.log(nation_B_series[-1]/nation_A_series[-1])/lr.slope\n",
    "    print(f'{nation_A} will where {nation_B} is now in {days:.1f} days for {series}')\n",
    "    return days\n",
    "\n",
    "days_until('US','Italy')\n",
    "days_until('US','China')"
   ]
  },
  {
   "cell_type": "code",
   "execution_count": 28,
   "metadata": {},
   "outputs": [
    {
     "data": {
      "text/plain": [
       "{'ratio': 1.3862262521588946,\n",
       " 'coef': 0.3265851285412172,\n",
       " 'doubling_time': 2.122408891231756}"
      ]
     },
     "execution_count": 28,
     "metadata": {},
     "output_type": "execute_result"
    }
   ],
   "source": [
    "day_to_day = dict()\n",
    "day_to_day['ratio'] = nation_series[-1]/nation_series[-2]\n",
    "day_to_day['coef'] = np.log(day_to_day['ratio'])\n",
    "day_to_day['doubling_time'] = np.log(2)/day_to_day['coef']\n",
    "day_to_day"
   ]
  },
  {
   "cell_type": "code",
   "execution_count": 29,
   "metadata": {
    "colab": {
     "base_uri": "https://localhost:8080/",
     "height": 296
    },
    "colab_type": "code",
    "id": "hasr0oZjCnNx",
    "outputId": "b0e4c8c8-28c4-41f9-8f31-20bbb58fc3a9"
   },
   "outputs": [
    {
     "data": {
      "text/plain": [
       "LinregressResult(slope=0.2849626821730523, intercept=-6.925687735693259, rvalue=0.9981515078525777, pvalue=0.001848492147422331, stderr=0.012268727978365672)"
      ]
     },
     "execution_count": 29,
     "metadata": {},
     "output_type": "execute_result"
    },
    {
     "data": {
      "image/png": "[encoded data removed]",
      "text/plain": [
       "<Figure size 432x288 with 1 Axes>"
      ]
     },
     "metadata": {
      "needs_background": "light"
     },
     "output_type": "display_data"
    }
   ],
   "source": [
    "us_confirmed_lr = get_linear_regression_of_log(nation_series)\n",
    "\n",
    "t = np.arange(0,7.1,0.1)\n",
    "plt.plot(t,np.exp(0.231*t)*nation_series[-1])\n",
    "plt.plot(t,np.exp(0.277*t)*nation_series[-1])\n",
    "plt.plot(t,np.exp(0.286*t)*nation_series[-1])\n",
    "plt.plot(t,np.exp(0.35*t)*nation_series[-1])\n",
    "plt.plot(t,np.exp(us_confirmed_lr.slope*t)*nation_series[-1],'k--')\n",
    "plt.plot(t,np.exp(day_to_day['coef']*t)*nation_series[-1],'k:')\n",
    "plt.grid(True)\n",
    "plt.ylabel('Cases')\n",
    "plt.xlabel('Days')\n",
    "plt.legend(['3 day doubling time',\n",
    "            '2.5 day doubling time',\n",
    "            '33% Daily Increase',\n",
    "            '2 day doubling time',\n",
    "            'Current Projection 4-day LinReg',\n",
    "            'Current Projection 2-day slope'])\n",
    "us_confirmed_lr"
   ]
  },
  {
   "cell_type": "code",
   "execution_count": 30,
   "metadata": {
    "colab": {
     "base_uri": "https://localhost:8080/",
     "height": 102
    },
    "colab_type": "code",
    "id": "514NMZN1Cs8-",
    "outputId": "b1231f36-3d8f-4f27-839b-15352c727ba9"
   },
   "outputs": [
    {
     "data": {
      "text/plain": [
       "3/14/20    2727\n",
       "3/15/20    3499\n",
       "3/16/20    4632\n",
       "3/17/20    6421\n",
       "dtype: object"
      ]
     },
     "execution_count": 30,
     "metadata": {},
     "output_type": "execute_result"
    }
   ],
   "source": [
    "nation_series[-4:]"
   ]
  },
  {
   "cell_type": "code",
   "execution_count": 31,
   "metadata": {},
   "outputs": [
    {
     "data": {
      "text/plain": [
       "3/14/20    1.25149\n",
       "3/15/20    1.28309\n",
       "3/16/20    1.32381\n",
       "3/17/20    1.38623\n",
       "dtype: object"
      ]
     },
     "execution_count": 31,
     "metadata": {},
     "output_type": "execute_result"
    }
   ],
   "source": [
    "nation_series[-4:]/np.array(nation_series[-5:-1])"
   ]
  },
  {
   "cell_type": "code",
   "execution_count": 32,
   "metadata": {},
   "outputs": [
    {
     "name": "stdout",
     "output_type": "stream",
     "text": [
      "US Confirmed Case Projection 2020-03-18: 8538.1\n"
     ]
    }
   ],
   "source": [
    "from datetime import timedelta\n",
    "from datetime import date\n",
    "next_day_projection = np.exp(us_confirmed_lr.slope)*nation_series[-1]\n",
    "next_day = (dates[-1]+timedelta(days=1)).date().isoformat()\n",
    "print(f'US Confirmed Case Projection {next_day}: {next_day_projection:0.1f}')"
   ]
  },
  {
   "cell_type": "code",
   "execution_count": null,
   "metadata": {},
   "outputs": [],
   "source": []
  }
 ],
 "metadata": {
  "colab": {
   "include_colab_link": true,
   "name": "Covid-19.ipynb",
   "provenance": []
  },
  "kernelspec": {
   "display_name": "Python 3",
   "language": "python",
   "name": "python3"
  },
  "language_info": {
   "codemirror_mode": {
    "name": "ipython",
    "version": 3
   },
   "file_extension": ".py",
   "mimetype": "text/x-python",
   "name": "python",
   "nbconvert_exporter": "python",
   "pygments_lexer": "ipython3",
   "version": "3.7.4"
  },
  "widgets": {
   "application/vnd.jupyter.widget-state+json": {
    "0630fc9f1da94f6ab4748b17456e3e84": {
     "model_module": "@jupyter-widgets/controls",
     "model_name": "DropdownModel",
     "state": {
      "_dom_classes": [],
      "_model_module": "@jupyter-widgets/controls",
      "_model_module_version": "1.5.0",
      "_model_name": "DropdownModel",
      "_options_labels": [
       "Confirmed",
       "Deaths",
       "Recovered"
      ],
      "_view_count": null,
      "_view_module": "@jupyter-widgets/controls",
      "_view_module_version": "1.5.0",
      "_view_name": "DropdownView",
      "description": "series",
      "description_tooltip": null,
      "disabled": false,
      "index": 0,
      "layout": "IPY_MODEL_8452ca7e83af4a3ba358385d6292c8c5",
      "style": "IPY_MODEL_9990de9e25274567a9b20a0a450b774e"
     }
    },
    "145e25557332486ea8495b986f666c76": {
     "model_module": "@jupyter-widgets/controls",
     "model_name": "VBoxModel",
     "state": {
      "_dom_classes": [
       "widget-interact"
      ],
      "_model_module": "@jupyter-widgets/controls",
      "_model_module_version": "1.5.0",
      "_model_name": "VBoxModel",
      "_view_count": null,
      "_view_module": "@jupyter-widgets/controls",
      "_view_module_version": "1.5.0",
      "_view_name": "VBoxView",
      "box_style": "",
      "children": [
       "IPY_MODEL_883264ffe9f248fc86d19143f0c0eea3",
       "IPY_MODEL_0630fc9f1da94f6ab4748b17456e3e84",
       "IPY_MODEL_c238f38a8683494c9cdd8b37484540ee"
      ],
      "layout": "IPY_MODEL_a5497f5c79a940bc9f82ebb023ab1e59"
     }
    },
    "2be1e31a590544bbbc1f9ef2cfc5c9ac": {
     "model_module": "@jupyter-widgets/controls",
     "model_name": "DescriptionStyleModel",
     "state": {
      "_model_module": "@jupyter-widgets/controls",
      "_model_module_version": "1.5.0",
      "_model_name": "DescriptionStyleModel",
      "_view_count": null,
      "_view_module": "@jupyter-widgets/base",
      "_view_module_version": "1.2.0",
      "_view_name": "StyleView",
      "description_width": ""
     }
    },
    "30134147278b4670af72452b56af64a4": {
     "model_module": "@jupyter-widgets/controls",
     "model_name": "VBoxModel",
     "state": {
      "_dom_classes": [
       "widget-interact"
      ],
      "_model_module": "@jupyter-widgets/controls",
      "_model_module_version": "1.5.0",
      "_model_name": "VBoxModel",
      "_view_count": null,
      "_view_module": "@jupyter-widgets/controls",
      "_view_module_version": "1.5.0",
      "_view_name": "VBoxView",
      "box_style": "",
      "children": [
       "IPY_MODEL_883264ffe9f248fc86d19143f0c0eea3",
       "IPY_MODEL_33fd355cdf6e4b70853f9a0ad580b3ea",
       "IPY_MODEL_3c02154e687b4f579f0442cb46416cfc"
      ],
      "layout": "IPY_MODEL_ca59317dd8d546f4ad8a6ab0d119ca9c"
     }
    },
    "33fd355cdf6e4b70853f9a0ad580b3ea": {
     "model_module": "@jupyter-widgets/controls",
     "model_name": "DropdownModel",
     "state": {
      "_dom_classes": [],
      "_model_module": "@jupyter-widgets/controls",
      "_model_module_version": "1.5.0",
      "_model_name": "DropdownModel",
      "_options_labels": [
       "Confirmed",
       "Deaths",
       "Recovered"
      ],
      "_view_count": null,
      "_view_module": "@jupyter-widgets/controls",
      "_view_module_version": "1.5.0",
      "_view_name": "DropdownView",
      "description": "series",
      "description_tooltip": null,
      "disabled": false,
      "index": 0,
      "layout": "IPY_MODEL_f627a4d1c63f416e8b534e3143627dbe",
      "style": "IPY_MODEL_2be1e31a590544bbbc1f9ef2cfc5c9ac"
     }
    },
    "3c02154e687b4f579f0442cb46416cfc": {
     "model_module": "@jupyter-widgets/output",
     "model_name": "OutputModel",
     "state": {
      "_dom_classes": [],
      "_model_module": "@jupyter-widgets/output",
      "_model_module_version": "1.0.0",
      "_model_name": "OutputModel",
      "_view_count": null,
      "_view_module": "@jupyter-widgets/output",
      "_view_module_version": "1.0.0",
      "_view_name": "OutputView",
      "layout": "IPY_MODEL_9943db3df0bd4055958df9e8ade70b7f",
      "msg_id": "",
      "outputs": [
       {
        "image/png": "iVBORw0KGgoAAAANSUhEUgAAAYIAAAE4CAYAAABWq/SaAAAABHNCSVQICAgIfAhkiAAAAAlwSFlz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\nDGRHkCRJsuFkR5AkSbLhZEeQJEmy4fwBJGGYea30zjkAAAAASUVORK5CYII=\n",
        "metadata": {
         "tags": []
        },
        "output_type": "display_data",
        "text/plain": "<Figure size 432x288 with 1 Axes>"
       },
       {
        "image/png": "iVBORw0KGgoAAAANSUhEUgAAAYgAAAE4CAYAAABBiWRTAAAABHNCSVQICAgIfAhkiAAAAAlwSFlz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\nFAqFQmEs/wO2f5ZHOUX+JgAAAABJRU5ErkJggg==\n",
        "metadata": {
         "tags": []
        },
        "output_type": "display_data",
        "text/plain": "<Figure size 432x288 with 1 Axes>"
       }
      ]
     }
    },
    "46071001529e493fbb781d3094be7add": {
     "model_module": "@jupyter-widgets/base",
     "model_name": "LayoutModel",
     "state": {
      "_model_module": "@jupyter-widgets/base",
      "_model_module_version": "1.2.0",
      "_model_name": "LayoutModel",
      "_view_count": null,
      "_view_module": "@jupyter-widgets/base",
      "_view_module_version": "1.2.0",
      "_view_name": "LayoutView",
      "align_content": null,
      "align_items": null,
      "align_self": null,
      "border": null,
      "bottom": null,
      "display": null,
      "flex": null,
      "flex_flow": null,
      "grid_area": null,
      "grid_auto_columns": null,
      "grid_auto_flow": null,
      "grid_auto_rows": null,
      "grid_column": null,
      "grid_gap": null,
      "grid_row": null,
      "grid_template_areas": null,
      "grid_template_columns": null,
      "grid_template_rows": null,
      "height": null,
      "justify_content": null,
      "justify_items": null,
      "left": null,
      "margin": null,
      "max_height": null,
      "max_width": null,
      "min_height": null,
      "min_width": null,
      "object_fit": null,
      "object_position": null,
      "order": null,
      "overflow": null,
      "overflow_x": null,
      "overflow_y": null,
      "padding": null,
      "right": null,
      "top": null,
      "visibility": null,
      "width": null
     }
    },
    "8452ca7e83af4a3ba358385d6292c8c5": {
     "model_module": "@jupyter-widgets/base",
     "model_name": "LayoutModel",
     "state": {
      "_model_module": "@jupyter-widgets/base",
      "_model_module_version": "1.2.0",
      "_model_name": "LayoutModel",
      "_view_count": null,
      "_view_module": "@jupyter-widgets/base",
      "_view_module_version": "1.2.0",
      "_view_name": "LayoutView",
      "align_content": null,
      "align_items": null,
      "align_self": null,
      "border": null,
      "bottom": null,
      "display": null,
      "flex": null,
      "flex_flow": null,
      "grid_area": null,
      "grid_auto_columns": null,
      "grid_auto_flow": null,
      "grid_auto_rows": null,
      "grid_column": null,
      "grid_gap": null,
      "grid_row": null,
      "grid_template_areas": null,
      "grid_template_columns": null,
      "grid_template_rows": null,
      "height": null,
      "justify_content": null,
      "justify_items": null,
      "left": null,
      "margin": null,
      "max_height": null,
      "max_width": null,
      "min_height": null,
      "min_width": null,
      "object_fit": null,
      "object_position": null,
      "order": null,
      "overflow": null,
      "overflow_x": null,
      "overflow_y": null,
      "padding": null,
      "right": null,
      "top": null,
      "visibility": null,
      "width": null
     }
    },
    "883264ffe9f248fc86d19143f0c0eea3": {
     "model_module": "@jupyter-widgets/controls",
     "model_name": "DropdownModel",
     "state": {
      "_dom_classes": [],
      "_model_module": "@jupyter-widgets/controls",
      "_model_module_version": "1.5.0",
      "_model_name": "DropdownModel",
      "_options_labels": [
       "Afghanistan",
       "Albania",
       "Algeria",
       "Andorra",
       "Antigua and Barbuda",
       "Argentina",
       "Armenia",
       "Aruba",
       "Australia",
       "Austria",
       "Azerbaijan",
       "Bahrain",
       "Bangladesh",
       "Belarus",
       "Belgium",
       "Bhutan",
       "Bolivia",
       "Bosnia and Herzegovina",
       "Brazil",
       "Brunei",
       "Bulgaria",
       "Burkina Faso",
       "Cambodia",
       "Cameroon",
       "Canada",
       "Cayman Islands",
       "Central African Republic",
       "Chile",
       "China",
       "Colombia",
       "Congo (Brazzaville)",
       "Congo (Kinshasa)",
       "Costa Rica",
       "Cote d'Ivoire",
       "Croatia",
       "Cruise Ship",
       "Cuba",
       "Curacao",
       "Cyprus",
       "Czechia",
       "Denmark",
       "Dominican Republic",
       "Ecuador",
       "Egypt",
       "Equatorial Guinea",
       "Estonia",
       "Eswatini",
       "Ethiopia",
       "Finland",
       "France",
       "Gabon",
       "Georgia",
       "Germany",
       "Ghana",
       "Greece",
       "Guadeloupe",
       "Guatemala",
       "Guernsey",
       "Guinea",
       "Guyana",
       "Holy See",
       "Honduras",
       "Hungary",
       "Iceland",
       "India",
       "Indonesia",
       "Iran",
       "Iraq",
       "Ireland",
       "Israel",
       "Italy",
       "Jamaica",
       "Japan",
       "Jersey",
       "Jordan",
       "Kazakhstan",
       "Kenya",
       "Korea, South",
       "Kosovo",
       "Kuwait",
       "Latvia",
       "Lebanon",
       "Liechtenstein",
       "Lithuania",
       "Luxembourg",
       "Malaysia",
       "Maldives",
       "Malta",
       "Martinique",
       "Mauritania",
       "Mexico",
       "Moldova",
       "Monaco",
       "Mongolia",
       "Morocco",
       "Namibia",
       "Nepal",
       "Netherlands",
       "New Zealand",
       "Nigeria",
       "North Macedonia",
       "Norway",
       "Oman",
       "Pakistan",
       "Panama",
       "Paraguay",
       "Peru",
       "Philippines",
       "Poland",
       "Portugal",
       "Qatar",
       "Reunion",
       "Romania",
       "Russia",
       "Rwanda",
       "Saint Lucia",
       "Saint Vincent and the Grenadines",
       "San Marino",
       "Saudi Arabia",
       "Senegal",
       "Serbia",
       "Seychelles",
       "Singapore",
       "Slovakia",
       "Slovenia",
       "South Africa",
       "Spain",
       "Sri Lanka",
       "Sudan",
       "Suriname",
       "Sweden",
       "Switzerland",
       "Taiwan*",
       "Thailand",
       "Togo",
       "Trinidad and Tobago",
       "Tunisia",
       "Turkey",
       "US",
       "Ukraine",
       "United Arab Emirates",
       "United Kingdom",
       "Uruguay",
       "Uzbekistan",
       "Venezuela",
       "Vietnam",
       "occupied Palestinian territory"
      ],
      "_view_count": null,
      "_view_module": "@jupyter-widgets/controls",
      "_view_module_version": "1.5.0",
      "_view_name": "DropdownView",
      "description": "Nation: ",
      "description_tooltip": null,
      "disabled": false,
      "index": 138,
      "layout": "IPY_MODEL_ce5081fdfb4f4aa88c6516bfca3305d8",
      "style": "IPY_MODEL_d61af3937cb4447bbbef9a7cdbb97357"
     }
    },
    "91825e2c6c204fdba6ec5901ed7d16d1": {
     "model_module": "@jupyter-widgets/base",
     "model_name": "LayoutModel",
     "state": {
      "_model_module": "@jupyter-widgets/base",
      "_model_module_version": "1.2.0",
      "_model_name": "LayoutModel",
      "_view_count": null,
      "_view_module": "@jupyter-widgets/base",
      "_view_module_version": "1.2.0",
      "_view_name": "LayoutView",
      "align_content": null,
      "align_items": null,
      "align_self": null,
      "border": null,
      "bottom": null,
      "display": null,
      "flex": null,
      "flex_flow": null,
      "grid_area": null,
      "grid_auto_columns": null,
      "grid_auto_flow": null,
      "grid_auto_rows": null,
      "grid_column": null,
      "grid_gap": null,
      "grid_row": null,
      "grid_template_areas": null,
      "grid_template_columns": null,
      "grid_template_rows": null,
      "height": null,
      "justify_content": null,
      "justify_items": null,
      "left": null,
      "margin": null,
      "max_height": null,
      "max_width": null,
      "min_height": null,
      "min_width": null,
      "object_fit": null,
      "object_position": null,
      "order": null,
      "overflow": null,
      "overflow_x": null,
      "overflow_y": null,
      "padding": null,
      "right": null,
      "top": null,
      "visibility": null,
      "width": null
     }
    },
    "989951965ef84970a61fbbe300e559b0": {
     "model_module": "@jupyter-widgets/output",
     "model_name": "OutputModel",
     "state": {
      "_dom_classes": [],
      "_model_module": "@jupyter-widgets/output",
      "_model_module_version": "1.0.0",
      "_model_name": "OutputModel",
      "_view_count": null,
      "_view_module": "@jupyter-widgets/output",
      "_view_module_version": "1.0.0",
      "_view_name": "OutputView",
      "layout": "IPY_MODEL_fe7d193b69ad485685a90cfe696ebe42",
      "msg_id": "",
      "outputs": [
       {
        "image/png": "iVBORw0KGgoAAAANSUhEUgAAAYIAAAE4CAYAAABWq/SaAAAABHNCSVQICAgIfAhkiAAAAAlwSFlz\nAAALEgAACxIB0t1+/AAAADh0RVh0U29mdHdhcmUAbWF0cGxvdGxpYiB2ZXJzaW9uMy4xLjMsIGh0\ndHA6Ly9tYXRwbG90bGliLm9yZy+AADFEAAAgAElEQVR4nOzdd3wUdf7H8dcnhRp6Cb2FqoBIKGIF\nsWHDdoK9Y/esZ7k723med56evZ4NW6z8QKToKQio9N6b9BAgIYRAej6/P2YiIWQ3m7K7s8nn+Xjs\ng91p+97MsJ+dme/MV1QVY4wxNVdUuAMYY4wJLysExhhTw1khMMaYGs4KgTHG1HBWCIwxpoazQmCM\nMTWcFQLjSSIyXURudJ9fISLfhfj9q/Q9ReRCEdkqIpkicmxVLdeYqmCFwASNiJwoIr+IyD4RSROR\nn0VkYHmXo6ofq+oZQcjXSUTU/XIueiwp7T3d6bpW4u3+DdyhqnGqushHjpgSw98Xkafc57VE5DkR\n2ebm3CQiL/j5bCoiB9xpU0XkBxEZFWhYERkqItvK+RlNhIopexJjyk9EGgITgVuBz4FawElATjhz\n+dBYVfOD/B4dgRWVmP9hYAAwCEh2l3dyGfMco6rrRaQ5MAJ4RUR6quoTlchhqiHbIzDB0h1AVT9V\n1QJVzVLV71R1KYCIXOvuIbzi7jGsFpHhpS3InXZWsdcqIreIyDoRSReRV0VEio2/XkRWicheEZkq\nIh3LG774e4rIDHfwEvcX9hG/rEUkSkT+IiKbRWSXiIwVkUYiUltEMoFod/4N5c3iGgiMU9Ud6tik\nqmMDmVFV96jqhzhF+WERaeZmvs79O+0XkY0icrM7vD4wGWhTbE+pjYgMEpFf3b95srvualXw8xgP\nsUJggmUtUCAiH4jICBFpUso0g4ENQHPgMeBrEWka4PLPxfly7AtcCpwJICIjgUeAi4AWwEzg08p8\nEFUt+uV9jHto57NSJrvWfQwDugBxwCuqmqOqccXmT6hgjNnAvSJym4j0KV74ymE8zlGAQe7rXTh/\nx4bAdcB/RKS/qh7A2YPY4X7eOFXdARQA9+CsryHAcOC2Cn4e4yFWCExQqGoGcCKgwNvAbhGZICLx\nxSbbBbygqnnul+sa4JwA3+IZVU1X1S3ANKCfO/wW4B+quso93PM00K+MvYI97q/cdBG5P/BPeZgr\ngOdVdaOqZuIcyhld8rh/JfwD+Kf7PvOB7SJyTXkWoKp5wB6gqfv6W1Xd4O5h/AR8h3P4ztf8C1R1\ntqrmq+om4E3glAp9GuMpVghM0LhfxteqajugN9AGKH6Cc7seftfDze40gdhZ7PlBnF/g4Bw7f7Ho\nix1IAwRo62dZzVW1sfv4d4DvX1IbnPxFNuP8+o4vffLDFJ2fiC0xPBbIA3APr72qqicAjYG/A++K\nSK9AA4pILM5eUpr7eoSIzHZP5KcDZ+P82vc1f3cRmSgiO0UkA6fI+pzeRA4rBCYkVHU18D5OQSjS\ntsQhjg7Ajkq+1Vbg5mJf7I1Vta6q/lLJ5ZZlB04RKtIB5ws+JYB5k3G+8DuVGN6Zw4sLAO75lleB\nvcBR5cg40s00V0RqA1/htGaKV9XGwCScognOnlxJrwOrgW6q2hDnEFxFDlEZj7FCYIJCRHqKyH0i\n0s593R64DOdYd5GWwF0iEisifwB64XwZVcYbOCdEj3bft5G77MpKwTn278unwD0i0llE4nB+LX8W\nSGskVS3A+VL+u4g0c/8el+F8yU8GEJG73SaddUUkxj0s1ABY5HvJDhFpKiJXAK8C/1TVVJxWXLWB\n3UC+iIwAijfRTQGaiUijYsMaABlApoj0xDn5bKoBaz5qgmU/zsnge0WkMZCO05z0gWLTzAG64Ry3\nTgEucb+kKkxVx7lfxEnueYF9wPfAF5VZLvA48IGI1AXGqOrnJca/i3N4aAZQB5gK3FmO5d8GPAss\nBeoBK4FzVLVoj+Ig8BzQFefX+lrgYlXd6GeZS0REgVxgCXCPqn4CoKr7ReQunKa9tYFvgAlFM6rq\nahH5FNgoItE4Rel+4C3gTzgF6DPg1HJ8RuNRYh3TmHAQkWuBG1X1xHBnMaams0NDxhhTw1khMMaY\nGs4ODRljTA1newTGGFPDRVyroebNm2unTp0qNO+BAweoX79+1QbyIK9/TstXOV7P50sk5PZ6xsrk\nW7BgwR5VbVHqSFWNqEdiYqJW1LRp0yo8byTx+ue0fJXj9Xy+REJur2esTD5gvvr4XrVDQ8YYU8NZ\nITDGmBrOCoExxtRwVgiMMaaGs0JgjDE1nBUCY4yp4awQGGNMDRdxF5QZY0xN9Pn8rURnFQZl2bZH\nYIwxHrd8+z4e+mopUzblBWX5tkdgjDEeVlCoPDJuGc3ianNh1+igvIftERhjjId9PGczS7ft46/n\nHkW92OB0EW2FwBhjPGpXRjbPTlnDSd2ac17f1kF7HysExhjjUX/7dhU5BYU8ObI3IsHZGwArBMYY\n40kz1u7mmyU7uH1oVzo3D+6tsa0QGGOMx2TnFfDX8cvp0rw+twztEvT3s1ZDxhjjMa9N38Dm1IN8\nfONgascEp6VQcbZHYIwxHrJhdyZvTN/ABf3acELX5iF5TysExhjjEarKX8Ytp3ZsFH8+56iQva8V\nAmOM8YjP5m3l142pPHJ2L1o0qH34yMLg3F4CglgIRKSOiMwVkSUiskJEnihlmmtFZLeILHYfNwYr\njzHGeFlKRjZ/n7SK47o0ZfTA9oePzMuCD0cSv/PHoLx3ME8W5wCnqmqmiMQCs0RksqrOLjHdZ6p6\nRxBzGGOM5z06fjm5+YU8c1Hfw68ZKMiDL66D32aivQYG5b2Dtkegjkz3Zaz70GC9nzHGRKrJy5KZ\nuiKFe07vTqfi1wwUFsL4O2DtZDjn3+yKPzko7x/UcwQiEi0ii4FdwPeqOqeUyS4WkaUi8qWItC9l\nvDHGVFvpB3P56/gV9G7bkBtP7HxohCpMfQSWJsGwv8DA4B05F9Xg/0gXkcbAOOBOVV1ebHgzIFNV\nc0TkZmCUqp5ayvxjgDEA8fHxiUlJSRXKkZmZSVxcXIXmjSRe/5yWr3K8ns+XSMgdjozvLMvh5x35\nPDakDh0bHrpmoOOmz+i86RO2tjuPDQk3gEil8g0bNmyBqg4odaSqhuQBPArc72d8NLCvrOUkJiZq\nRU2bNq3C80YSr39Oy1c5Xs/nSyTkDnXGmWt3a8cHJ+o/J686fMSct1Qfa6j61RjVgoIqyQfMVx/f\nq8FsNdTC3RNAROoCpwOrS0xT/HZ65wOrgpXHGGO85GBuPg+PW0qX5vW5a3i3QyOWfg6THoDuI2Dk\nKxAV/Fb+wWw11Br4QESicc5FfK6qE0XkSZzKNAG4S0TOB/KBNODaIOYxxhjPeHbqGramZfHZmOOo\nE+seElr8KYy/DTqeAH94D6JjQ5IlaIVAVZcCx5Yy/NFizx8GHg5WBmOM8aLZG1N57+dNXDOkI4O7\nNHMGLhwLE+6CzifBZUkQWzdkeezKYmOMCaEDOfk88OUSOjWrx4MjejoD574NE+6EhFPh8s+hVnBv\nO12SFQJjjAmhf0xexba9WTz7h2OoVysGfn0NJt3vnBMY/UlI9wSKWCEwxpgQmbVuDx/N3sINJ3Rm\nYKemMOs/MPVh6HU+XDoWYuuEJZf1R2CMMSGQkZ3Hn75cQkKL+tx/Zg/49VX43+PQ+2K48C2IDt/X\nsRUCY4wJgacmrmRnRjZf3Xo8ddZPhql/dvYELnobooLf+Yw/dmjIGGOC7MfVKXw+fxs3n5LAsTGb\n4OuboG1/uOitsBcBsD0CY4wJqvSDuTz01TJ6xDfg7kH14N2RUK95yJuI+mOFwBhjgkRV+fO45aQd\nyOX9y3tR+7NRkHcQrhoHcS3DHe93dmjIGGOC5KuF2/l2WTL3nZ7AUb/cA7tWOlcMx4euG8pA2B6B\nMcYEwZbUgzw2fjmDOjfl5qx3YN1UOOc56HpauKMdwfYIjDGmiuUXFHL3Z4uIihLe6jaXqLlvwnG3\nB7VPgcqwPQJjjKlir07bwMIt6Xx+UgqNZzwGvc6DM/4W7lg+2R6BMcZUoUVb9vLSj+u4p/seBi18\nCNoP8sS1Av6UuUcgIlHAMUAbIAtYrqq7gh3MGGMizYGcfO75bDGD4vZw565HoXF7TzUT9cVnIRCR\nBOBB4DRgHbAbqAN0F5GDwJvAB6paGIqgxhjjdU9+s5IDaTt4v+kzRBELV34F9ZqGO1aZ/O0RPAW8\nDtzsdnP2OxFpCVwOXAV8ELx4xhgTGSYs2cHE+Wv5odmL1M5Nh2snQpNO4Y4VEJ+FQFUv8zNuF/BC\nUBIZY0yE2bTnAH/5egkfNnyd+IPrncNBbfuHO1bAKnSyWEROr+ogxhgTiXLyC7jz00XcI5/SP3c+\ncs5z0P2McMcql4q2GnqnSlMYY0yEembyajokT+U6xsOAG2DAdeGOVG7+ThZP8DUKaBacOMYYEzm+\nW7GTX36ZwTd134K2g+GsZ8IdqUL8nSw+CbgSyCwxXIBBZS1YROoAM4Da7vt8qaqPlZimNjAWSARS\ngVGquinQ8MYYEy7b07P42xc/83ndF4it19jpYSymVrhjVYi/QjAbOKiqP5UcISJrAlh2DnCqqmaK\nSCwwS0Qmq+rsYtPcAOxV1a4iMhr4JzCqHPmNMSbk8goKufuT+TytL9GKVGTUJGjQKtyxKsznOQJV\nHaGq03yMO7msBaujaG8i1n1oiclGcqj56ZfAcBGRMlMbY0wYPffdWobueIuTZDFy9rPO1cMRTEpc\nIlC1CxeJBhYAXYFXVfXBEuOXA2ep6jb39QZgsKruKTHdGGAMQHx8fGJSUlKF8mRmZhIXF1eheSOJ\n1z+n5ascr+fzJRJyB5JxYUo+a5bM5M1aL7Cj9Rms7XF7iNJV7m84bNiwBao6oNSRqhrQA/gq0GlL\nmbcxMA3oXWL4cqBdsdcbgOb+lpWYmKgVNW3atArPG0m8/jktX+V4PZ8vkZC7rIy/7c7Ufo9O1JQn\nErTgtRNV87JDE8xVmb8hMF99fK+Wp/lolwqVIafYpLuF4KwSo7YD7QFEJAZohHPS2BhjPCUrt4Bb\nPlrAiKjZtCzcTdSwhyGmdrhjVQm/N50TkQ5FT4FYEWnvPkdVt5QxbwsgT1XTRaQucDrOyeDiJgDX\nAL8ClwA/upXLGGM8Q1X587hlrEnJ4Mv47yC2J3Qv+bs2cpV199EPcE7wCtDRfS3usFPLmLc18IF7\nniAK+FxVJ4rIkzi7KBNwLkz7UETWA2nA6Ap/EmOMCZKP52zh60Xb+U/iHuJWrIaRr0FU9bmLv99C\noKrDip6LyCJVLevLv/i8S4FjSxn+aLHn2cAfAl2mMcaE2uKt6Tz5zUqG9mjBBZmvQYM20Kd6fW1V\nn5JmjDFVLO1ALrd9tIAWDWrz0kmFyOZZMOS2iL1wzJfyFIIXg5bCGGM8Jq+gkNs/XsieA7m8cWUi\nDRe8AnUaQeK14Y5W5QIuBKr6fhBzGGOMpzw1cSW/bkzlHxf2oU+d3bBqotP5fO0G4Y5W5cosBCLy\nLxFpKCKxIvKDiOwWkStDEc4YY8Ihae4WPvh1Mzee2JmLE9vBLy9BdC0YfEu4owVFIHsEZ6hqBnAu\nsAnnKuEHghnKGGPCZf6mNP46fjkndWvOQyN6wv6dsORT6Hc5xLUMd7ygCKQQFLUsOgf4QlX3BTGP\nMcaETWpWIbd8tIC2jevyymX9iYmOgjlvQEEeHH9nuOMFTVnXEQBMFJHVQBZwq3uhWHZwYxljTGhl\n5Rbw0qIcsvOi+PSmATSqFwvZGTDvXTjqfGiWEO6IQVPmHoGqPgQcDwxQ1TzgIM5dQ40xplpQVR76\neilbMgp5YVQ/urWMg9XfwnsjIGcfnPDHcEcMqkBOFtcDbgNedwe1AUq/g50xxkSgl39cz/jFO7iw\nawynxS6Dt4dB0uWQdxD+8D60TQx3xKAK5NDQezi3kj7efb0d+AKYGKxQxhgTKuMXb+f579dyf/dd\nXJX+Bny8Ghp1gPNfgWMug+hAviYjWyCfMEFVR4nIZQCqetA6jzHGVAfzN6XxwBdLeTh+NjdveYmc\nWs3gnOfh2Kuq3dXD/gRSCHLdu4cqgIgk4HRDaYwxEWtz6gHGfLiA0Q0WMybjFeh6OnNaj+HkgWeE\nO1rIBdJ89DFgCtBeRD4GfgD+FNRUxhgTRPsO5nHd+/PoX7icJ3KfR9omwqUfUBhdc/YCiitzj0BV\nvxeRhcBxOLeg/qOW6ErSGGMiRW5+ITd/NJ8Gaat4o95zSKPOcPnnUKt+uKOFTSCthk4AslX1W5wu\nJx8RkY5BT2aMMVVMVXlk3DJ2/LaKz+KeJaZuQ7jqa6jXNNzRwiqQQ0OvAwdF5BjgXpx+hccGNZUx\nxgTBc9+tZfqCFUxo9Bx1ogrhqnHQqF24Y4VdIIUg3+0+ciTwqqq+ClS/2+8ZY6q1D37ZxGvT1jKu\nyUs0KkiDK76EFj3CHcsTAmk1tF9EHgauBE4WkSggNrixjDGm6kxalszj36zgL+2W0X7PKrjwLWhn\n18UWCWSPYBROc9EbVHUn0A54NqipjDGmivy6IZW7kxYzuH19rs/9GFr3q3ZdTVZWIK2GdgLPF3u9\nBTtHYIyJAKuSMxgzdj4dm9XjvaMWIdO3wQXVq+P5qhBIq6HjRGSeiGSKSK6IFIhImbeiFpH2IjJN\nRFaKyAoROeKuTSIyVET2ichi9/Foacsyxpjy2rb3INe8O5f6tWMYe3kP6s7+DyQMhy6nhDua5wRy\njuAVYDTO/YUGAFcD3QOYLx+4T1UXikgDYIGIfK+qK0tMN1NVzy1PaGOM8WfX/myuemcu2XkFfHnr\n8bRe9hxkp8Npj4c7micFtH+kquuBaFUtUNX3gLMCmCdZVRe6z/cDq4C2lQlrjDFlST+Yy9XvzCUl\nI5v3rhtI97r7Yfbr0OdSaN033PE8SZyWoX4mEJkBnAb8F9gJJAPXquoxAb+JSCdgBtDb7fayaPhQ\n4CtgG7ADuF9VV5Qy/xhgDEB8fHxiUlJSoG99mMzMTOLi4io0byTx+ue0fJXj9Xy+hCJ3Vr7yr3nZ\nbN1fyL2JdTiqWTQ9Vr9MfMp05g56jey68WHPWBmVyTds2LAFqlp6UylV9fsAOgJ1gIY49x16Huha\n1nzF5o/DuY31RaWMawjEuc/PBtaVtbzExEStqGnTplV43kji9c9p+SrH6/l8CXbugzn5eukbv2iX\nh7/V71fsdAamrFJ9vLHq5IcCWobX/7aVyQfMVx/fqz4PDYlICxE5SlU3q2q2qmao6hPAO0BA/RaL\nSCzOL/6PVfXrUopQhqpmus8nAbEi0jyQZRtjTJHc/EJu/XgBczel8fylx3DaUe4v/x+ehNj6cNL9\n4Q3ocf7OEbwMlPal3BR4sawFu30WvAOsUtXnfUzTqqhvAxEZ5OZJLWvZxhhTJL+gkLs/W8T0Nbv5\nx4V9GNnPPRW5ZTas+RZO/CPUbxbekB7nr9VQV1WdUXKgqs4UkddLm6GEE4CrgGUistgd9gjQwV3O\nG8AlwK0ikg9kAaPdXRhjjClTQaFy/xdLmLRsJ385pxejB3VwRmydB59fDXGt4LjbwhsyAvgrBP7u\nJ1TmLSZUdRbObav9TfMKTvNUY4wpl4JC5b7PF/N/i3fwwJk9uPGkLs6IRR/DxLuhYRsY/WmNvr10\noPwdGlovImeXHCgiI4CNwYtkjDH+Fe0JFBWB24d1hYJ8mPwQjL8NOgyBm6ZB/FHhjhoR/O0R3A18\nKyKX4rT6AeeCsiGAXQBmjAmLgkLlgS+WMG7Rdu4/o7tTBA6mwRfXwm8/OYeCTv9bjeh0vqr4/Eup\n6joR6QNcDvR2B/8E3Kyq2aEIZ4wxxRUVga8Xbee+07tzx6ndIO03+PACyNgBI1+FY68Md8yI47dk\nqmoO8F6IshhjjE8FhcoDXx4qAncO7waqMOFOOLgXrv0W2g8Kd8yIZPtOxhjPyyso5J7PFjNxaTL3\nFhUBgKWfw6aZcM7zVgQqwQqBMcbTsvMKuOOThfxv1S4eHtGTm09JcEZk7YWpj0DbAZB4XXhDRjgr\nBMYYzzqQk8+YD+fz8/pU/nZBb646ruOhkT88CVlpTr/D1r9ApfgsBCKyDPB5cZeq2m38jDFBsy8r\nj+vem8virek894djuDixWCfzW+fB/PfguFvtjqJVwN8eQVET0dvdfz90/70ieHGMMQZSM3O4+t25\nrE3Zz6uX92dEn9aHRhbkw8R7oEFrGPZI+EJWI/6aj24GEJHTVfXYYqMeEpGFwEPBDmeMqXm2p2dx\n9Ttz2LY3i7evHsDQHi0Pn2Dum5CyDC4dC7X93QDBBCqQA2siIicUe3F8gPMZY0y5rNm5n4tf+4Vd\n+3MYe/2gI4vAvu0w7Wnodgb0Oj88IauhQE4W3wC8KyKN3NfpwPXBi2SMqYnmbEzlprHzqVsrmi9u\nGULPVg2PnGjKQ1CYD2c/C+L3VmamHMosBKq6ADimqBCoakB9ERhjTKCmLN/JXUmLaNekLmOvH0S7\nJvWOnGjGv2HVBDj1r9CkU8gzVmdlHuIRkXgReQdIUtV9InKUiNwQgmzGmBrgo9mbue3jBRzdpiFf\n3XJ86UVg5nPw49+g7yg48Z7Qh6zmAjnW/z4wFWjjvl6Lc0M6Y4ypMFXlue/W8Jf/W86wHi355Mbj\naFK/1pETznzeuWagz6VwwesQFR36sNVcIIWguap+DhQCqGo+UBDUVMaYai07r4C7khbz8o/rGTWg\nPW9elUjdWqV8wc/6D/zwBPT5A1z4hhWBIAnkZPEBEWmGe3GZiBxHgH0WG2NMSamZOdw0dj4Lt6Tz\n0Iie3HxyF6S0E7+zXoD/PQ69L4ELrAgEUyCF4F5gApAgIj8DLXC6mDTGmHJZl7Kf6z+Yx66MHF6/\nosSFYkVUD+0J9L4YLnzT+hYIskBaDS0UkVOAHjhdT65R1bygJzPGVCsr9hRw5+u/UDsmms9uHkK/\n9o2PnCgvC765G5YmuUXgLSsCIVDmX1hEooGzgU7u9GeICKr6fBnztQfGAvE4h5XeUtUXS0wjwIvu\n8g8C16rqwgp8DmOMR6kqH83ZwvMLsunasgHvXDug9JZB6VvhsysgeQkMfQROfsBuJhcigZTab4Bs\nYBnuCeMA5QP3uXsUDYAFIvK9qq4sNs0IoJv7GAy87v5rjKkGcvILeHzCCj6du5W+LaL5+NYhNKgT\ne+SEv81wuposyIPLPoMeZ4U8a00WSCFoV5E7japqMpDsPt8vIquAtkDxQjASGKuqCswWkcYi0tqd\n1xgTwXZlZHPLRwtYuCWd24clkFgr+cgioAqzX4fv/gLNEmD0J9C8W3gC12CB7HdNFpEzKvMmItIJ\nOBaYU2JUW2Brsdfb3GHGmAi2aMtezntlFquSnbuHPnBmT6JKaxk05WGY+jD0GAE3/mBFIEzE+THu\nZwKRC4GPcIpGHs4JY1XVUm4EUur8cTid3v9dVb8uMW4i8IyqznJf/wA8qKrzS0w3BhgDEB8fn5iU\nlBTIWx8hMzOTuLi4Cs0bSbz+OS1f5Xg938xteXywIpcmdYS7+tehfQPn92bJ3G22T6L7ujfZ1vZc\n1ne9AST85wO8/retTL5hw4YtUNUBpY5UVb8P4DegL27RKM8DiMW5KvleH+PfBC4r9noN0NrfMhMT\nE7Wipk2bVuF5I4nXP6flqxyv5svKzdeHvlqiHR+cqJe//aumZeYcNv6w3BumqT7eRPXjS1UL8kMZ\n0y+v/m2LVCYfMF99fK8Gco5gK7DcXVDA3BZB7wCr1HcLownAHSKShHOSeJ/a+QFjIs7m1APc+tFC\nViZncOvQBO47vTsx0T5+4adugM+vgebd4aK37UIxDwikEGwEpovIZCCnaKCfL/ciJwBXActEZLE7\n7BGggzv/G8AknKaj63Gaj1oP1MZEmCnLk3ngi6VERQnvXDOA4b3ifU+clQ6fjHIOA132KdQJ6Aiz\nCbJACsFv7qOW+wiIOsf9/d4w3N3LuN3fNMYYb8orKOSZyat5Z9ZvHNOuEa9c3p/2TUu5PsAlhQXw\n5XWwdxNcPR6adg5dWOOX30LgXkzWQFXvD1EeY0wE2Jp2kD8mLWLhlnSuGdKRR87pRe0Y/4d4Eja8\nB9t/hPNfhk4n+J3WhJbfQqCqBcW7qTTGmPGLt/OXccsBePmyYznvmDa+J87OcDqTWZJEu+0z4bjb\noP/VIUpqAhXIoaHFIjIB+AI4UDRQSzQFNcZUb5k5+Tw6fjlfL9xOYscmvDCqX+mHggryYMOPsCQJ\n1kyC/Gxo2oWNna+ky+l/C31wU6ZACkEdIBU4tdgwBawQGFNDLN6azh+TFjmHhIZ3485Tux7ZKig/\nFxa85/QmlpkCdZvCsVc5vYq1G8CWn36ii91AzpMCufuoteQxpobKLyjkjZ828ML/1hHfsA6f3TyE\ngZ2aHj5RYSEs+wKmPQXpW6DTSXDei5AwHGICbl9iwshnIRCRP6nqv0TkZdxOaYpT1buCmswYE1br\nd2Vy3xdLWLI1nXP7tubvF/ShUb1i9wpShXXfO/0GpCyHVn3gyq+cAlDa7SSMZ/nbIyi6Odx8P9MY\nY6qZwkLl3Z9/49mpa6hbK5qXR/fjvIQY2D3PuRgsbYPz7+41sGcNNOkEF78DR19kt42OUP4KwShg\nItBYS/QjYIypZlRh00wy5yexav0GjslKY1rdbFrFHCBqfDposW7Ko2KcL/+mXWDQTdD/GjsEFOH8\nFYJEEWkDXC8iYylxcZiqpgU1mTEm+AoLYe1kdObzyPb5FGh9GtKcJi3iaRHfGqnbFOo1hbh4aJoA\nzbpAow7Wa1g1429tvgH8AHQBFnB4IVB3uDEmEhXkw/KvnL6Bd68iJaoVL+ddT3Lni/jbJQNo2bhu\nuBOaEPJZCFT1JeAlEXldVW8NYSZjTFX59j5YM+XI4bmZkJ3OnnoJ/CP/dn6KPYk/X9KHC/q1RexE\nb40TSPPRW91bTcQXn15VtwQzmDGmkgoLYPGnzrH81sccNmr3wTxe3NqNj9N6MrJfO6aeexTN4mqH\nKagJt0A6r78DeBxI4VCfxYrTR4ExxqtS10PeARhyG/S7HIC0A7n8a8pqkpZupW3jurx7XW+G9WgZ\n5qAm3AI543M30ENVU4MdxkaQV60AACAASURBVBhThZKXOP+2PobCQiVp3lb+NXU1mdn5jDm5C3cN\n70ZcbTvpawIrBFuBfcEOYoypYslLIKYOS3Pi+etrP7Nk2z4GdW7KUxf0pnt8g3CnMx5Sno5pvqV8\nHdMYY8Iob9sidtbqzMjX59Csfm3+M+oYOxlsShVIIdjiPsrVMY0xJjxy8gv44OeNXLZlITMKT+Ca\nIZ2494zuNKwTW/bMpkYKpNXQEwAiEue+zgx2KGNM+akq361M4elJq9C03xhTO4vTh5/OFUOPDnc0\n43Fl3hhERHqLyCJgBbBCRBaIiG1ZxnjI8u37uPztOdz84QJqRUfx+nCnt7CW3QeHOZmJBIEcGnoL\nuFdVpwGIyFDgbeD4IOYyxgRgc+oB/v3dWr5ZsoMm9WL528ijuWxQB2KmTXPuCdTyqHBHNBEgkEJQ\nv6gIAKjqdBGpX9ZMIvIucC6wS1V7lzJ+KDAe+M0d9LWqPhlQamNquF37s3n5h/V8OncLsdFR3DGs\nK2NO6XLoPEDyEmjZC2LsIjFTtoBaDYnIX4EP3ddX4rQkKsv7wCvAWD/TzFTVcwNYljEGyMjO4+t1\nudz243Ry8wsZPag9d53ajZYN6xyaSNUpBD1GhC+oiSiBFILrgSdwuqZUYKY7zC9VnSEinSoTzhjj\n2J+dx3s/b+K/MzeSkZ3PuX1bc/8ZPejUvJSd84ztcDAVWvcLfVATkUT1iM7HnBEidYAGqrq7xPCW\nQIaqZpe5cKcQTPRzaOgrYBuwA7hfVVf4WM4YYAxAfHx8YlJSUllvXarMzEzi4uIqNG8k8frntHyB\ny8pXvt+cx9RNeRzIg2NbRnNGm3x6tfKdr9meOfRZ/jQLj/0nGY16hjCtf176u/ri9YyVyTds2LAF\nqjqg1JGqWuoD5yTxRaUMvxB43dd8JabtBCz3Ma4hEOc+PxtYF8gyExMTtaKmTZtW4Xkjidc/p+Ur\n276sXH3lx3V6zBNTteODE/WG9+fqsm3pqhpAvh//rvp4Y9WcA8EPWg5e+LuWxesZK5MPmK8+vlf9\ndkyjqmNKKRzjROSpCpWkw5eTUez5JBF5TUSaq+qeyi7bmEi1JzOHd2f9xoe/bmZ/Tj6n9mzJ3ad1\no2+7xoEvJHkJNO8BteoFL6ipVvwVAn9bUaU7JhWRVkCKqqqIDHKXaTe2MzXStr0HeXvGRpLmbSW3\noJCze7fm1qEJ9G7bqPwL27EYugyt6oimGvNXCHaJyCBVnVt8oIgMBHb7mKf4dJ8CQ4HmIrINeAyI\nBVDVN4BLgFtFJB/IAka7uy/G1Bgrd2Tw31kbmbB4BwAX9W/LzackkNCigsep9++EzJ1H9D9gjD/+\nCsEDwOci8j5OV5UAA4CrgdFlLVhVLytj/Cs4zUuNqVEKC5Wf1u7mv7M28vP6VOrViubK4zpy08ld\naFvZLiKTlzr/WiEw5eCvq8q57iGb24Fr3cErgMGquisE2YypVrLzChi3aDvvzPqN9bsyiW9YmwfP\n6snlgzrQqF4V3RCuqA+CVn2qZnmmRvB7HYH7hf9YiLIYUy1tTTvIR3M289m8raQfzOOo1g35z6hj\nOKdPG2rFVPp02+GSF0PTBKjTsGqXa6o1n4VARL7BaUI6RVXzSozrgrOXsElV3w1qQmMiUGGh8vOG\nPXzwy2Z+WJ1ClAin94rn6uM7MqRLs+D1CZC8FNqV3lTcGF/87RHcBNwLvCAiaTgniOvgXBuwAXhF\nVccHPaExESTtQC5fL9zGJ3O3sHH3AZrH1eL2oV25fHAH2lT2+H9ZDqbBvi0w8Ibgvo+pdvydI9gJ\n/An4k3uFcGuc1j1rVfVgSNIZEwFUlV83pvLp3K1MXb6T3IJC+ndozAuj+jGiTytqx0SHJkixPoqN\nKY8y7zUkIvFAU5xuKpOtCBjjSMnI5uuF2/ls3hY2pR6kUd1YLh/cgcsGdaBHqzD0CWyFwFSQv3ME\n/YA3gEbAdndwOxFJB25T1YUhyGeMp2TnFfC/VSl8uWAbM9buplBhUKem/PG0bozo3Zo6sSH69V+a\n5CXQqAPUaxq+DCYi+dsjeB+4WVXnFB8oIscB7wH2s8PUCKrKoq3pfL1wGxMW7yAjO5/Wjepw29Cu\nXNS/LV0qevFXVUteAq37hjuFiUD+CkH9kkUAQFVnB9IxjTGRbv2uTMYv3s74xTvYknaQOrFRnHV0\nKy5JbM+QhGZERwWp5U9FZGdA2gbo5/c6TmNK5a8QTBaRb3E6ltnqDmuPc2XxlGAHMyYcdu7LZspv\nefx72UyWb88gSuD4hObceWpXzurdigZ1qujCr6q2c5nzr/VBYCrAX6uhu0RkBDASaOsO3g68qqqT\nQhHOmFBIychm0rJkvl2azPzNewHo264ufz33KM7r2/rw3r9CJScTFo6Fg0fejLfz5s1QMOPwgb8X\nAjtia8qvrCuLJwOTQ5TFmJDZuS+bqSt28u3SZOZtTkMVerZqwP1ndKd51lZGn3NieIIVFsKyz+H7\nx5ybx0Ud+V+0vSpsK+WwVLuBENcyBCFNdRNIV5VHEJG3SuurwBgv27TnAFNX7GTKip0s2pIOQI/4\nBtxzWnfO7tOari2dk77Tp2/3t5jg2TYfJj8I2+dD20QY9RG0H3jEZDOmT2fo0KGhz2eqLX/NR321\nQROcHsWM8TRVZcWODGYvXMSiNb+xKdW5BKZryzhGH9+MIQnN6NC0HnAQCjZAsjNf3P6NkNwkdEEL\n8mHef2HJJxAXDxe8Dn1HQ1QV34fIGB/87RHsBjbjfPEXUfe17X8aT8rJL+DX9XtYvuhn6q2fxAl5\nv3Jj1DZnZG13on3AQvdRigFw6MbroRJdC068B066D2qH4WI0U6P5KwQbgeGquqXkCBHZWsr0xoTG\n3k2wfQG4/Rjty8pjRXIGK7fvIyplKcN1DkOjdlFIFKktEjnQ9xbqx3cJePHLli+nT+/eQQrvQ6s+\n0LhDaN/TGJe/QvAC0AQ4ohAA/wpOHGN82J8CK8bB8i9h27zDRjUCjncf+VEx7Gt1PHnHPkzsUefR\nIq5Fud8qdWd96Dm0KlIbExH8NR991c+4l4MTx4RU7kFY9x0U5JU9bRVqmbISlpbZ26kjOx1WTUA3\nzUK0kO21E/hSLmdKdh/yJIaj2zRicOemDO7cjC4t6hPToBXN6lSgn19jarBAbjp3USmD9wHLrKey\nCFZYAF9c4xSCEDsKYFXg0++Ias2XeeczoeB40mMSOKVXC27p3pxTuregcb1awYppTI0RSPPRG4Ah\nwDT39VCcU2mdReRJVf0wSNlMME172ikCZzwF3UeE9K3nzJ3D4EGDDxumKBv3HGDB5r3M37SXpdv2\nkpOvqMTQqmN3TukRz4vdm9OrVUOivHRrB2OqgUAKQQzQS1VT4PfbUo8FBgMzgFILgYi8C5wL7FLV\nI868idNF04s4TVEPAtfaHU1DZOUEmPlvOPYqGHIHBKu3LB+y6m2D5l3Znp7Fz+v38Mv6Pfy8IZXd\n+3MASGjRlJMG9uCkbs0Z3KUZcbUrdLmLMSZAgfwPa19UBFy73GFpIuLv4PL7wCs4RaM0I4Bu7mMw\n8Lr7rwmmlJUw7hbnKtRzngtpEdh7IJfZG1P5YkUOT8yfzm97DgDQPK4WQxKac1LX5pzYrXnwe/Iy\nxhwmkEIwXUQmAl+4ry9xh9UH0n3NpKoz3J7NfBkJjFVVBWaLSGMRaa2qyYFFN+WWtReSLofacXDp\nhxBTu+x5KiEzJ595v6Xxy4Y9/Lw+lVU7M1CFOtFwfLemXDG4Ayd2a06P+AbB68PXGFMmUbctts8J\nnP+hFwFFN1/5GfhKy5rRmbcTMNHHoaGJwDOqOst9/QPwoKrOL2XaMcAYgPj4+MSkpKSy3rpUmZmZ\nxMV55N7xQVTq59QC+ix7iiZ7l7K431NkNOpV5e+bU6Cs21vI6rQCVqUW8FtGIYUKMVHQrXEUvZpF\n06tpNC2js2jU0Lvrwevbidfz+RIJub2esTL5hg0btkBVB5Q2rsw9AlVVEZkF5OJcWTw3kCJQlVT1\nLeAtgAEDBmhF77MyvSbcoyVzF/Omf8vAnh0PH74kCdIWwrn/of+A66vkrbLzCli4ZS+zN6Ty68ZU\nFm9NJ69AiYkS+rZrxK39m3F8QnMSOzY5rOcur68HyxcckZDb6xmDlS+Q5qOXAs8C03FuL/GyiDyg\nql9W8r234/RvUKQdh7rENOW1bxvM+Dcs+pCBhflwxH4V0P8aqEQRyMkvYPGWdH7dmMqvG1JZtDWd\n3PxCogR6t23E9Sd0ZkhCMwZ2akp9O8FrTMQI5H/rn4GBRdcMiEgL4H9AZQvBBOAOEUnCOUm8z84P\nVMD+nTDzeVjwnnPLhf7XsDyrBb1L3iIhti50HlquRefmF7JkW/rvv/gXbN5LTn4hInB0m4ZcfVxH\n54u/c1MaerXDFmNMmQIpBFElLhxLBcq8LaKIfIpzzUFzEdkGPAbEAqjqG8AknKaj63Gaj15XruQ1\n3cE0mPkczHsHCnLh2Cvg5AegcQf2TJ8OvYaWe5F5BYUs3baP2RtTmb0xlfmb9pKVVwBAr9YNuWJw\nR47r4lzF26ieffEbU10EUgimiMhU4FP39SicL3G/VNVv56nueYbbA3h/U1LuAXj/XNi9CvqOglP+\nBE0Dv6lakYJCZcWOffzq/uKf91saB3KdL/4e8Q0YNbA9x3VpxuDOTWlS367gNaa6CuRk8QMicjFw\ngjvoLVUdF9xYxidVGH+7UwQu/wK6nVaOWZW1KZn8smEPv2xwfvXvz84HIKFFfS7q344hCc4Xf7O4\n4DYtNcZ4R0Bn9FT1K+CrIGcxgfj5BecunKc9EVAR2JJ6kJ837OHn9Xv4dUMqqQdyAejYrB7n9m3N\ncV2aMaRLs/D0y2uM8QR/PZTtx2kuesQonCM7DYOWypRu/f/gf0/A0RfBCX8sdZI9mTnMTs5nyldL\nmbV+D9v2ZgEQ37A2p3RvwZAEp2eudk3qhTK5McbD/N2G2rpJ8pK0jfDl9RB/NIx85fdbQ2TnFTBv\nUxqz1u1h5ro9rEzOAKBBnWSGdGnGmJO7cHxCcxJa1Lerd40xpbLG3pEgJxOSrgAEHfURa9MK+Wnt\nBmau28Pc39LIyS8kNlpI7NiEB87sQd19m7nm/FOJtrt0GmMCYIWgqmSlQ2F+UBadO+FeYnet5r+d\nnuWdNzayM2Ml4HTCfvngDpzcrQWDOh+6iGv69G1WBIwxAbNCUBVWf+vczC1IagFP511G0qb2nNit\nMad0b8FJ3VrYXTqNMVXCCkFVWPwJxMU7F3RVUG5+Aet3H2Btyn7Wpewnw23W2aZxXdq268SZQ/7A\nn9o3ISa6zGv5jDGmXKwQVFbOflj3PSReC4NuKtesO/dl88PqFP63MoWfN6SSm19Ig9oxnNS9OUN7\ntGRojxa0bGDNOo0xwWWFoLLWToWCHDj6gjInLbqga+qKnXy/MoVl2/cB0L5pXa4c3JHTerVkYOem\nxNqvfmNMCFkhqKwV4yCuFbQ/rtTRhYXK4m3pTF2xk6nLd7Ip9SAi0K99Yx44swenHxVPt5Zx1rTT\nGBM2VggqIyfTucir/9UQdehXfGGhMn/zXr5duoMpK3aSkpFDTJQwJKEZN57UhTOOircreY0xnmGF\noDLWToH8bDj6QgoLlQVb9vLt0mQmL08mJSOH2jFRnNK9BSP6tOLUHvF2x05jjCdZIagEXfl/5Ndr\nyT+XNmTixz+yMyOb2jFRDO3RgnP6tmF4z5bWQYsxxvPsW6oCfttzgMkL1nPDqql8mj+UD2Zv4ZTu\nLXn47J4M7xVPnH35G2MiiH1jBSj9YC4Tluzgq4XbWbI1nfOif6F2bC7tT7yM+Sefbod9jDERywqB\nH3kFhcxYu5svF2zjh1W7yC0opGerBjxydk+u2vIx7Ixn+BkjISq67IUZY4xHWSEoxfpdmXw2bwvj\nFm1nT2YuzerX4srjOnJxYluObtPIaS004wc49iorAsaYiGeFwJWdV8CkZckkzd3K3E1pxEQJw3u1\n5JLE9gzt0eLwi7zWTXVbC5V9EZkxxnhdUAuBiJwFvAhEA/9V1WdKjL8WeBbY7g56RVX/G8xMJa1N\n2c8nc7bw9cJtZGTn06lZPR4a0ZOL+7ejRQMf3TWu+D+o3xI6DAllVGOMCYqgFQIRiQZeBU4HtgHz\nRGSCqq4sMelnqnpHsHKUJq+gkO9XpjD2103M3phGregozurditGD2jOkSzP/V/nmHnDuLXTsFXZY\nyBhTLQRzj2AQsF5VNwKISBIwEihZCEImPaeQl35Yx8dzNpOSkUO7JnV5aERPLh3Qnqb1awW2kLVT\nIT8LjrLDQsaY6iGYhaAtsLXY623A4FKmu1hETgbWAveo6tZSpqm0b5bs4L7pWRToWk7u3oK/X9CR\nYT1blr8Dl5XuYaGOxwcjpjHGhJyoltY/fRUsWOQS4CxVvdF9fRUwuPhhIBFpBmSqao6I3AyMUtVT\nS1nWGGAMQHx8fGJSUlK586RmFTJx3UHOTKhHq/pl392zy4b3aZq2+Ijh9Q5uJbn16azrfku5M4RK\nZmYmcXFx4Y7hk+WrHK/n8yUScns9Y2XyDRs2bIGqDihtXDD3CLYD7Yu9bsehk8IAqGpqsZf/Bf5V\n2oJU9S3gLYABAwbo0KFDKxSoWd3pBDTvuu9h+jjnjqL1mh0+LrovbU/9K22bd6tQhlCYPj3Azxkm\nlq9yvJ7Pl0jI7fWMwcoXzEIwD+gmIp1xCsBo4LD+HEWktaomuy/PB1YFMU9gCvJg6p+haRe45huI\nCfDcgTHGRKigFQJVzReRO4CpOM1H31XVFSLyJDBfVScAd4nI+UA+kAZcG6w8AVvwPuxZA6M/sSJg\njKkRgnodgapOAiaVGPZosecPAw8HM0O5ZO2FaX+HzidDj7PDncYYY0LC+kQs7qdnISsdznwarMcw\nY0wNYYWgyJ71MPdNp7exVn3CncYYY0LGCkGR7/8KMXXh1L+EO4kxxoSUFQKAjdNhzSQ4+T6Iaxnu\nNMYYE1JWCAoLYMoj0LgDDL413GmMMSbkas5tqDf/Qp+lT8L2Vw8fnp0Bu1bAHz6A2DrhyWaMMWFU\ncwpBfg6xefvgQOGR4wbfAkeNDH0mY4zxgJpTCBKGsTDxOU9fPm6MMeFg5wiMMaaGs0JgjDE1nBUC\nY4yp4awQGGNMDWeFwBhjajgrBMYYU8NZITDGmBrOCoExxtRwQeu8PlhEZDewuYKzNwf2VGEcr/L6\n57R8leP1fL5EQm6vZ6xMvo6q2qK0ERFXCCpDROar6oBw5wg2r39Oy1c5Xs/nSyTk9nrGYOWzQ0PG\nGFPDWSEwxpgarqYVgrfCHSBEvP45LV/leD2fL5GQ2+sZg5KvRp0jMMYYc6SatkdgjDGmBCsExhhT\nw1khMMaYGs4KgTHG1HBWCKoxEZnsgQwDRGSaiHwkIu1F5HsR2Sci80Tk2HDnM6EnImFvmSMiXUTk\nXRF5SkTiRORtEVkuIl+ISKdw5wMQkbOKPW8kIu+IyFIR+URE4qvyvaptIXC/dJJEZKaIPCIiscXG\n/V84s1UlEenv45EI9At3PuA14F/At8AvwJuq2gh4yB0XViJyfbHn7UTkBxFJF5FfRKR7OLO5mSJy\nOxaRpj4ezYCzw50PeB+YB2QCs4HVwAhgCvBu+GId5uliz58DkoHzcHK/WZVvVG2bj4rI98BXOCv5\nBiAROE9VU0VkkapWi1+jIlIA/ARIKaOPU9W6IY50mOJ/axHZoqodShsXLiKyUFX7u88/B/4H/BcY\nCdyhqsPDnC8it2N3u9zM4duluq/bqmqtsARzeX27dHMU3zYXq2q/YuMOe11ZMVW1IA9qoapvuM/v\nFJErgRkicj7OBlldrAJuVtV1JUeIyNYw5CkpW0TOABoBKiIXqOr/icgpQEGYs5XUXVUvdZ+PE5FH\nw5rGEanb8UZguKpuKTnCI9tlobvH1wioJyIDVHW+iHQFosOcrUhLEbkXp3g2FBHRQ7/cq/RoTnUu\nBLEiUkdVswFU9SMR2QlMBeqHN1qVehzfG8WdIczhyy04h4YKgTOBW0XkfWA7cFMYcxVpJyIv4fxn\nayEisaqa546L9TNfqETqdvwC0AQ4ohDgbA/h9ifgG5zt8gLgYRE5BmiIN7ZLgLeBBu7zD3DuPLpb\nRFoBi6vyjarzoaF7gIWq+lOJ4ccC/1LV08OTzHiJiFxTYtAEVd3r/me7S1UfCUeuIrYdh46INAf2\nqqrX9lSDrtoWgppERM7E+VXT1h20HRivqlPCl+oQH/n+T1Wnhi+VCTYR6YlzrqX4ep+gqqvCl+oQ\nH/nGq+rq8KUKjIhcp6rvVdnyqnMhcL+A2gE/qOqmYsOvV1WvtAyoFBF5AegOjAW2uYPbAVcD61T1\nj+HKBt7P54+IPKqqT3ogR8RtxyLyIHAZkMTh6300kKSqz4QrG3g/X1lKnuCu9PKqayEQkX8AJwAL\ncZpcvaCqL7vjfj8bH+lEZK2qHtHMUUQEWKuq3cIQq3gOT+fzp6r/s1UwQ0RuxyKyFji62PmWouG1\ngBXhXu9ez+dmWeprFE7DhtpV9V7V+WTxucCxqpovIo8Dn4hIF1W9h9KbWkaqbBEZqKrzSgwfCGSH\nI1AJns4nIhm+RgFhbXrritTtuBBow5HdyrZ2x4Wb1/MBxOM0sNhbYrjgXJNTZapzIYhR1XwAVU0X\nkfOAt0TkCyCsbZir2LXA6yLSgEO7uO2Bfe64cLsWb+dLBwaqakrJER5p5hip2/HdwA8isg4o+jt2\nALoCd4Qt1SFezwcwEYhT1SNaCInI9Kp8o+p8aGgi8GwprS2eAh5R1Wp1VbXbyuX3k16qujOceUry\naj53e5igqnNLGfdPVX0wDLGKZ4jY7VhEooBBHH4ydp5XWuV4PV8oVedCUBdAVbNKGddWVbeHPlVo\niMjjqvp4uHP44vV8XlKdtmMRGaOqYb/PkC9ezwfBy+jZXxOVpapZJf/zuMdYiaT/PBV0frgDlMHT\n+Yq2Ey+oZtvxLeEOUAav54MgZay2hcAHT38BVSEvn0QE7+fz+nbi9Xy+eH29ez0fBCljTSsEkbCi\nq0JiuAOUwev5vL6deD2fL+eFO0AZvJ4PgpSxphUCr38BVYiInCkiN4h7H3VVLXSHX+9vvlDxer5S\neH078Xo+xHGpiPzBfT4c+JOI3OaepLV8ZQhlxmp7stgfr1wxWhVE5GngRDx6wZHX87k5PH3lrtfz\nlUZEXgNa4jRxzQBqAxOAc4CUcF9R7vV8EOKMqlrjHsCWcGeows+yDKetOUBjYBLwH/f1IstXZr6n\ngRk4d8vcANxZbNxCy1fx9e7+GwukArXc1zHAUsvnrYye2AUKBhHJ8PHYj3NFYXVx2AVHOL+6G3ro\ngiOv5zsPOFVV78Y55DJCRP7jjvPCsXiv5/OlaJ3n4bTNz3Vf5+ONK3e9ng9CmLHaFgKcK0a7qWrD\nEo8GOF2+VRcbxOnkBQBVLVDVG4A1QK/wxfqd1/N5vVB5PZ8vO0UkDkBVi/e92wrIDVuqQ7yeD0KY\nsdqeI/D6FaNVxesXHEVAPk9fuev1fOUlIvWB+qq6K9xZSuP1fBCcjNW2ENQkItIIOIvDL5Wf6v6C\nDDsv54uAQuXpfP54eb2D9/NB6DJG1K+J8hKRRiIySkTudR+jRKRxuHNVJRG5GqdFzlCgnvsYBixw\nx4WV1/O5X7C1SttOvPAl6/V8vnh9vXs9H4Q2Y7XdI3D/UI8B3+FUUXCa4J0OPKGqY8OVrSqJyBpg\ncMlfCCLSBJijpfQFEEoRkM/T24nX8/kSAevd0/ncLCHLWJ1vQ/1nINHXHxGnx6zqQIDSqnkh3mhV\n4vV8Xt9OvJ7PF6+vd6/ngxBmrM6FIBJWdFX4O7BQRL7j8Puqnw78LWypDvF6Pq9vJ17P54vX17vX\n80EIM1bnQ0PXAI/i7FIf8UdU1ffDFK3Kub8Oz+TIE0olezYKCy/n8/p24vV8/nh5vYP380HoMlbb\nQgCRsaKDQUTOVdWJ4c7hi9fyeX078Xq+QHltvZfk9XwQvIzVuhCUFAkruip45R4+vkRAPk9vJ17P\n50sErHdP54PgZazWzUdLUS1uNBcALx87Bu/n8/p24vV8vnh9vXs9H1h/BFUiElZ0Vbg53AHK4PV8\nXt9OvJ7PF6+vd6/ngyBlrM6thkoTCSu63ESkJzCSYseQRWS/qq4KY6zfeT1fKby+nXg9H+D99e71\nfBC6jNW6EETCiq4sEXkQuAxIAoruq9QO+FREklT1mbCFw/v5wPvbidfzlcbr693r+SC0GavtyeIS\nf8Rt7uB2wGjAEyu6KojIWuBo91a1xYfXAlaoarfwJPs9h9fzeXo78Xo+XyJgvXs6n5slZBmr8x7B\nDZT+R3weWAF48j9QBRTi9K+wucTw1njjvupez+f17cTr+Xzx+nr3ej4IYcbqXAgiYUVXhbuBH0Rk\nHYdfcNQVuCNsqQ7xej6vbydez+eL19e71/NBCDNW50NDZwGvAKX+EVV1SriyVTVxOrIexOEXHM1T\n1YLwpTrEy/m8vp14PZ8/Xl7v4P18ELqM1bYQQGSsaBN+Xt9OvJ7PRL5qfR2Bqhaq6mxV/cp9zK5u\n/3lEpK+IzBaRrSLylns7gqJxR/TOFmpezwfe3068nq80Xl/vXs8Hoc1YbQtBJKzoKvIa8DjQB1gL\nzBKRBHdcbLhCFePpfF7fTryezw9Pr3e8nw9CmVFVq+UDmIXTxVtj4H6cFhYJ7rhF4c5XhZ9zSYnX\nw3COJx8HLLR8kb2deD1fBK93T+cLdcawf9jq8EcM9+cEGpUY1tf9rKmWL7K3E6/ni+T17uV8oc5Y\nbQ8NAUUdPwOgqtOAi4EPgY5hC1X1/gn0Kj5AVZcCw4Gvw5LocF7P5/ntxOv5fPD6evd6Pghhxmrb\nakhELgc2qursEsM7AH9V1ZvCk8x4ide3E6/nM9VDtS0ENYX7a/Fh4AKgJU63hruA8cAzWqKv21Dz\nej4THF5f717PB6HNhNHtVAAAAndJREFUWG0PDYlIIxF5RkRWi/x/e2fM4kQQhuHns7bQOyEWB6bT\nUrAUJKDICYKddneVrXbiX0jpT7AVC7GzES0ECzsLue7EJleYNFcevBa7gZyw8Q7WnXc33wMpdobA\nM/t9yTAzuzMxj4jfEfGjLrtU2q9F3gALYCJpS9I21Tzyoq4rjbWfe564+63BOu74+0GHjoMdEUTE\nB+Aj8FrSrC67CuwDdyXdL+nXFhFxIOn6eeu6ogd+1nni7tdED+Ju7fcvj7YdBzsiAMaSpssfD4Ck\nmaQp3ots5+VnRLyIiNGyICJGUe1a+WvN97rC3c89T9z9mnCPu7sfdOg45I6gD4FugyfANvA5IhYR\nMQc+AVvA45JiNe5+7nni7teEe9zd/aBDxyFPDV0GXlId6DGiWmg5At4DU0nzgnqtEtXBJTvAV0nH\nK+W7MtiUzNnPPU/c/dbhHPfaw9oPOnQs/dLE//wAN4B7wMW/yndLu7XYxmfAAfAOOAQerdQVf+HI\n3a8PeeLu18e4u/t17Vi8sUO4iYXb+X35BwGMgW/A8/q6+BYEPfCzzhN3vx7H3dqva8chH0zzFLgl\n6TgixsDbiBhLegVEUbN2uaB6yCjpMCImVG29hkc73f3c88Tdrwn3uLv7QYeOQ14sPnUTgQnwIKoj\n/lwC3QZHEXFzeVG3+SFwhWrXwtK4+7nnibtfE+5xd/eDDh2H3BH0IdBtsAfMVgsknUjaA+6UUTqF\nu597nrj7NeEed3c/6NBxyE8N7QAnWnn+eqXutqQvBbQSM9zzxN0vGQaD7QiSJEmSszHkqaEkSZLk\nDGRHkCRJsuFkR5AkSbLhZEeQJEmy4fwBJGGYea30zjkAAAAASUVORK5CYII=\n",
        "metadata": {
         "tags": []
        },
        "output_type": "display_data",
        "text/plain": "<Figure size 432x288 with 1 Axes>"
       },
       {
        "image/png": "iVBORw0KGgoAAAANSUhEUgAAAX4AAAE4CAYAAABc25iNAAAABHNCSVQICAgIfAhkiAAAAAlwSFlz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\n",
        "metadata": {
         "tags": []
        },
        "output_type": "display_data",
        "text/plain": "<Figure size 432x288 with 1 Axes>"
       }
      ]
     }
    },
    "9990de9e25274567a9b20a0a450b774e": {
     "model_module": "@jupyter-widgets/controls",
     "model_name": "DescriptionStyleModel",
     "state": {
      "_model_module": "@jupyter-widgets/controls",
      "_model_module_version": "1.5.0",
      "_model_name": "DescriptionStyleModel",
      "_view_count": null,
      "_view_module": "@jupyter-widgets/base",
      "_view_module_version": "1.2.0",
      "_view_name": "StyleView",
      "description_width": ""
     }
    },
    "9c7a8e7f9678438799fa66c40018f118": {
     "model_module": "@jupyter-widgets/controls",
     "model_name": "DropdownModel",
     "state": {
      "_dom_classes": [],
      "_model_module": "@jupyter-widgets/controls",
      "_model_module_version": "1.5.0",
      "_model_name": "DropdownModel",
      "_options_labels": [
       "Confirmed",
       "Deaths",
       "Recovered"
      ],
      "_view_count": null,
      "_view_module": "@jupyter-widgets/controls",
      "_view_module_version": "1.5.0",
      "_view_name": "DropdownView",
      "description": "series",
      "description_tooltip": null,
      "disabled": false,
      "index": 0,
      "layout": "IPY_MODEL_46071001529e493fbb781d3094be7add",
      "style": "IPY_MODEL_ebc0d32d8d17455bb92faa7b1d75bc70"
     }
    },
    "a22662d4591b40daae38a18ac0c1d86b": {
     "model_module": "@jupyter-widgets/output",
     "model_name": "OutputModel",
     "state": {
      "_dom_classes": [],
      "_model_module": "@jupyter-widgets/output",
      "_model_module_version": "1.0.0",
      "_model_name": "OutputModel",
      "_view_count": null,
      "_view_module": "@jupyter-widgets/output",
      "_view_module_version": "1.0.0",
      "_view_name": "OutputView",
      "layout": "IPY_MODEL_c126167d572743beadf166a6ab72cd9a",
      "msg_id": "",
      "outputs": [
       {
        "image/png": "iVBORw0KGgoAAAANSUhEUgAAAYUAAAEWCAYAAACJ0YulAAAABHNCSVQICAgIfAhkiAAAAAlwSFlz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\nRf4fVoNlTBwoDLgAAAAASUVORK5CYII=\n",
        "metadata": {
         "tags": []
        },
        "output_type": "display_data",
        "text/plain": "<Figure size 432x288 with 1 Axes>"
       }
      ]
     }
    },
    "a5497f5c79a940bc9f82ebb023ab1e59": {
     "model_module": "@jupyter-widgets/base",
     "model_name": "LayoutModel",
     "state": {
      "_model_module": "@jupyter-widgets/base",
      "_model_module_version": "1.2.0",
      "_model_name": "LayoutModel",
      "_view_count": null,
      "_view_module": "@jupyter-widgets/base",
      "_view_module_version": "1.2.0",
      "_view_name": "LayoutView",
      "align_content": null,
      "align_items": null,
      "align_self": null,
      "border": null,
      "bottom": null,
      "display": null,
      "flex": null,
      "flex_flow": null,
      "grid_area": null,
      "grid_auto_columns": null,
      "grid_auto_flow": null,
      "grid_auto_rows": null,
      "grid_column": null,
      "grid_gap": null,
      "grid_row": null,
      "grid_template_areas": null,
      "grid_template_columns": null,
      "grid_template_rows": null,
      "height": null,
      "justify_content": null,
      "justify_items": null,
      "left": null,
      "margin": null,
      "max_height": null,
      "max_width": null,
      "min_height": null,
      "min_width": null,
      "object_fit": null,
      "object_position": null,
      "order": null,
      "overflow": null,
      "overflow_x": null,
      "overflow_y": null,
      "padding": null,
      "right": null,
      "top": null,
      "visibility": null,
      "width": null
     }
    },
    "aba7704c0db542898dc8b92e2d8b4041": {
     "model_module": "@jupyter-widgets/controls",
     "model_name": "VBoxModel",
     "state": {
      "_dom_classes": [
       "widget-interact"
      ],
      "_model_module": "@jupyter-widgets/controls",
      "_model_module_version": "1.5.0",
      "_model_name": "VBoxModel",
      "_view_count": null,
      "_view_module": "@jupyter-widgets/controls",
      "_view_module_version": "1.5.0",
      "_view_name": "VBoxView",
      "box_style": "",
      "children": [
       "IPY_MODEL_883264ffe9f248fc86d19143f0c0eea3",
       "IPY_MODEL_9c7a8e7f9678438799fa66c40018f118",
       "IPY_MODEL_989951965ef84970a61fbbe300e559b0"
      ],
      "layout": "IPY_MODEL_91825e2c6c204fdba6ec5901ed7d16d1"
     }
    },
    "c238f38a8683494c9cdd8b37484540ee": {
     "model_module": "@jupyter-widgets/output",
     "model_name": "OutputModel",
     "state": {
      "_dom_classes": [],
      "_model_module": "@jupyter-widgets/output",
      "_model_module_version": "1.0.0",
      "_model_name": "OutputModel",
      "_view_count": null,
      "_view_module": "@jupyter-widgets/output",
      "_view_module_version": "1.0.0",
      "_view_name": "OutputView",
      "layout": "IPY_MODEL_71aa51cbb0c04d28b51610f9833bb6da",
      "msg_id": "",
      "outputs": [
       {
        "image/png": "iVBORw0KGgoAAAANSUhEUgAAAYUAAAEWCAYAAACJ0YulAAAABHNCSVQICAgIfAhkiAAAAAlwSFlz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\n",
        "metadata": {
         "tags": []
        },
        "output_type": "display_data",
        "text/plain": "<Figure size 432x288 with 1 Axes>"
       }
      ]
     }
    },
    "ca59317dd8d546f4ad8a6ab0d119ca9c": {
     "model_module": "@jupyter-widgets/base",
     "model_name": "LayoutModel",
     "state": {
      "_model_module": "@jupyter-widgets/base",
      "_model_module_version": "1.2.0",
      "_model_name": "LayoutModel",
      "_view_count": null,
      "_view_module": "@jupyter-widgets/base",
      "_view_module_version": "1.2.0",
      "_view_name": "LayoutView",
      "align_content": null,
      "align_items": null,
      "align_self": null,
      "border": null,
      "bottom": null,
      "display": null,
      "flex": null,
      "flex_flow": null,
      "grid_area": null,
      "grid_auto_columns": null,
      "grid_auto_flow": null,
      "grid_auto_rows": null,
      "grid_column": null,
      "grid_gap": null,
      "grid_row": null,
      "grid_template_areas": null,
      "grid_template_columns": null,
      "grid_template_rows": null,
      "height": null,
      "justify_content": null,
      "justify_items": null,
      "left": null,
      "margin": null,
      "max_height": null,
      "max_width": null,
      "min_height": null,
      "min_width": null,
      "object_fit": null,
      "object_position": null,
      "order": null,
      "overflow": null,
      "overflow_x": null,
      "overflow_y": null,
      "padding": null,
      "right": null,
      "top": null,
      "visibility": null,
      "width": null
     }
    },
    "ce5081fdfb4f4aa88c6516bfca3305d8": {
     "model_module": "@jupyter-widgets/base",
     "model_name": "LayoutModel",
     "state": {
      "_model_module": "@jupyter-widgets/base",
      "_model_module_version": "1.2.0",
      "_model_name": "LayoutModel",
      "_view_count": null,
      "_view_module": "@jupyter-widgets/base",
      "_view_module_version": "1.2.0",
      "_view_name": "LayoutView",
      "align_content": null,
      "align_items": null,
      "align_self": null,
      "border": null,
      "bottom": null,
      "display": null,
      "flex": null,
      "flex_flow": null,
      "grid_area": null,
      "grid_auto_columns": null,
      "grid_auto_flow": null,
      "grid_auto_rows": null,
      "grid_column": null,
      "grid_gap": null,
      "grid_row": null,
      "grid_template_areas": null,
      "grid_template_columns": null,
      "grid_template_rows": null,
      "height": null,
      "justify_content": null,
      "justify_items": null,
      "left": null,
      "margin": null,
      "max_height": null,
      "max_width": null,
      "min_height": null,
      "min_width": null,
      "object_fit": null,
      "object_position": null,
      "order": null,
      "overflow": null,
      "overflow_x": null,
      "overflow_y": null,
      "padding": null,
      "right": null,
      "top": null,
      "visibility": null,
      "width": null
     }
    },
    "d61af3937cb4447bbbef9a7cdbb97357": {
     "model_module": "@jupyter-widgets/controls",
     "model_name": "DescriptionStyleModel",
     "state": {
      "_model_module": "@jupyter-widgets/controls",
      "_model_module_version": "1.5.0",
      "_model_name": "DescriptionStyleModel",
      "_view_count": null,
      "_view_module": "@jupyter-widgets/base",
      "_view_module_version": "1.2.0",
      "_view_name": "StyleView",
      "description_width": ""
     }
    },
    "ebc0d32d8d17455bb92faa7b1d75bc70": {
     "model_module": "@jupyter-widgets/controls",
     "model_name": "DescriptionStyleModel",
     "state": {
      "_model_module": "@jupyter-widgets/controls",
      "_model_module_version": "1.5.0",
      "_model_name": "DescriptionStyleModel",
      "_view_count": null,
      "_view_module": "@jupyter-widgets/base",
      "_view_module_version": "1.2.0",
      "_view_name": "StyleView",
      "description_width": ""
     }
    },
    "f5fc0bf80f8f4ae8b3a709341dc018b5": {
     "model_module": "@jupyter-widgets/controls",
     "model_name": "VBoxModel",
     "state": {
      "_dom_classes": [
       "widget-interact"
      ],
      "_model_module": "@jupyter-widgets/controls",
      "_model_module_version": "1.5.0",
      "_model_name": "VBoxModel",
      "_view_count": null,
      "_view_module": "@jupyter-widgets/controls",
      "_view_module_version": "1.5.0",
      "_view_name": "VBoxView",
      "box_style": "",
      "children": [
       "IPY_MODEL_883264ffe9f248fc86d19143f0c0eea3",
       "IPY_MODEL_a22662d4591b40daae38a18ac0c1d86b"
      ],
      "layout": "IPY_MODEL_fdbbb36dba8e43d99b126443f0d58829"
     }
    },
    "f627a4d1c63f416e8b534e3143627dbe": {
     "model_module": "@jupyter-widgets/base",
     "model_name": "LayoutModel",
     "state": {
      "_model_module": "@jupyter-widgets/base",
      "_model_module_version": "1.2.0",
      "_model_name": "LayoutModel",
      "_view_count": null,
      "_view_module": "@jupyter-widgets/base",
      "_view_module_version": "1.2.0",
      "_view_name": "LayoutView",
      "align_content": null,
      "align_items": null,
      "align_self": null,
      "border": null,
      "bottom": null,
      "display": null,
      "flex": null,
      "flex_flow": null,
      "grid_area": null,
      "grid_auto_columns": null,
      "grid_auto_flow": null,
      "grid_auto_rows": null,
      "grid_column": null,
      "grid_gap": null,
      "grid_row": null,
      "grid_template_areas": null,
      "grid_template_columns": null,
      "grid_template_rows": null,
      "height": null,
      "justify_content": null,
      "justify_items": null,
      "left": null,
      "margin": null,
      "max_height": null,
      "max_width": null,
      "min_height": null,
      "min_width": null,
      "object_fit": null,
      "object_position": null,
      "order": null,
      "overflow": null,
      "overflow_x": null,
      "overflow_y": null,
      "padding": null,
      "right": null,
      "top": null,
      "visibility": null,
      "width": null
     }
    },
    "fdbbb36dba8e43d99b126443f0d58829": {
     "model_module": "@jupyter-widgets/base",
     "model_name": "LayoutModel",
     "state": {
      "_model_module": "@jupyter-widgets/base",
      "_model_module_version": "1.2.0",
      "_model_name": "LayoutModel",
      "_view_count": null,
      "_view_module": "@jupyter-widgets/base",
      "_view_module_version": "1.2.0",
      "_view_name": "LayoutView",
      "align_content": null,
      "align_items": null,
      "align_self": null,
      "border": null,
      "bottom": null,
      "display": null,
      "flex": null,
      "flex_flow": null,
      "grid_area": null,
      "grid_auto_columns": null,
      "grid_auto_flow": null,
      "grid_auto_rows": null,
      "grid_column": null,
      "grid_gap": null,
      "grid_row": null,
      "grid_template_areas": null,
      "grid_template_columns": null,
      "grid_template_rows": null,
      "height": null,
      "justify_content": null,
      "justify_items": null,
      "left": null,
      "margin": null,
      "max_height": null,
      "max_width": null,
      "min_height": null,
      "min_width": null,
      "object_fit": null,
      "object_position": null,
      "order": null,
      "overflow": null,
      "overflow_x": null,
      "overflow_y": null,
      "padding": null,
      "right": null,
      "top": null,
      "visibility": null,
      "width": null
     }
    }
   }
  }
 },
 "nbformat": 4,
 "nbformat_minor": 1
}
