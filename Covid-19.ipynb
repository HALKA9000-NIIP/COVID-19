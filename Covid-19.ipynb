{
 "cells": [
  {
   "cell_type": "markdown",
   "metadata": {},
   "source": [
    "# Covid-19 Notebook\n",
    "## Original notebook by Leon Avery, PhD\n",
    "https://www.facebook.com/leon.avery.10/posts/10221691168285770\n",
    "Original version: http://www.math.uwaterloo.ca/~lavery/Covid-19/\n",
    "\n",
    "This notebook has been adapted by Mark Kittisopikul, PhD, for general use. This notebook\n",
    "1. Pulls data from Johns Hopkins University Center for Systems Science and Engineering at https://github.com/CSSEGISandData/COVID-19\n",
    "2. Imports the data into a table via Pandas\n",
    "3. Plots the data"
   ]
  },
  {
   "cell_type": "code",
   "execution_count": null,
   "metadata": {},
   "outputs": [],
   "source": [
    "import os, csv\n",
    "import datetime\n",
    "import matplotlib.pyplot as plt\n",
    "import pandas as pd\n",
    "import subprocess\n",
    "import numpy as np\n",
    "%matplotlib inline"
   ]
  },
  {
   "cell_type": "code",
   "execution_count": null,
   "metadata": {},
   "outputs": [],
   "source": [
    "datasource = 'https://github.com/CSSEGISandData/COVID-19.git'\n",
    "nation = 'US'\n",
    "series = 'Confirmed'"
   ]
  },
  {
   "cell_type": "code",
   "execution_count": null,
   "metadata": {},
   "outputs": [],
   "source": [
    "covid19_dir = os.getcwd();\n",
    "ts_file = os.path.join(\n",
    "    covid19_dir,\n",
    "    'csse_covid_19_data',\n",
    "    'csse_covid_19_time_series',\n",
    "    'time_series_19-covid-{series}.csv'.format(series=series)    \n",
    ")\n",
    "[\n",
    "    covid19_dir,\n",
    "    ts_file\n",
    "]"
   ]
  },
  {
   "cell_type": "code",
   "execution_count": null,
   "metadata": {},
   "outputs": [],
   "source": [
    "subprocess.run(['git','remote','add','CSSEGISandData',datasource])\n",
    "subprocess.run(['git','fetch','CSSEGISandData'])\n",
    "subprocess.run(['git','merge','CSSEGISandData/master'])"
   ]
  },
  {
   "cell_type": "code",
   "execution_count": null,
   "metadata": {},
   "outputs": [],
   "source": [
    "with open(ts_file, 'r') as csvfile:\n",
    "    tsreader = csv.DictReader(csvfile)\n",
    "    ts_data = list(tsreader)"
   ]
  },
  {
   "cell_type": "code",
   "execution_count": null,
   "metadata": {},
   "outputs": [],
   "source": [
    "ts_frame = pd.read_csv(ts_file, parse_dates=True, date_parser=pd.to_datetime)\n",
    "ts_frame"
   ]
  },
  {
   "cell_type": "code",
   "execution_count": null,
   "metadata": {},
   "outputs": [],
   "source": [
    "list(ts_frame.loc[:,'Country/Region'])"
   ]
  },
  {
   "cell_type": "code",
   "execution_count": null,
   "metadata": {},
   "outputs": [],
   "source": [
    "nationrows = ts_frame.loc[:, 'Country/Region'] == nation\n",
    "nationrows"
   ]
  },
  {
   "cell_type": "code",
   "execution_count": null,
   "metadata": {},
   "outputs": [],
   "source": [
    "nation_frame = ts_frame[nationrows]\n",
    "nation_frame"
   ]
  },
  {
   "cell_type": "code",
   "execution_count": null,
   "metadata": {},
   "outputs": [],
   "source": [
    "nation_frame.aggregate(np.sum)"
   ]
  },
  {
   "cell_type": "code",
   "execution_count": null,
   "metadata": {},
   "outputs": [],
   "source": [
    "nation_series = nation_frame.agg(np.sum)[4:]\n",
    "[\n",
    "    type(nation_series),\n",
    "    nation_series\n",
    "]"
   ]
  },
  {
   "cell_type": "code",
   "execution_count": null,
   "metadata": {
    "scrolled": false
   },
   "outputs": [],
   "source": [
    "strdates = nation_series.keys()\n",
    "dates = [pd.to_datetime(sd) for sd in strdates]\n",
    "[\n",
    "    type(strdates),\n",
    "    strdates,\n",
    "    type(dates),\n",
    "    dates,\n",
    "    np.array(nation_series[:])\n",
    "]"
   ]
  },
  {
   "cell_type": "code",
   "execution_count": null,
   "metadata": {},
   "outputs": [],
   "source": [
    "nation_series.plot(\n",
    "    logy=True, \n",
    "    title='Cumulative {series}: {nation}'.format(series=series, nation=nation)\n",
    ")"
   ]
  }
 ],
 "metadata": {
  "kernelspec": {
   "display_name": "Python 3",
   "language": "python",
   "name": "python3"
  },
  "language_info": {
   "codemirror_mode": {
    "name": "ipython",
    "version": 3
   },
   "file_extension": ".py",
   "mimetype": "text/x-python",
   "name": "python",
   "nbconvert_exporter": "python",
   "pygments_lexer": "ipython3",
   "version": "3.7.4"
  }
 },
 "nbformat": 4,
 "nbformat_minor": 4
}
