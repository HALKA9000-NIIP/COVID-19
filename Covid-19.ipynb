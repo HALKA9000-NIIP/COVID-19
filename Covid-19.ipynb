{
 "cells": [
  {
   "cell_type": "markdown",
   "metadata": {
    "colab_type": "text",
    "id": "view-in-github"
   },
   "source": [
    "<a href=\"https://colab.research.google.com/github/mkitti/COVID-19/blob/lavery_notebook/Covid-19.ipynb\" target=\"_parent\"><img src=\"https://colab.research.google.com/assets/colab-badge.svg\" alt=\"Open In Colab\"/></a>"
   ]
  },
  {
   "cell_type": "markdown",
   "metadata": {
    "colab_type": "text",
    "id": "iVkj4qUwv9Ke"
   },
   "source": [
    "# Covid-19 Notebook\n",
    "## Original notebook by Leon Avery, PhD\n",
    "https://www.facebook.com/leon.avery.10/posts/10221691168285770\n",
    "Original version: http://www.math.uwaterloo.ca/~lavery/Covid-19/\n",
    "\n",
    "This notebook has been adapted by Mark Kittisopikul, PhD, for general use. This notebook\n",
    "1. Pulls data from Johns Hopkins University Center for Systems Science and Engineering at https://github.com/CSSEGISandData/COVID-19\n",
    "2. Imports the data into a table via Pandas\n",
    "3. Plots the data"
   ]
  },
  {
   "cell_type": "markdown",
   "metadata": {},
   "source": [
    "# Other Works\n",
    "\n",
    "## Using Python scientific tools for a (rough) analysis of COVID-19 data\n",
    "\n",
    "https://medium.com/@santiagocasas/using-python-scientific-tools-for-a-rough-analysis-of-covid-19-data-d3ac58f474bf\n",
    "https://colab.research.google.com/drive/1Q_VWV6XsD9yMNoKEQpQ9Xe23bwb0UFym"
   ]
  },
  {
   "cell_type": "markdown",
   "metadata": {},
   "source": [
    "# Setup"
   ]
  },
  {
   "cell_type": "code",
   "execution_count": 1,
   "metadata": {
    "colab": {},
    "colab_type": "code",
    "id": "jYmnIBe9v9Kg"
   },
   "outputs": [],
   "source": [
    "import os, csv\n",
    "import datetime\n",
    "import matplotlib\n",
    "import matplotlib.pyplot as plt\n",
    "import pandas as pd\n",
    "import subprocess\n",
    "import numpy as np\n",
    "%matplotlib inline\n",
    "pd.plotting.register_matplotlib_converters()"
   ]
  },
  {
   "cell_type": "code",
   "execution_count": 2,
   "metadata": {},
   "outputs": [
    {
     "data": {
      "text/plain": [
       "{str: <matplotlib.category.StrCategoryConverter at 0x7f7dae79bd50>,\n",
       " numpy.str_: <matplotlib.category.StrCategoryConverter at 0x7f7dae79bd90>,\n",
       " bytes: <matplotlib.category.StrCategoryConverter at 0x7f7dae79bdd0>,\n",
       " numpy.bytes_: <matplotlib.category.StrCategoryConverter at 0x7f7dae79be10>,\n",
       " numpy.datetime64: <pandas.plotting._matplotlib.converter.DatetimeConverter at 0x7f7dac25ef10>,\n",
       " datetime.date: <pandas.plotting._matplotlib.converter.DatetimeConverter at 0x7f7dac4e60d0>,\n",
       " datetime.datetime: <pandas.plotting._matplotlib.converter.DatetimeConverter at 0x7f7dae0d7310>,\n",
       " pandas._libs.tslibs.timestamps.Timestamp: <pandas.plotting._matplotlib.converter.DatetimeConverter at 0x7f7dd43f9950>,\n",
       " pandas._libs.tslibs.period.Period: <pandas.plotting._matplotlib.converter.PeriodConverter at 0x7f7dae5b3650>,\n",
       " datetime.time: <pandas.plotting._matplotlib.converter.TimeConverter at 0x7f7dac25eed0>}"
      ]
     },
     "execution_count": 2,
     "metadata": {},
     "output_type": "execute_result"
    }
   ],
   "source": [
    "matplotlib.units.registry"
   ]
  },
  {
   "cell_type": "code",
   "execution_count": 3,
   "metadata": {
    "colab": {},
    "colab_type": "code",
    "id": "rMiJOT3_v9Kl"
   },
   "outputs": [],
   "source": [
    "# This defines the default nation and series below\n",
    "nation = 'US'\n",
    "series = 'Confirmed'"
   ]
  },
  {
   "cell_type": "code",
   "execution_count": 4,
   "metadata": {
    "colab": {
     "base_uri": "https://localhost:8080/",
     "height": 34
    },
    "colab_type": "code",
    "id": "rQpaWLqov9Kx",
    "outputId": "292b7342-3070-43f1-af6a-a70f5f517c59"
   },
   "outputs": [
    {
     "name": "stdout",
     "output_type": "stream",
     "text": [
      "Data merged\n"
     ]
    }
   ],
   "source": [
    "# Retrieve data via git\n",
    "datasource = 'https://github.com/CSSEGISandData/COVID-19.git'\n",
    "\n",
    "if(os.path.isdir('csse_covid_19_data')):\n",
    "  # Assume we are in a cloned git repository\n",
    "  subprocess.run(['git','remote','add','CSSEGISandData',datasource])\n",
    "  subprocess.run(['git','fetch','CSSEGISandData'])\n",
    "  subprocess.run(['git','merge','CSSEGISandData/master'])\n",
    "  print('Data merged')\n",
    "else:\n",
    "  # Assume no data has been downloaded\n",
    "  subprocess.run(['git','clone',datasource])\n",
    "  os.chdir('COVID-19')\n",
    "  print('Data cloned')"
   ]
  },
  {
   "cell_type": "markdown",
   "metadata": {},
   "source": [
    "# Initial Data Examination and Prototyping"
   ]
  },
  {
   "cell_type": "code",
   "execution_count": 5,
   "metadata": {
    "colab": {
     "base_uri": "https://localhost:8080/",
     "height": 51
    },
    "colab_type": "code",
    "id": "75O7jZj_v9Kq",
    "outputId": "e883fc34-6589-48ac-9198-dd95ba59c0e7"
   },
   "outputs": [],
   "source": [
    "covid19_dir = os.getcwd();\n",
    "ts_file = os.path.join(\n",
    "    covid19_dir,\n",
    "    'csse_covid_19_data',\n",
    "    'csse_covid_19_time_series',\n",
    "    'time_series_19-covid-{series}.csv'.format(series=series)    \n",
    ")\n",
    "[\n",
    "    covid19_dir,\n",
    "    ts_file\n",
    "];"
   ]
  },
  {
   "cell_type": "code",
   "execution_count": 6,
   "metadata": {
    "colab": {},
    "colab_type": "code",
    "id": "CHs6nMFvv9K1"
   },
   "outputs": [],
   "source": [
    "with open(ts_file, 'r') as csvfile:\n",
    "    tsreader = csv.DictReader(csvfile)\n",
    "    ts_data = list(tsreader)"
   ]
  },
  {
   "cell_type": "code",
   "execution_count": 7,
   "metadata": {
    "colab": {
     "base_uri": "https://localhost:8080/",
     "height": 473
    },
    "colab_type": "code",
    "id": "JuiXm-wav9K6",
    "outputId": "8b0eaf72-a1c4-4fcf-bc66-2ed1143846f8"
   },
   "outputs": [
    {
     "data": {
      "text/html": [
       "<div>\n",
       "<style scoped>\n",
       "    .dataframe tbody tr th:only-of-type {\n",
       "        vertical-align: middle;\n",
       "    }\n",
       "\n",
       "    .dataframe tbody tr th {\n",
       "        vertical-align: top;\n",
       "    }\n",
       "\n",
       "    .dataframe thead th {\n",
       "        text-align: right;\n",
       "    }\n",
       "</style>\n",
       "<table border=\"1\" class=\"dataframe\">\n",
       "  <thead>\n",
       "    <tr style=\"text-align: right;\">\n",
       "      <th></th>\n",
       "      <th>Province/State</th>\n",
       "      <th>Country/Region</th>\n",
       "      <th>Lat</th>\n",
       "      <th>Long</th>\n",
       "      <th>1/22/20</th>\n",
       "      <th>1/23/20</th>\n",
       "      <th>1/24/20</th>\n",
       "      <th>1/25/20</th>\n",
       "      <th>1/26/20</th>\n",
       "      <th>1/27/20</th>\n",
       "      <th>...</th>\n",
       "      <th>3/12/20</th>\n",
       "      <th>3/13/20</th>\n",
       "      <th>3/14/20</th>\n",
       "      <th>3/15/20</th>\n",
       "      <th>3/16/20</th>\n",
       "      <th>3/17/20</th>\n",
       "      <th>3/18/20</th>\n",
       "      <th>3/19/20</th>\n",
       "      <th>3/20/20</th>\n",
       "      <th>3/21/20</th>\n",
       "    </tr>\n",
       "  </thead>\n",
       "  <tbody>\n",
       "    <tr>\n",
       "      <th>0</th>\n",
       "      <td>NaN</td>\n",
       "      <td>Thailand</td>\n",
       "      <td>15.0000</td>\n",
       "      <td>101.0000</td>\n",
       "      <td>2</td>\n",
       "      <td>3</td>\n",
       "      <td>5</td>\n",
       "      <td>7</td>\n",
       "      <td>8</td>\n",
       "      <td>8</td>\n",
       "      <td>...</td>\n",
       "      <td>70</td>\n",
       "      <td>75</td>\n",
       "      <td>82</td>\n",
       "      <td>114</td>\n",
       "      <td>147</td>\n",
       "      <td>177</td>\n",
       "      <td>212</td>\n",
       "      <td>272</td>\n",
       "      <td>322</td>\n",
       "      <td>411</td>\n",
       "    </tr>\n",
       "    <tr>\n",
       "      <th>1</th>\n",
       "      <td>NaN</td>\n",
       "      <td>Japan</td>\n",
       "      <td>36.0000</td>\n",
       "      <td>138.0000</td>\n",
       "      <td>2</td>\n",
       "      <td>1</td>\n",
       "      <td>2</td>\n",
       "      <td>2</td>\n",
       "      <td>4</td>\n",
       "      <td>4</td>\n",
       "      <td>...</td>\n",
       "      <td>639</td>\n",
       "      <td>701</td>\n",
       "      <td>773</td>\n",
       "      <td>839</td>\n",
       "      <td>825</td>\n",
       "      <td>878</td>\n",
       "      <td>889</td>\n",
       "      <td>924</td>\n",
       "      <td>963</td>\n",
       "      <td>1007</td>\n",
       "    </tr>\n",
       "    <tr>\n",
       "      <th>2</th>\n",
       "      <td>NaN</td>\n",
       "      <td>Singapore</td>\n",
       "      <td>1.2833</td>\n",
       "      <td>103.8333</td>\n",
       "      <td>0</td>\n",
       "      <td>1</td>\n",
       "      <td>3</td>\n",
       "      <td>3</td>\n",
       "      <td>4</td>\n",
       "      <td>5</td>\n",
       "      <td>...</td>\n",
       "      <td>178</td>\n",
       "      <td>200</td>\n",
       "      <td>212</td>\n",
       "      <td>226</td>\n",
       "      <td>243</td>\n",
       "      <td>266</td>\n",
       "      <td>313</td>\n",
       "      <td>345</td>\n",
       "      <td>385</td>\n",
       "      <td>432</td>\n",
       "    </tr>\n",
       "    <tr>\n",
       "      <th>3</th>\n",
       "      <td>NaN</td>\n",
       "      <td>Nepal</td>\n",
       "      <td>28.1667</td>\n",
       "      <td>84.2500</td>\n",
       "      <td>0</td>\n",
       "      <td>0</td>\n",
       "      <td>0</td>\n",
       "      <td>1</td>\n",
       "      <td>1</td>\n",
       "      <td>1</td>\n",
       "      <td>...</td>\n",
       "      <td>1</td>\n",
       "      <td>1</td>\n",
       "      <td>1</td>\n",
       "      <td>1</td>\n",
       "      <td>1</td>\n",
       "      <td>1</td>\n",
       "      <td>1</td>\n",
       "      <td>1</td>\n",
       "      <td>1</td>\n",
       "      <td>1</td>\n",
       "    </tr>\n",
       "    <tr>\n",
       "      <th>4</th>\n",
       "      <td>NaN</td>\n",
       "      <td>Malaysia</td>\n",
       "      <td>2.5000</td>\n",
       "      <td>112.5000</td>\n",
       "      <td>0</td>\n",
       "      <td>0</td>\n",
       "      <td>0</td>\n",
       "      <td>3</td>\n",
       "      <td>4</td>\n",
       "      <td>4</td>\n",
       "      <td>...</td>\n",
       "      <td>149</td>\n",
       "      <td>197</td>\n",
       "      <td>238</td>\n",
       "      <td>428</td>\n",
       "      <td>566</td>\n",
       "      <td>673</td>\n",
       "      <td>790</td>\n",
       "      <td>900</td>\n",
       "      <td>1030</td>\n",
       "      <td>1183</td>\n",
       "    </tr>\n",
       "    <tr>\n",
       "      <th>...</th>\n",
       "      <td>...</td>\n",
       "      <td>...</td>\n",
       "      <td>...</td>\n",
       "      <td>...</td>\n",
       "      <td>...</td>\n",
       "      <td>...</td>\n",
       "      <td>...</td>\n",
       "      <td>...</td>\n",
       "      <td>...</td>\n",
       "      <td>...</td>\n",
       "      <td>...</td>\n",
       "      <td>...</td>\n",
       "      <td>...</td>\n",
       "      <td>...</td>\n",
       "      <td>...</td>\n",
       "      <td>...</td>\n",
       "      <td>...</td>\n",
       "      <td>...</td>\n",
       "      <td>...</td>\n",
       "      <td>...</td>\n",
       "      <td>...</td>\n",
       "    </tr>\n",
       "    <tr>\n",
       "      <th>477</th>\n",
       "      <td>Northwest Territories</td>\n",
       "      <td>Canada</td>\n",
       "      <td>64.8255</td>\n",
       "      <td>-124.8457</td>\n",
       "      <td>0</td>\n",
       "      <td>0</td>\n",
       "      <td>0</td>\n",
       "      <td>0</td>\n",
       "      <td>0</td>\n",
       "      <td>0</td>\n",
       "      <td>...</td>\n",
       "      <td>0</td>\n",
       "      <td>0</td>\n",
       "      <td>0</td>\n",
       "      <td>0</td>\n",
       "      <td>0</td>\n",
       "      <td>0</td>\n",
       "      <td>0</td>\n",
       "      <td>0</td>\n",
       "      <td>0</td>\n",
       "      <td>1</td>\n",
       "    </tr>\n",
       "    <tr>\n",
       "      <th>478</th>\n",
       "      <td>NaN</td>\n",
       "      <td>Cape Verde</td>\n",
       "      <td>15.1111</td>\n",
       "      <td>-23.6167</td>\n",
       "      <td>0</td>\n",
       "      <td>0</td>\n",
       "      <td>0</td>\n",
       "      <td>0</td>\n",
       "      <td>0</td>\n",
       "      <td>0</td>\n",
       "      <td>...</td>\n",
       "      <td>0</td>\n",
       "      <td>0</td>\n",
       "      <td>0</td>\n",
       "      <td>0</td>\n",
       "      <td>0</td>\n",
       "      <td>0</td>\n",
       "      <td>0</td>\n",
       "      <td>0</td>\n",
       "      <td>0</td>\n",
       "      <td>1</td>\n",
       "    </tr>\n",
       "    <tr>\n",
       "      <th>479</th>\n",
       "      <td>NaN</td>\n",
       "      <td>East Timor</td>\n",
       "      <td>-8.5500</td>\n",
       "      <td>125.5600</td>\n",
       "      <td>0</td>\n",
       "      <td>0</td>\n",
       "      <td>0</td>\n",
       "      <td>0</td>\n",
       "      <td>0</td>\n",
       "      <td>0</td>\n",
       "      <td>...</td>\n",
       "      <td>0</td>\n",
       "      <td>0</td>\n",
       "      <td>0</td>\n",
       "      <td>0</td>\n",
       "      <td>0</td>\n",
       "      <td>0</td>\n",
       "      <td>0</td>\n",
       "      <td>0</td>\n",
       "      <td>0</td>\n",
       "      <td>1</td>\n",
       "    </tr>\n",
       "    <tr>\n",
       "      <th>480</th>\n",
       "      <td>NaN</td>\n",
       "      <td>Eritrea</td>\n",
       "      <td>15.1794</td>\n",
       "      <td>39.7823</td>\n",
       "      <td>0</td>\n",
       "      <td>0</td>\n",
       "      <td>0</td>\n",
       "      <td>0</td>\n",
       "      <td>0</td>\n",
       "      <td>0</td>\n",
       "      <td>...</td>\n",
       "      <td>0</td>\n",
       "      <td>0</td>\n",
       "      <td>0</td>\n",
       "      <td>0</td>\n",
       "      <td>0</td>\n",
       "      <td>0</td>\n",
       "      <td>0</td>\n",
       "      <td>0</td>\n",
       "      <td>0</td>\n",
       "      <td>1</td>\n",
       "    </tr>\n",
       "    <tr>\n",
       "      <th>481</th>\n",
       "      <td>NaN</td>\n",
       "      <td>Uganda</td>\n",
       "      <td>1.0000</td>\n",
       "      <td>32.0000</td>\n",
       "      <td>0</td>\n",
       "      <td>0</td>\n",
       "      <td>0</td>\n",
       "      <td>0</td>\n",
       "      <td>0</td>\n",
       "      <td>0</td>\n",
       "      <td>...</td>\n",
       "      <td>0</td>\n",
       "      <td>0</td>\n",
       "      <td>0</td>\n",
       "      <td>0</td>\n",
       "      <td>0</td>\n",
       "      <td>0</td>\n",
       "      <td>0</td>\n",
       "      <td>0</td>\n",
       "      <td>0</td>\n",
       "      <td>1</td>\n",
       "    </tr>\n",
       "  </tbody>\n",
       "</table>\n",
       "<p>482 rows × 64 columns</p>\n",
       "</div>"
      ],
      "text/plain": [
       "            Province/State Country/Region      Lat      Long  1/22/20  \\\n",
       "0                      NaN       Thailand  15.0000  101.0000        2   \n",
       "1                      NaN          Japan  36.0000  138.0000        2   \n",
       "2                      NaN      Singapore   1.2833  103.8333        0   \n",
       "3                      NaN          Nepal  28.1667   84.2500        0   \n",
       "4                      NaN       Malaysia   2.5000  112.5000        0   \n",
       "..                     ...            ...      ...       ...      ...   \n",
       "477  Northwest Territories         Canada  64.8255 -124.8457        0   \n",
       "478                    NaN     Cape Verde  15.1111  -23.6167        0   \n",
       "479                    NaN     East Timor  -8.5500  125.5600        0   \n",
       "480                    NaN        Eritrea  15.1794   39.7823        0   \n",
       "481                    NaN         Uganda   1.0000   32.0000        0   \n",
       "\n",
       "     1/23/20  1/24/20  1/25/20  1/26/20  1/27/20  ...  3/12/20  3/13/20  \\\n",
       "0          3        5        7        8        8  ...       70       75   \n",
       "1          1        2        2        4        4  ...      639      701   \n",
       "2          1        3        3        4        5  ...      178      200   \n",
       "3          0        0        1        1        1  ...        1        1   \n",
       "4          0        0        3        4        4  ...      149      197   \n",
       "..       ...      ...      ...      ...      ...  ...      ...      ...   \n",
       "477        0        0        0        0        0  ...        0        0   \n",
       "478        0        0        0        0        0  ...        0        0   \n",
       "479        0        0        0        0        0  ...        0        0   \n",
       "480        0        0        0        0        0  ...        0        0   \n",
       "481        0        0        0        0        0  ...        0        0   \n",
       "\n",
       "     3/14/20  3/15/20  3/16/20  3/17/20  3/18/20  3/19/20  3/20/20  3/21/20  \n",
       "0         82      114      147      177      212      272      322      411  \n",
       "1        773      839      825      878      889      924      963     1007  \n",
       "2        212      226      243      266      313      345      385      432  \n",
       "3          1        1        1        1        1        1        1        1  \n",
       "4        238      428      566      673      790      900     1030     1183  \n",
       "..       ...      ...      ...      ...      ...      ...      ...      ...  \n",
       "477        0        0        0        0        0        0        0        1  \n",
       "478        0        0        0        0        0        0        0        1  \n",
       "479        0        0        0        0        0        0        0        1  \n",
       "480        0        0        0        0        0        0        0        1  \n",
       "481        0        0        0        0        0        0        0        1  \n",
       "\n",
       "[482 rows x 64 columns]"
      ]
     },
     "execution_count": 7,
     "metadata": {},
     "output_type": "execute_result"
    }
   ],
   "source": [
    "ts_frame = pd.read_csv(ts_file, parse_dates=True, date_parser=pd.to_datetime)\n",
    "ts_frame"
   ]
  },
  {
   "cell_type": "code",
   "execution_count": 8,
   "metadata": {
    "colab": {
     "base_uri": "https://localhost:8080/",
     "height": 1000
    },
    "colab_type": "code",
    "id": "JZR84GiPv9LA",
    "outputId": "77b3b2f3-b139-4168-c3fd-754d4d65713d"
   },
   "outputs": [],
   "source": [
    "list(ts_frame.loc[:,'Country/Region']);"
   ]
  },
  {
   "cell_type": "code",
   "execution_count": 9,
   "metadata": {
    "colab": {
     "base_uri": "https://localhost:8080/",
     "height": 221
    },
    "colab_type": "code",
    "id": "W2QKhKhTv9LF",
    "outputId": "6473d076-c3b1-4070-cf14-4a7595c5acc8"
   },
   "outputs": [],
   "source": [
    "nationrows = ts_frame.loc[:, 'Country/Region'] == nation\n",
    "nationrows;"
   ]
  },
  {
   "cell_type": "code",
   "execution_count": 10,
   "metadata": {
    "colab": {
     "base_uri": "https://localhost:8080/",
     "height": 439
    },
    "colab_type": "code",
    "id": "bLtcFxNmv9LK",
    "outputId": "dc2b232f-ef3d-4c48-8ca6-7d59502b15f3"
   },
   "outputs": [
    {
     "data": {
      "text/html": [
       "<div>\n",
       "<style scoped>\n",
       "    .dataframe tbody tr th:only-of-type {\n",
       "        vertical-align: middle;\n",
       "    }\n",
       "\n",
       "    .dataframe tbody tr th {\n",
       "        vertical-align: top;\n",
       "    }\n",
       "\n",
       "    .dataframe thead th {\n",
       "        text-align: right;\n",
       "    }\n",
       "</style>\n",
       "<table border=\"1\" class=\"dataframe\">\n",
       "  <thead>\n",
       "    <tr style=\"text-align: right;\">\n",
       "      <th></th>\n",
       "      <th>Province/State</th>\n",
       "      <th>Country/Region</th>\n",
       "      <th>Lat</th>\n",
       "      <th>Long</th>\n",
       "      <th>1/22/20</th>\n",
       "      <th>1/23/20</th>\n",
       "      <th>1/24/20</th>\n",
       "      <th>1/25/20</th>\n",
       "      <th>1/26/20</th>\n",
       "      <th>1/27/20</th>\n",
       "      <th>...</th>\n",
       "      <th>3/12/20</th>\n",
       "      <th>3/13/20</th>\n",
       "      <th>3/14/20</th>\n",
       "      <th>3/15/20</th>\n",
       "      <th>3/16/20</th>\n",
       "      <th>3/17/20</th>\n",
       "      <th>3/18/20</th>\n",
       "      <th>3/19/20</th>\n",
       "      <th>3/20/20</th>\n",
       "      <th>3/21/20</th>\n",
       "    </tr>\n",
       "  </thead>\n",
       "  <tbody>\n",
       "    <tr>\n",
       "      <th>98</th>\n",
       "      <td>Washington</td>\n",
       "      <td>US</td>\n",
       "      <td>47.4009</td>\n",
       "      <td>-121.4905</td>\n",
       "      <td>0</td>\n",
       "      <td>0</td>\n",
       "      <td>0</td>\n",
       "      <td>0</td>\n",
       "      <td>0</td>\n",
       "      <td>0</td>\n",
       "      <td>...</td>\n",
       "      <td>442</td>\n",
       "      <td>568</td>\n",
       "      <td>572</td>\n",
       "      <td>643</td>\n",
       "      <td>904</td>\n",
       "      <td>1076</td>\n",
       "      <td>1014</td>\n",
       "      <td>1376</td>\n",
       "      <td>1524</td>\n",
       "      <td>1793</td>\n",
       "    </tr>\n",
       "    <tr>\n",
       "      <th>99</th>\n",
       "      <td>New York</td>\n",
       "      <td>US</td>\n",
       "      <td>42.1657</td>\n",
       "      <td>-74.9481</td>\n",
       "      <td>0</td>\n",
       "      <td>0</td>\n",
       "      <td>0</td>\n",
       "      <td>0</td>\n",
       "      <td>0</td>\n",
       "      <td>0</td>\n",
       "      <td>...</td>\n",
       "      <td>328</td>\n",
       "      <td>421</td>\n",
       "      <td>525</td>\n",
       "      <td>732</td>\n",
       "      <td>967</td>\n",
       "      <td>1706</td>\n",
       "      <td>2495</td>\n",
       "      <td>5365</td>\n",
       "      <td>8310</td>\n",
       "      <td>11710</td>\n",
       "    </tr>\n",
       "    <tr>\n",
       "      <th>100</th>\n",
       "      <td>California</td>\n",
       "      <td>US</td>\n",
       "      <td>36.1162</td>\n",
       "      <td>-119.6816</td>\n",
       "      <td>0</td>\n",
       "      <td>0</td>\n",
       "      <td>0</td>\n",
       "      <td>0</td>\n",
       "      <td>0</td>\n",
       "      <td>0</td>\n",
       "      <td>...</td>\n",
       "      <td>221</td>\n",
       "      <td>282</td>\n",
       "      <td>340</td>\n",
       "      <td>426</td>\n",
       "      <td>557</td>\n",
       "      <td>698</td>\n",
       "      <td>751</td>\n",
       "      <td>952</td>\n",
       "      <td>1177</td>\n",
       "      <td>1364</td>\n",
       "    </tr>\n",
       "    <tr>\n",
       "      <th>101</th>\n",
       "      <td>Massachusetts</td>\n",
       "      <td>US</td>\n",
       "      <td>42.2302</td>\n",
       "      <td>-71.5301</td>\n",
       "      <td>0</td>\n",
       "      <td>0</td>\n",
       "      <td>0</td>\n",
       "      <td>0</td>\n",
       "      <td>0</td>\n",
       "      <td>0</td>\n",
       "      <td>...</td>\n",
       "      <td>108</td>\n",
       "      <td>123</td>\n",
       "      <td>138</td>\n",
       "      <td>164</td>\n",
       "      <td>197</td>\n",
       "      <td>218</td>\n",
       "      <td>218</td>\n",
       "      <td>328</td>\n",
       "      <td>413</td>\n",
       "      <td>525</td>\n",
       "    </tr>\n",
       "    <tr>\n",
       "      <th>102</th>\n",
       "      <td>Diamond Princess</td>\n",
       "      <td>US</td>\n",
       "      <td>35.4437</td>\n",
       "      <td>139.6380</td>\n",
       "      <td>0</td>\n",
       "      <td>0</td>\n",
       "      <td>0</td>\n",
       "      <td>0</td>\n",
       "      <td>0</td>\n",
       "      <td>0</td>\n",
       "      <td>...</td>\n",
       "      <td>46</td>\n",
       "      <td>46</td>\n",
       "      <td>46</td>\n",
       "      <td>46</td>\n",
       "      <td>47</td>\n",
       "      <td>47</td>\n",
       "      <td>47</td>\n",
       "      <td>47</td>\n",
       "      <td>49</td>\n",
       "      <td>49</td>\n",
       "    </tr>\n",
       "    <tr>\n",
       "      <th>...</th>\n",
       "      <td>...</td>\n",
       "      <td>...</td>\n",
       "      <td>...</td>\n",
       "      <td>...</td>\n",
       "      <td>...</td>\n",
       "      <td>...</td>\n",
       "      <td>...</td>\n",
       "      <td>...</td>\n",
       "      <td>...</td>\n",
       "      <td>...</td>\n",
       "      <td>...</td>\n",
       "      <td>...</td>\n",
       "      <td>...</td>\n",
       "      <td>...</td>\n",
       "      <td>...</td>\n",
       "      <td>...</td>\n",
       "      <td>...</td>\n",
       "      <td>...</td>\n",
       "      <td>...</td>\n",
       "      <td>...</td>\n",
       "      <td>...</td>\n",
       "    </tr>\n",
       "    <tr>\n",
       "      <th>399</th>\n",
       "      <td>New Castle, DE</td>\n",
       "      <td>US</td>\n",
       "      <td>39.5393</td>\n",
       "      <td>-75.6674</td>\n",
       "      <td>0</td>\n",
       "      <td>0</td>\n",
       "      <td>0</td>\n",
       "      <td>0</td>\n",
       "      <td>0</td>\n",
       "      <td>0</td>\n",
       "      <td>...</td>\n",
       "      <td>0</td>\n",
       "      <td>0</td>\n",
       "      <td>0</td>\n",
       "      <td>0</td>\n",
       "      <td>0</td>\n",
       "      <td>0</td>\n",
       "      <td>0</td>\n",
       "      <td>0</td>\n",
       "      <td>0</td>\n",
       "      <td>0</td>\n",
       "    </tr>\n",
       "    <tr>\n",
       "      <th>414</th>\n",
       "      <td>Alabama</td>\n",
       "      <td>US</td>\n",
       "      <td>32.3182</td>\n",
       "      <td>-86.9023</td>\n",
       "      <td>0</td>\n",
       "      <td>0</td>\n",
       "      <td>0</td>\n",
       "      <td>0</td>\n",
       "      <td>0</td>\n",
       "      <td>0</td>\n",
       "      <td>...</td>\n",
       "      <td>0</td>\n",
       "      <td>5</td>\n",
       "      <td>6</td>\n",
       "      <td>12</td>\n",
       "      <td>29</td>\n",
       "      <td>39</td>\n",
       "      <td>46</td>\n",
       "      <td>78</td>\n",
       "      <td>83</td>\n",
       "      <td>131</td>\n",
       "    </tr>\n",
       "    <tr>\n",
       "      <th>417</th>\n",
       "      <td>Puerto Rico</td>\n",
       "      <td>US</td>\n",
       "      <td>18.2208</td>\n",
       "      <td>-66.5901</td>\n",
       "      <td>0</td>\n",
       "      <td>0</td>\n",
       "      <td>0</td>\n",
       "      <td>0</td>\n",
       "      <td>0</td>\n",
       "      <td>0</td>\n",
       "      <td>...</td>\n",
       "      <td>0</td>\n",
       "      <td>0</td>\n",
       "      <td>3</td>\n",
       "      <td>5</td>\n",
       "      <td>5</td>\n",
       "      <td>5</td>\n",
       "      <td>5</td>\n",
       "      <td>5</td>\n",
       "      <td>14</td>\n",
       "      <td>21</td>\n",
       "    </tr>\n",
       "    <tr>\n",
       "      <th>431</th>\n",
       "      <td>Guam</td>\n",
       "      <td>US</td>\n",
       "      <td>13.4443</td>\n",
       "      <td>144.7937</td>\n",
       "      <td>0</td>\n",
       "      <td>0</td>\n",
       "      <td>0</td>\n",
       "      <td>0</td>\n",
       "      <td>0</td>\n",
       "      <td>0</td>\n",
       "      <td>...</td>\n",
       "      <td>0</td>\n",
       "      <td>0</td>\n",
       "      <td>0</td>\n",
       "      <td>3</td>\n",
       "      <td>3</td>\n",
       "      <td>3</td>\n",
       "      <td>5</td>\n",
       "      <td>12</td>\n",
       "      <td>14</td>\n",
       "      <td>15</td>\n",
       "    </tr>\n",
       "    <tr>\n",
       "      <th>448</th>\n",
       "      <td>Virgin Islands</td>\n",
       "      <td>US</td>\n",
       "      <td>18.3358</td>\n",
       "      <td>-64.8963</td>\n",
       "      <td>0</td>\n",
       "      <td>0</td>\n",
       "      <td>0</td>\n",
       "      <td>0</td>\n",
       "      <td>0</td>\n",
       "      <td>0</td>\n",
       "      <td>...</td>\n",
       "      <td>0</td>\n",
       "      <td>0</td>\n",
       "      <td>1</td>\n",
       "      <td>1</td>\n",
       "      <td>1</td>\n",
       "      <td>2</td>\n",
       "      <td>2</td>\n",
       "      <td>3</td>\n",
       "      <td>3</td>\n",
       "      <td>3</td>\n",
       "    </tr>\n",
       "  </tbody>\n",
       "</table>\n",
       "<p>247 rows × 64 columns</p>\n",
       "</div>"
      ],
      "text/plain": [
       "       Province/State Country/Region      Lat      Long  1/22/20  1/23/20  \\\n",
       "98         Washington             US  47.4009 -121.4905        0        0   \n",
       "99           New York             US  42.1657  -74.9481        0        0   \n",
       "100        California             US  36.1162 -119.6816        0        0   \n",
       "101     Massachusetts             US  42.2302  -71.5301        0        0   \n",
       "102  Diamond Princess             US  35.4437  139.6380        0        0   \n",
       "..                ...            ...      ...       ...      ...      ...   \n",
       "399    New Castle, DE             US  39.5393  -75.6674        0        0   \n",
       "414           Alabama             US  32.3182  -86.9023        0        0   \n",
       "417       Puerto Rico             US  18.2208  -66.5901        0        0   \n",
       "431              Guam             US  13.4443  144.7937        0        0   \n",
       "448    Virgin Islands             US  18.3358  -64.8963        0        0   \n",
       "\n",
       "     1/24/20  1/25/20  1/26/20  1/27/20  ...  3/12/20  3/13/20  3/14/20  \\\n",
       "98         0        0        0        0  ...      442      568      572   \n",
       "99         0        0        0        0  ...      328      421      525   \n",
       "100        0        0        0        0  ...      221      282      340   \n",
       "101        0        0        0        0  ...      108      123      138   \n",
       "102        0        0        0        0  ...       46       46       46   \n",
       "..       ...      ...      ...      ...  ...      ...      ...      ...   \n",
       "399        0        0        0        0  ...        0        0        0   \n",
       "414        0        0        0        0  ...        0        5        6   \n",
       "417        0        0        0        0  ...        0        0        3   \n",
       "431        0        0        0        0  ...        0        0        0   \n",
       "448        0        0        0        0  ...        0        0        1   \n",
       "\n",
       "     3/15/20  3/16/20  3/17/20  3/18/20  3/19/20  3/20/20  3/21/20  \n",
       "98       643      904     1076     1014     1376     1524     1793  \n",
       "99       732      967     1706     2495     5365     8310    11710  \n",
       "100      426      557      698      751      952     1177     1364  \n",
       "101      164      197      218      218      328      413      525  \n",
       "102       46       47       47       47       47       49       49  \n",
       "..       ...      ...      ...      ...      ...      ...      ...  \n",
       "399        0        0        0        0        0        0        0  \n",
       "414       12       29       39       46       78       83      131  \n",
       "417        5        5        5        5        5       14       21  \n",
       "431        3        3        3        5       12       14       15  \n",
       "448        1        1        2        2        3        3        3  \n",
       "\n",
       "[247 rows x 64 columns]"
      ]
     },
     "execution_count": 10,
     "metadata": {},
     "output_type": "execute_result"
    }
   ],
   "source": [
    "nation_frame = ts_frame[nationrows]\n",
    "nation_frame"
   ]
  },
  {
   "cell_type": "code",
   "execution_count": 11,
   "metadata": {
    "colab": {
     "base_uri": "https://localhost:8080/",
     "height": 1000
    },
    "colab_type": "code",
    "id": "Cu-m1WkEv9LP",
    "outputId": "df12aec5-71e9-414a-cf2d-e3040dcdfb60"
   },
   "outputs": [
    {
     "data": {
      "text/plain": [
       "3/15/20     3499\n",
       "3/16/20     4632\n",
       "3/17/20     6421\n",
       "3/18/20     7783\n",
       "3/19/20    13677\n",
       "3/20/20    19100\n",
       "3/21/20    25489\n",
       "dtype: object"
      ]
     },
     "execution_count": 11,
     "metadata": {},
     "output_type": "execute_result"
    }
   ],
   "source": [
    "nation_frame.aggregate(np.sum)[-7:]"
   ]
  },
  {
   "cell_type": "code",
   "execution_count": 12,
   "metadata": {
    "colab": {
     "base_uri": "https://localhost:8080/",
     "height": 952
    },
    "colab_type": "code",
    "id": "NljR3coEv9LT",
    "outputId": "a2f44f22-0347-46eb-c69d-5a0f59689427"
   },
   "outputs": [],
   "source": [
    "nation_series = nation_frame.agg(np.sum)[4:]\n",
    "[\n",
    "    type(nation_series),\n",
    "    nation_series\n",
    "];"
   ]
  },
  {
   "cell_type": "code",
   "execution_count": 13,
   "metadata": {
    "colab": {
     "base_uri": "https://localhost:8080/",
     "height": 1000
    },
    "colab_type": "code",
    "id": "JKsiYVMov9LX",
    "outputId": "d6db8eb8-b705-4dfa-cb16-d750d35d9766",
    "scrolled": false
   },
   "outputs": [],
   "source": [
    "strdates = nation_series.keys()\n",
    "dates = [pd.to_datetime(sd) for sd in strdates]\n",
    "[\n",
    "    type(strdates),\n",
    "    strdates,\n",
    "    type(dates),\n",
    "    dates,\n",
    "    np.array(nation_series[:])\n",
    "];"
   ]
  },
  {
   "cell_type": "code",
   "execution_count": 14,
   "metadata": {
    "colab": {
     "base_uri": "https://localhost:8080/",
     "height": 281
    },
    "colab_type": "code",
    "id": "-BZIXgzXv9Lb",
    "outputId": "b39d893a-0b21-41bc-ee12-08f254d0a70a"
   },
   "outputs": [
    {
     "data": {
      "image/png": "[encoded data removed]",
      "text/plain": [
       "<Figure size 432x288 with 1 Axes>"
      ]
     },
     "metadata": {
      "needs_background": "light"
     },
     "output_type": "display_data"
    }
   ],
   "source": [
    "nation_series.plot(\n",
    "    logy=True, \n",
    "    title=f'Cumulative {series}: {nation}'\n",
    ")\n",
    "plt.grid(True)"
   ]
  },
  {
   "cell_type": "markdown",
   "metadata": {},
   "source": [
    "# Load all time series and define static utility functions"
   ]
  },
  {
   "cell_type": "code",
   "execution_count": 15,
   "metadata": {},
   "outputs": [
    {
     "data": {
      "text/plain": [
       "dict_keys(['Confirmed', 'Deaths', 'Recovered'])"
      ]
     },
     "execution_count": 15,
     "metadata": {},
     "output_type": "execute_result"
    }
   ],
   "source": [
    "# Load series into a dict of pandas dataframes\n",
    "series_options = ['Confirmed','Deaths','Recovered']\n",
    "#series_options = [re.match(r'time_series_19-covid-(.*).csv',file)[1] for file in os.listdir(os.path.join(\n",
    "#    covid19_dir,\n",
    "#    'csse_covid_19_data',\n",
    "#    'csse_covid_19_time_series'))\n",
    "#  if re.match(r'time_series_19-covid-(.*).csv',file)\n",
    "#]\n",
    "series_frames = dict();\n",
    "for series_to_read in series_options:\n",
    "  ts_file = os.path.join(\n",
    "    covid19_dir,\n",
    "    'csse_covid_19_data',\n",
    "    'csse_covid_19_time_series',\n",
    "    f'time_series_19-covid-{series_to_read}.csv'    \n",
    "  )\n",
    "  series_frames[series_to_read] = pd.read_csv(ts_file, parse_dates=True, date_parser=pd.to_datetime)\n",
    "    \n",
    "series_frames.keys()"
   ]
  },
  {
   "cell_type": "code",
   "execution_count": 16,
   "metadata": {},
   "outputs": [],
   "source": [
    "nation_series_cache = dict()\n",
    "def get_nation_series(nation,series):\n",
    "  if nation in nation_series_cache and series in nation_series_cache[nation]:\n",
    "    nation_series = nation_series_cache[nation][series]\n",
    "  else:\n",
    "    ts_frame = series_frames[series]\n",
    "    nationrows = ts_frame.loc[:, 'Country/Region'] == nation\n",
    "    nation_frame = ts_frame[nationrows]\n",
    "    nation_series = nation_frame.agg(np.sum)[4:]\n",
    "    if nation not in nation_series_cache:\n",
    "        nation_series_cache[nation] = dict()\n",
    "    nation_series_cache[nation][series] = nation_series\n",
    "\n",
    "  strdates = nation_series.keys()\n",
    "  dates = [pd.to_datetime(sd) for sd in strdates]\n",
    "\n",
    "  return (nation_series,dates)\n",
    "\n",
    "nation_state_series_cache = dict()\n",
    "def get_nation_state_series(nation,state,series):\n",
    "  if nation in nation_state_series_cache and \\\n",
    "     state in nation_state_series_cache[nation] and \\\n",
    "     series in nation_state_series_cache[nation][state]:\n",
    "    nation_state_series = nation_state_series_cache[nation][state][series]\n",
    "  else:\n",
    "    ts_frame = series_frames[series]\n",
    "    nation_state_rows = (ts_frame.loc[:, 'Country/Region'] == nation) & (ts_frame.loc[:, 'Province/State'] == state)\n",
    "    nation_state_frame = ts_frame[nation_state_rows]\n",
    "    nation_state_series = nation_state_frame.iloc[0][4:]\n",
    "    #nation_series = nation_frame.agg(np.sum)[4:]\n",
    "    if nation not in nation_state_series_cache:\n",
    "        nation_state_series_cache[nation] = dict()\n",
    "    if state not in nation_state_series_cache[nation]:\n",
    "        nation_state_series_cache[nation][state] = dict()\n",
    "    nation_state_series_cache[nation][state][series] = nation_state_series\n",
    "\n",
    "  strdates = nation_state_series.T.keys()\n",
    "  print(strdates)\n",
    "  dates = [pd.to_datetime(sd) for sd in strdates]\n",
    "\n",
    "  return (nation_state_series,dates)"
   ]
  },
  {
   "cell_type": "code",
   "execution_count": 17,
   "metadata": {},
   "outputs": [
    {
     "data": {
      "text/plain": [
       "7783"
      ]
     },
     "execution_count": 17,
     "metadata": {},
     "output_type": "execute_result"
    }
   ],
   "source": [
    "# Need to manual edit the data due to known mistakes or out of date numbers? Do it here\n",
    "\n",
    "# Force a cache load\n",
    "get_nation_series('US','Confirmed')\n",
    "# Set the data that needs to be modified\n",
    "#nation_series_cache['US']['Confirmed'][\"3/18/20\"] = 9415\n",
    "\n",
    "# Update the global nation_series\n",
    "nation_series = get_nation_series(nation,series)[0]\n",
    "nation_series_cache['US']['Confirmed'][\"3/18/20\"]"
   ]
  },
  {
   "cell_type": "code",
   "execution_count": 18,
   "metadata": {
    "colab": {
     "base_uri": "https://localhost:8080/",
     "height": 573
    },
    "colab_type": "code",
    "id": "ZA6DjYNgxQcd",
    "outputId": "a5781d9c-3078-46a3-b457-4586927fba32"
   },
   "outputs": [
    {
     "data": {
      "image/png": "[encoded data removed]",
      "text/plain": [
       "<Figure size 432x288 with 1 Axes>"
      ]
     },
     "metadata": {
      "needs_background": "light"
     },
     "output_type": "display_data"
    },
    {
     "data": {
      "image/png": "[encoded data removed]",
      "text/plain": [
       "<Figure size 432x288 with 1 Axes>"
      ]
     },
     "metadata": {
      "needs_background": "light"
     },
     "output_type": "display_data"
    }
   ],
   "source": [
    "nations = sorted(ts_frame.loc[:,'Country/Region'].unique())\n",
    "\n",
    "# Plot a single series combining all the code above\n",
    "\n",
    "def plot_single_series(nation,series):\n",
    "  nation_series, dates = get_nation_series(nation,series)\n",
    "  nation_series.plot(\n",
    "      logy=True, \n",
    "      title=f'Cumulative {series}: {nation}'\n",
    "  )\n",
    "  plt.grid(True)\n",
    "  plt.ylabel(series)\n",
    "  plt.xlabel('Date')\n",
    "  plt.legend([series])\n",
    "\n",
    "# Plot all the series\n",
    "def plot_all_series(nation):\n",
    "  for series in series_options:\n",
    "    plot_single_series(nation,series)\n",
    "  plt.ylabel('Cases')\n",
    "  plt.legend(series_options)\n",
    "  plt.title(f'Cumulative: {nation}')\n",
    "\n",
    "plt.figure()\n",
    "plot_single_series(nation,series)\n",
    "\n",
    "plt.figure()\n",
    "plot_all_series(nation)"
   ]
  },
  {
   "cell_type": "markdown",
   "metadata": {},
   "source": [
    "# Interactive"
   ]
  },
  {
   "cell_type": "code",
   "execution_count": 19,
   "metadata": {
    "colab": {
     "base_uri": "https://localhost:8080/",
     "height": 359,
     "referenced_widgets": [
      "145e25557332486ea8495b986f666c76",
      "a5497f5c79a940bc9f82ebb023ab1e59",
      "883264ffe9f248fc86d19143f0c0eea3",
      "0630fc9f1da94f6ab4748b17456e3e84",
      "c238f38a8683494c9cdd8b37484540ee",
      "d61af3937cb4447bbbef9a7cdbb97357",
      "ce5081fdfb4f4aa88c6516bfca3305d8",
      "9990de9e25274567a9b20a0a450b774e",
      "8452ca7e83af4a3ba358385d6292c8c5"
     ]
    },
    "colab_type": "code",
    "id": "LGtmyYsQFya_",
    "outputId": "ec8c1ca1-03be-437f-a571-38556fa1f3de"
   },
   "outputs": [
    {
     "data": {
      "application/vnd.jupyter.widget-view+json": {
       "model_id": "14f666bec1a94f619117267e3490881c",
       "version_major": 2,
       "version_minor": 0
      },
      "text/plain": [
       "interactive(children=(Dropdown(description='Nation: ', index=155, options=('Afghanistan', 'Albania', 'Algeria'…"
      ]
     },
     "metadata": {},
     "output_type": "display_data"
    }
   ],
   "source": [
    "from ipywidgets import interactive\n",
    "import ipywidgets as widgets\n",
    "\n",
    "nations_widget = widgets.Dropdown(\n",
    "    options = nations,\n",
    "    value = nation,\n",
    "    description = \"Nation: \"\n",
    ")\n",
    "\n",
    "interactive(plot_single_series,nation=nations_widget,series=series_options)"
   ]
  },
  {
   "cell_type": "code",
   "execution_count": 20,
   "metadata": {
    "colab": {
     "base_uri": "https://localhost:8080/",
     "height": 327,
     "referenced_widgets": [
      "f5fc0bf80f8f4ae8b3a709341dc018b5",
      "fdbbb36dba8e43d99b126443f0d58829",
      "883264ffe9f248fc86d19143f0c0eea3",
      "a22662d4591b40daae38a18ac0c1d86b",
      "d61af3937cb4447bbbef9a7cdbb97357",
      "ce5081fdfb4f4aa88c6516bfca3305d8"
     ]
    },
    "colab_type": "code",
    "id": "DwZZW_0FHShG",
    "outputId": "3194a70d-4459-4f59-84c0-5f842f4dfc64"
   },
   "outputs": [
    {
     "data": {
      "application/vnd.jupyter.widget-view+json": {
       "model_id": "1f426cba609f4d5db76e77a4852be9f4",
       "version_major": 2,
       "version_minor": 0
      },
      "text/plain": [
       "interactive(children=(Dropdown(description='Nation: ', index=155, options=('Afghanistan', 'Albania', 'Algeria'…"
      ]
     },
     "metadata": {},
     "output_type": "display_data"
    }
   ],
   "source": [
    "interactive(plot_all_series,nation=nations_widget)"
   ]
  },
  {
   "cell_type": "markdown",
   "metadata": {
    "colab_type": "text",
    "id": "1uXpgthnYKLH"
   },
   "source": [
    "# Rate Estimation\n",
    "\n",
    "We would like to measure rates to understand how quickly the number of cases is increasing or decreasing. We expect the rate to be exponential, so our interest is in the slope of log plots above. We would also like to know these slopes over time.\n",
    "\n",
    "Because the data is noisy, some fitting is required. Here I have chosen to do a spline fit. Once the spline fit is obtained, obtaining the derivatives is straightforward.\n",
    "\n",
    "The derivative of the log of a function is the derivative of the function over the value of the function. For this data, this would give us how the rate of increase of cases compares to the number of cases."
   ]
  },
  {
   "cell_type": "markdown",
   "metadata": {},
   "source": [
    "## Spline Fits"
   ]
  },
  {
   "cell_type": "code",
   "execution_count": 21,
   "metadata": {
    "colab": {},
    "colab_type": "code",
    "id": "MUPuOY5hJRcT"
   },
   "outputs": [],
   "source": [
    "from scipy.interpolate import UnivariateSpline \n",
    "from scipy.interpolate import LSQUnivariateSpline\n",
    "\n",
    "x = np.arange(nation_series.shape[0])\n",
    "y = np.log10(np.float64(nation_series)+1)\n",
    "knot_interval = 14;\n",
    "t = np.flip(np.arange(nation_series.shape[0]-knot_interval,0,-knot_interval))\n",
    "# Weight the last days by a factor of 10\n",
    "w = np.ones_like(y)\n",
    "w[-4:] = 10\n",
    "nation_sp = UnivariateSpline(x,y,w)\n",
    "nation_lsq_sp = LSQUnivariateSpline(x,y,t,w=w)\n",
    "nation_sp_deriv = nation_sp.derivative(1)\n",
    "nation_lsq_sp_deriv = nation_lsq_sp.derivative(1)"
   ]
  },
  {
   "cell_type": "code",
   "execution_count": 22,
   "metadata": {
    "colab": {
     "base_uri": "https://localhost:8080/",
     "height": 868
    },
    "colab_type": "code",
    "id": "QJ7lw4j5OsTt",
    "outputId": "e2642612-346b-4132-ae67-bf748fdf2ed9"
   },
   "outputs": [
    {
     "data": {
      "text/plain": [
       "<matplotlib.legend.Legend at 0x7f7da9e00ed0>"
      ]
     },
     "execution_count": 22,
     "metadata": {},
     "output_type": "execute_result"
    },
    {
     "data": {
      "image/png": "[encoded data removed]",
      "text/plain": [
       "<Figure size 432x288 with 1 Axes>"
      ]
     },
     "metadata": {
      "needs_background": "light"
     },
     "output_type": "display_data"
    },
    {
     "data": {
      "image/png": "[encoded data removed]",
      "text/plain": [
       "<Figure size 432x288 with 1 Axes>"
      ]
     },
     "metadata": {
      "needs_background": "light"
     },
     "output_type": "display_data"
    },
    {
     "data": {
      "image/png": "[encoded data removed]",
      "text/plain": [
       "<Figure size 432x288 with 1 Axes>"
      ]
     },
     "metadata": {
      "needs_background": "light"
     },
     "output_type": "display_data"
    }
   ],
   "source": [
    "plt.figure()\n",
    "plt.plot(x,nation_sp(x))\n",
    "plt.plot(x,nation_lsq_sp(x))\n",
    "plt.plot(x,y,'--')\n",
    "plt.grid(True)\n",
    "plt.title(f'Spline Fit of {nation} Data')\n",
    "plt.ylabel('log10(Confirmed Cases + 1)')\n",
    "plt.xlabel('Days')\n",
    "plt.legend(['UnivariateSpline','LSQUnivariateSpline','Actual'])\n",
    "\n",
    "\n",
    "plt.figure()\n",
    "plt.plot(x,nation_sp_deriv(x)*np.log(10))\n",
    "plt.plot(x,nation_lsq_sp_deriv(x)*np.log(10))\n",
    "plt.grid(True)\n",
    "plt.title(f'Derivative of Spline Fit of {nation} Data')\n",
    "plt.xlabel('Days')\n",
    "plt.ylabel('d log10(Confirmed Cases + 1)/d days * log(10)')\n",
    "plt.legend(['UnivariateSpline','LSQUnivariateSpline'])\n",
    "\n",
    "plt.figure()\n",
    "plt.plot(x,np.log(2)/(nation_sp_deriv(x)*np.log(10)))\n",
    "plt.plot(x,np.log(2)/(nation_lsq_sp_deriv(x)*np.log(10)))\n",
    "plt.grid(True)\n",
    "plt.title(f'{nation} Case Doubling Time')\n",
    "plt.xlabel('Days')\n",
    "plt.ylabel('Doubling Time (Days)')\n",
    "plt.ylim(0,6)\n",
    "plt.legend(['UnivariateSpline','LSQUnivariateSpline'])\n"
   ]
  },
  {
   "cell_type": "code",
   "execution_count": 23,
   "metadata": {
    "colab": {},
    "colab_type": "code",
    "id": "n1rMqJ9PRMG3"
   },
   "outputs": [],
   "source": [
    "def plot_spline_deriv(nation,series=\"Confirmed\"):\n",
    "  nation_series, dates = get_nation_series(nation,series)\n",
    "\n",
    "  # We add 1 here to avoid taking the log of 0 if no data exists\n",
    "  x = np.arange(nation_series.shape[0])\n",
    "  y = np.log10(np.float64(nation_series+1))\n",
    "  knot_interval = 14;\n",
    "  t = np.flip(np.arange(nation_series.shape[0]-knot_interval,0,-knot_interval))\n",
    "\n",
    "  # Weight the last days by a factor of 10\n",
    "  w = np.ones_like(y)\n",
    "  w[-4:] = 10\n",
    "  #nation_sp = UnivariateSpline(x,y,w)\n",
    "  nation_lsq_sp = LSQUnivariateSpline(x,y,t,w=w)\n",
    "  #nation_sp_deriv = nation_sp.derivative(1)\n",
    "  nation_lsq_sp_deriv = nation_lsq_sp.derivative(1)\n",
    "\n",
    "  #plt.subplot(1,2,1)\n",
    "  plt.figure()\n",
    "  #plt.plot(dates,nation_sp(x))\n",
    "  plt.plot(dates,nation_lsq_sp(x))\n",
    "  plt.plot(dates,y)\n",
    "  plt.grid(True)\n",
    "  plt.title(f'Spline Fit of {nation} Data')\n",
    "  plt.ylabel(f'log10({series} Cases+1)')\n",
    "  #plt.xlabel('Days')\n",
    "  plt.xticks(rotation=90)\n",
    "\n",
    "  #plt.subplot(1,2,2)\n",
    "  plt.figure()\n",
    "  #plt.plot(dates,nation_sp_deriv(x)*np.log(10))\n",
    "  plt.plot(dates,nation_lsq_sp_deriv(x)*np.log(10))\n",
    "  plt.grid(True)\n",
    "  plt.title(f'Derivative of Spline Fit of {nation} Data')\n",
    "  #plt.xlabel('Days')\n",
    "  plt.ylabel('d log10({series} Cases+1)/d days  * log(10)')\n",
    "  plt.xticks(rotation=90)\n"
   ]
  },
  {
   "cell_type": "code",
   "execution_count": 24,
   "metadata": {},
   "outputs": [],
   "source": [
    "# The registry got reset somehow\n",
    "pd.plotting.register_matplotlib_converters()"
   ]
  },
  {
   "cell_type": "code",
   "execution_count": 25,
   "metadata": {
    "colab": {
     "base_uri": "https://localhost:8080/",
     "height": 705,
     "referenced_widgets": [
      "30134147278b4670af72452b56af64a4",
      "ca59317dd8d546f4ad8a6ab0d119ca9c",
      "883264ffe9f248fc86d19143f0c0eea3",
      "33fd355cdf6e4b70853f9a0ad580b3ea",
      "3c02154e687b4f579f0442cb46416cfc",
      "d61af3937cb4447bbbef9a7cdbb97357",
      "ce5081fdfb4f4aa88c6516bfca3305d8",
      "2be1e31a590544bbbc1f9ef2cfc5c9ac",
      "f627a4d1c63f416e8b534e3143627dbe"
     ]
    },
    "colab_type": "code",
    "id": "vFQzy3_uT8xC",
    "outputId": "22a0d5f5-ba4d-4e30-ca64-063f990336b3"
   },
   "outputs": [
    {
     "data": {
      "application/vnd.jupyter.widget-view+json": {
       "model_id": "2b2d5d74522a414abf14469988c70941",
       "version_major": 2,
       "version_minor": 0
      },
      "text/plain": [
       "interactive(children=(Dropdown(description='Nation: ', index=155, options=('Afghanistan', 'Albania', 'Algeria'…"
      ]
     },
     "metadata": {},
     "output_type": "display_data"
    }
   ],
   "source": [
    "interactive(plot_spline_deriv,nation=nations_widget,series=series_options)"
   ]
  },
  {
   "cell_type": "code",
   "execution_count": 26,
   "metadata": {
    "colab": {},
    "colab_type": "code",
    "id": "cD_y89RpuxDo"
   },
   "outputs": [],
   "source": [
    "def plot_spline_double_time(nation,series=\"Confirmed\"):\n",
    "  nation_series, dates = get_nation_series(nation,series)\n",
    "\n",
    "  # We add 1 here to avoid taking the log of 0 if no data exists\n",
    "  x = np.arange(nation_series.shape[0])\n",
    "  y = np.log10(np.float64(nation_series+1))\n",
    "  knot_interval = 14;\n",
    "  t = np.flip(np.arange(nation_series.shape[0]-knot_interval,0,-knot_interval))\n",
    "\n",
    "  # Weight the last days by a factor of 10\n",
    "  w = np.ones_like(y)\n",
    "  w[-4:] = 10\n",
    "  #nation_sp = UnivariateSpline(x,y,w)\n",
    "  nation_lsq_sp = LSQUnivariateSpline(x,y,t,w=w)\n",
    "  #nation_sp_deriv = nation_sp.derivative(1)\n",
    "  nation_lsq_sp_deriv = nation_lsq_sp.derivative(1)\n",
    "\n",
    "  #plt.subplot(1,2,1)\n",
    "  plt.figure()\n",
    "  plt.plot(dates,nation_lsq_sp(x))\n",
    "  plt.plot(dates,y)\n",
    "  plt.grid(True)\n",
    "  plt.title(f'Spline Fit of {nation} Data')\n",
    "  plt.ylabel(f'log10({series} Cases+1)')\n",
    "  #plt.xlabel('Days')\n",
    "  plt.xticks(rotation=90)\n",
    "\n",
    "  #plt.subplot(1,2,2)\n",
    "  plt.figure()\n",
    "  plt.plot(dates,np.log(2)/(nation_lsq_sp_deriv(x)*np.log(10)))\n",
    "  plt.grid(True)\n",
    "  plt.title(f'{nation} Doubling Time')\n",
    "  #plt.xlabel('Days')\n",
    "  plt.ylabel('Doubling Time (days)')\n",
    "  plt.xticks(rotation=90)\n",
    "  plt.ylim(bottom=0,top=6)"
   ]
  },
  {
   "cell_type": "code",
   "execution_count": 27,
   "metadata": {
    "colab": {
     "base_uri": "https://localhost:8080/",
     "height": 705,
     "referenced_widgets": [
      "aba7704c0db542898dc8b92e2d8b4041",
      "91825e2c6c204fdba6ec5901ed7d16d1",
      "883264ffe9f248fc86d19143f0c0eea3",
      "9c7a8e7f9678438799fa66c40018f118",
      "989951965ef84970a61fbbe300e559b0",
      "d61af3937cb4447bbbef9a7cdbb97357",
      "ce5081fdfb4f4aa88c6516bfca3305d8",
      "ebc0d32d8d17455bb92faa7b1d75bc70",
      "46071001529e493fbb781d3094be7add"
     ]
    },
    "colab_type": "code",
    "id": "ICHPy4Q2Celu",
    "outputId": "33437de5-6c1e-4750-9db9-66990c65bdb4"
   },
   "outputs": [
    {
     "data": {
      "application/vnd.jupyter.widget-view+json": {
       "model_id": "d2c79f9cab8147938adc0a3531b466f5",
       "version_major": 2,
       "version_minor": 0
      },
      "text/plain": [
       "interactive(children=(Dropdown(description='Nation: ', index=155, options=('Afghanistan', 'Albania', 'Algeria'…"
      ]
     },
     "metadata": {},
     "output_type": "display_data"
    }
   ],
   "source": [
    "interactive(plot_spline_double_time,nation=nations_widget,series=series_options)"
   ]
  },
  {
   "cell_type": "markdown",
   "metadata": {},
   "source": [
    "## Linear Regression"
   ]
  },
  {
   "cell_type": "code",
   "execution_count": 28,
   "metadata": {},
   "outputs": [
    {
     "data": {
      "application/vnd.jupyter.widget-view+json": {
       "model_id": "2d40e19173224406a6d6a6a3512167ad",
       "version_major": 2,
       "version_minor": 0
      },
      "text/plain": [
       "interactive(children=(Dropdown(description='Nation: ', index=155, options=('Afghanistan', 'Albania', 'Algeria'…"
      ]
     },
     "metadata": {},
     "output_type": "display_data"
    }
   ],
   "source": [
    "from scipy import stats\n",
    "def do_linear_regression(nation,series,n_points,days_back):\n",
    "  nation_series, dates = get_nation_series(nation,series)\n",
    "  days = np.arange(0,nation_series.shape[0])\n",
    "  y = np.log(np.float64(nation_series+1))\n",
    "  if days_back >= 0:\n",
    "    s = slice(-n_points,None)\n",
    "  else:\n",
    "    s = slice(-n_points+days_back,days_back)\n",
    "  lr = stats.linregress(days[s],y[s])\n",
    "  \n",
    "  plt.plot(days,y)\n",
    "  line = lr.slope*days[s]+lr.intercept\n",
    "  plt.plot(days[s],line)\n",
    "  plt.grid(True)\n",
    "\n",
    "  plt.xlabel('Days')\n",
    "  plt.ylabel('log(Cases+1)')\n",
    "\n",
    "  str = f\"\"\"Slope: {lr.slope:.3f}\n",
    "Doubling time: {np.inf if lr.slope==0 else 0.693/lr.slope:.3f} days\n",
    "Daily increase: {(np.exp(lr.slope)-1)*100:2.0f}%\"\"\"\n",
    "\n",
    "  plt.text(days[s][0]-25,line[0],str)\n",
    "\n",
    "  return lr\n",
    "    \n",
    "interactive(do_linear_regression,\n",
    "            nation=nations_widget,\n",
    "            series=series_options,\n",
    "            n_points=widgets.IntSlider(value=4,min=2,max=nation_series.shape[0]),\n",
    "            days_back=widgets.IntSlider(value=0,min=-nation_series.shape[0],max=0)\n",
    "           )"
   ]
  },
  {
   "cell_type": "code",
   "execution_count": 29,
   "metadata": {},
   "outputs": [
    {
     "data": {
      "text/plain": [
       "array([55, 56, 57, 58, 59])"
      ]
     },
     "execution_count": 29,
     "metadata": {},
     "output_type": "execute_result"
    }
   ],
   "source": [
    "days = np.arange(0,nation_series.shape[0])\n",
    "days[slice(-5,None)]"
   ]
  },
  {
   "cell_type": "markdown",
   "metadata": {},
   "source": [
    "# Extrapolation\n",
    "\n",
    "Here we extrapolate at an exponential rate from the most recent case number."
   ]
  },
  {
   "cell_type": "code",
   "execution_count": 30,
   "metadata": {},
   "outputs": [
    {
     "name": "stdout",
     "output_type": "stream",
     "text": [
      "US will where Italy is now in 1.9 days for Confirmed\n",
      "US will where China is now in 3.0 days for Confirmed\n"
     ]
    },
    {
     "data": {
      "text/plain": [
       "2.9796914236318455"
      ]
     },
     "execution_count": 30,
     "metadata": {},
     "output_type": "execute_result"
    }
   ],
   "source": [
    "def get_linear_regression_of_log(nation_series,s = slice(-4,None)):\n",
    "    lr = stats.linregress(np.arange(0,nation_series.shape[0])[s],np.log(np.float64(nation_series[s])))\n",
    "    return lr\n",
    "    \n",
    "def days_until(nation_A,nation_B,series='Confirmed'):\n",
    "    nation_A_series = get_nation_series(nation_A,series)[0]\n",
    "    nation_B_series = get_nation_series(nation_B,series)[0]\n",
    "    lr = get_linear_regression_of_log(nation_A_series)\n",
    "    days = np.log(nation_B_series[-1]/nation_A_series[-1])/lr.slope\n",
    "    print(f'{nation_A} will where {nation_B} is now in {days:.1f} days for {series}')\n",
    "    return days\n",
    "\n",
    "days_until('US','Italy')\n",
    "days_until('US','China')"
   ]
  },
  {
   "cell_type": "code",
   "execution_count": 31,
   "metadata": {},
   "outputs": [
    {
     "data": {
      "text/plain": [
       "{'ratio': 1.334502617801047,\n",
       " 'coef': 0.28855865149487303,\n",
       " 'doubling_time': 2.4021015380031354}"
      ]
     },
     "execution_count": 31,
     "metadata": {},
     "output_type": "execute_result"
    }
   ],
   "source": [
    "day_to_day = dict()\n",
    "day_to_day['ratio'] = nation_series[-1]/nation_series[-2]\n",
    "day_to_day['coef'] = np.log(day_to_day['ratio'])\n",
    "day_to_day['doubling_time'] = np.log(2)/day_to_day['coef']\n",
    "day_to_day"
   ]
  },
  {
   "cell_type": "code",
   "execution_count": 32,
   "metadata": {
    "colab": {
     "base_uri": "https://localhost:8080/",
     "height": 296
    },
    "colab_type": "code",
    "id": "hasr0oZjCnNx",
    "outputId": "b0e4c8c8-28c4-41f9-8f31-20bbb58fc3a9"
   },
   "outputs": [
    {
     "data": {
      "text/plain": [
       "LinregressResult(slope=0.3892888100863786, intercept=-12.762453106115455, rvalue=0.9866551135304957, pvalue=0.013344886469504269, stderr=0.045426600005655675)"
      ]
     },
     "execution_count": 32,
     "metadata": {},
     "output_type": "execute_result"
    },
    {
     "data": {
      "image/png": "[encoded data removed]",
      "text/plain": [
       "<Figure size 432x288 with 1 Axes>"
      ]
     },
     "metadata": {
      "needs_background": "light"
     },
     "output_type": "display_data"
    }
   ],
   "source": [
    "us_confirmed_lr = get_linear_regression_of_log(nation_series)\n",
    "\n",
    "t = np.arange(0,7.1,0.1)\n",
    "plt.plot(t,np.exp(0.231*t)*nation_series[-1])\n",
    "plt.plot(t,np.exp(0.277*t)*nation_series[-1])\n",
    "plt.plot(t,np.exp(0.286*t)*nation_series[-1])\n",
    "plt.plot(t,np.exp(0.35*t)*nation_series[-1])\n",
    "plt.plot(t,np.exp(us_confirmed_lr.slope*t)*nation_series[-1],'k--')\n",
    "plt.plot(t,np.exp(day_to_day['coef']*t)*nation_series[-1],'k:')\n",
    "plt.grid(True)\n",
    "plt.ylabel('Cases')\n",
    "plt.xlabel('Days')\n",
    "plt.legend(['3 day doubling time',\n",
    "            '2.5 day doubling time',\n",
    "            '33% Daily Increase',\n",
    "            '2 day doubling time',\n",
    "            'Current Projection 4-day LinReg',\n",
    "            'Current Projection 2-day slope'])\n",
    "us_confirmed_lr"
   ]
  },
  {
   "cell_type": "code",
   "execution_count": 33,
   "metadata": {
    "colab": {
     "base_uri": "https://localhost:8080/",
     "height": 102
    },
    "colab_type": "code",
    "id": "514NMZN1Cs8-",
    "outputId": "b1231f36-3d8f-4f27-839b-15352c727ba9"
   },
   "outputs": [
    {
     "data": {
      "text/plain": [
       "3/17/20     6421\n",
       "3/18/20     7783\n",
       "3/19/20    13677\n",
       "3/20/20    19100\n",
       "3/21/20    25489\n",
       "dtype: object"
      ]
     },
     "execution_count": 33,
     "metadata": {},
     "output_type": "execute_result"
    }
   ],
   "source": [
    "nation_series[-5:]"
   ]
  },
  {
   "cell_type": "code",
   "execution_count": 34,
   "metadata": {},
   "outputs": [
    {
     "data": {
      "text/plain": [
       "3/17/20    1.38623\n",
       "3/18/20    1.21212\n",
       "3/19/20    1.75729\n",
       "3/20/20    1.39651\n",
       "3/21/20     1.3345\n",
       "dtype: object"
      ]
     },
     "execution_count": 34,
     "metadata": {},
     "output_type": "execute_result"
    }
   ],
   "source": [
    "nation_series[-5:]/np.array(nation_series[-6:-1])"
   ]
  },
  {
   "cell_type": "code",
   "execution_count": 35,
   "metadata": {},
   "outputs": [
    {
     "name": "stdout",
     "output_type": "stream",
     "text": [
      "US Confirmed Case Projection 2020-03-22: 37620.0\n"
     ]
    }
   ],
   "source": [
    "from datetime import timedelta\n",
    "from datetime import date\n",
    "next_day_projection = np.exp(us_confirmed_lr.slope)*nation_series[-1]\n",
    "next_day = (dates[-1]+timedelta(days=1)).date().isoformat()\n",
    "print(f'US Confirmed Case Projection {next_day}: {next_day_projection:0.1f}')"
   ]
  },
  {
   "cell_type": "code",
   "execution_count": 36,
   "metadata": {},
   "outputs": [
    {
     "data": {
      "text/plain": [
       "1.5135422198619224"
      ]
     },
     "execution_count": 36,
     "metadata": {},
     "output_type": "execute_result"
    }
   ],
   "source": [
    "14250/9415"
   ]
  },
  {
   "cell_type": "code",
   "execution_count": 37,
   "metadata": {},
   "outputs": [],
   "source": [
    "us_confirmed = get_nation_series('US','Confirmed')[0]\n",
    "germany_confirmed = get_nation_series('Germany','Confirmed')[0]\n",
    "iran_confirmed = get_nation_series('Iran','Confirmed')[0]\n",
    "italy_confirmed = get_nation_series('Italy','Confirmed')[0]\n",
    "spain_confirmed = get_nation_series('Spain','Confirmed')[0]\n",
    "korea_confirmed = get_nation_series('Korea, South','Confirmed')[0]\n",
    "china_confirmed = get_nation_series('China','Confirmed')[0]\n",
    "\n",
    "\n",
    "us_deaths = get_nation_series('US','Deaths')[0]\n",
    "germany_deaths = get_nation_series('Germany','Deaths')[0]\n",
    "iran_deaths = get_nation_series('Iran','Deaths')[0]\n",
    "italy_deaths = get_nation_series('Italy','Deaths')[0]\n",
    "spain_deaths = get_nation_series('Spain','Deaths')[0]\n",
    "korea_deaths = get_nation_series('Korea, South','Deaths')[0]"
   ]
  },
  {
   "cell_type": "code",
   "execution_count": 38,
   "metadata": {},
   "outputs": [
    {
     "data": {
      "text/plain": [
       "[25489, 22213, 20610, 25374, 53578]"
      ]
     },
     "execution_count": 38,
     "metadata": {},
     "output_type": "execute_result"
    },
    {
     "data": {
      "image/png": "[encoded data removed]",
      "text/plain": [
       "<Figure size 432x288 with 1 Axes>"
      ]
     },
     "metadata": {
      "needs_background": "light"
     },
     "output_type": "display_data"
    }
   ],
   "source": [
    "us_confirmed[53:].plot(logy=True,)\n",
    "germany_confirmed[53:].plot()\n",
    "iran_confirmed[53:].plot()\n",
    "spain_confirmed[53:].plot()\n",
    "italy_confirmed[53:].plot()\n",
    "plt.grid(True)\n",
    "plt.yticks([10000,20000])\n",
    "plt.legend(['US','Germany','Iran','Spain','Italy'])\n",
    "plt.title('Confirmed Cases')\n",
    "ax = plt.gca()\n",
    "ax.set_yscale('log', basey=2)\n",
    "[us_confirmed[-1],germany_confirmed[-1],iran_confirmed[-1],spain_confirmed[-1],italy_confirmed[-1]]"
   ]
  },
  {
   "cell_type": "code",
   "execution_count": 39,
   "metadata": {},
   "outputs": [
    {
     "data": {
      "text/plain": [
       "[307, 84, 1556, 1375, 4825]"
      ]
     },
     "execution_count": 39,
     "metadata": {},
     "output_type": "execute_result"
    },
    {
     "data": {
      "image/png": "[encoded data removed]",
      "text/plain": [
       "<Figure size 432x288 with 1 Axes>"
      ]
     },
     "metadata": {
      "needs_background": "light"
     },
     "output_type": "display_data"
    }
   ],
   "source": [
    "us_deaths[53:].plot(logy=True,)\n",
    "germany_deaths[53:].plot()\n",
    "iran_deaths[53:].plot()\n",
    "spain_deaths[53:].plot()\n",
    "italy_deaths[53:].plot()\n",
    "plt.grid(True)\n",
    "plt.yticks([10000,20000])\n",
    "plt.legend(['US','Germany','Iran','Spain','Italy'])\n",
    "plt.title('Deaths')\n",
    "ax = plt.gca()\n",
    "ax.set_yscale('log', basey=2)\n",
    "[us_deaths[-1],germany_deaths[-1],iran_deaths[-1],spain_deaths[-1],italy_deaths[-1]]"
   ]
  },
  {
   "cell_type": "code",
   "execution_count": 40,
   "metadata": {},
   "outputs": [],
   "source": [
    "us_deaths_lr = get_linear_regression_of_log(us_deaths)\n",
    "germany_deaths_lr = get_linear_regression_of_log(germany_deaths)\n",
    "iran_deaths_lr = get_linear_regression_of_log(iran_deaths)\n",
    "spain_deaths_lr = get_linear_regression_of_log(spain_deaths)\n",
    "italy_deaths_lr = get_linear_regression_of_log(italy_deaths)\n",
    "death_slopes = [us_deaths_lr.slope,germany_deaths_lr.slope,iran_deaths_lr.slope,spain_deaths_lr.slope,italy_deaths_lr.slope]\n",
    "\n",
    "italy_confirmed_lr = get_linear_regression_of_log(italy_confirmed)\n",
    "spain_confirmed_lr = get_linear_regression_of_log(spain_confirmed)\n",
    "germany_confirmed_lr = get_linear_regression_of_log(germany_confirmed)\n",
    "china_confirmed_lr = get_linear_regression_of_log(china_confirmed)\n"
   ]
  },
  {
   "cell_type": "code",
   "execution_count": 41,
   "metadata": {},
   "outputs": [
    {
     "data": {
      "text/plain": [
       "Text(0.5, 1.0, 'Deaths Doubling Time (Higher = Better)')"
      ]
     },
     "execution_count": 41,
     "metadata": {},
     "output_type": "execute_result"
    },
    {
     "data": {
      "image/png": "[encoded data removed]",
      "text/plain": [
       "<Figure size 432x288 with 1 Axes>"
      ]
     },
     "metadata": {
      "needs_background": "light"
     },
     "output_type": "display_data"
    }
   ],
   "source": [
    "plt.grid(True)\n",
    "plt.bar(['US','Germany','Iran','Spain','Italy'],np.log(2)/death_slopes)\n",
    "plt.ylabel('Death Rate Doubling Time (Days)')\n",
    "plt.title('Deaths Doubling Time (Higher = Better)')"
   ]
  },
  {
   "cell_type": "code",
   "execution_count": 42,
   "metadata": {},
   "outputs": [
    {
     "data": {
      "text/plain": [
       "<matplotlib.axes._subplots.AxesSubplot at 0x7f7dab52a050>"
      ]
     },
     "execution_count": 42,
     "metadata": {},
     "output_type": "execute_result"
    },
    {
     "data": {
      "image/png": "[encoded data removed]",
      "text/plain": [
       "<Figure size 432x288 with 1 Axes>"
      ]
     },
     "metadata": {
      "needs_background": "light"
     },
     "output_type": "display_data"
    }
   ],
   "source": [
    "(us_deaths[-14:]/0.005).plot()"
   ]
  },
  {
   "cell_type": "code",
   "execution_count": 43,
   "metadata": {},
   "outputs": [
    {
     "data": {
      "text/plain": [
       "4200.0"
      ]
     },
     "execution_count": 43,
     "metadata": {},
     "output_type": "execute_result"
    }
   ],
   "source": [
    "us_deaths[-14]/0.005"
   ]
  },
  {
   "cell_type": "code",
   "execution_count": 44,
   "metadata": {},
   "outputs": [
    {
     "data": {
      "text/plain": [
       "<matplotlib.axes._subplots.AxesSubplot at 0x7f7dab5c1750>"
      ]
     },
     "execution_count": 44,
     "metadata": {},
     "output_type": "execute_result"
    },
    {
     "data": {
      "image/png": "[encoded data removed]",
      "text/plain": [
       "<Figure size 432x288 with 1 Axes>"
      ]
     },
     "metadata": {
      "needs_background": "light"
     },
     "output_type": "display_data"
    }
   ],
   "source": [
    "(korea_deaths/korea_confirmed)[-35:].plot()"
   ]
  },
  {
   "cell_type": "code",
   "execution_count": 45,
   "metadata": {},
   "outputs": [
    {
     "data": {
      "text/plain": [
       "<matplotlib.axes._subplots.AxesSubplot at 0x7f7dab822790>"
      ]
     },
     "execution_count": 45,
     "metadata": {},
     "output_type": "execute_result"
    },
    {
     "data": {
      "image/png": "[encoded data removed]",
      "text/plain": [
       "<Figure size 432x288 with 1 Axes>"
      ]
     },
     "metadata": {
      "needs_background": "light"
     },
     "output_type": "display_data"
    }
   ],
   "source": [
    "(150*korea_deaths[-35:]).plot()\n",
    "korea_confirmed[-35:].plot()"
   ]
  },
  {
   "cell_type": "code",
   "execution_count": 46,
   "metadata": {},
   "outputs": [
    {
     "data": {
      "text/plain": [
       "0.006666666666666667"
      ]
     },
     "execution_count": 46,
     "metadata": {},
     "output_type": "execute_result"
    }
   ],
   "source": [
    "1/150"
   ]
  },
  {
   "cell_type": "code",
   "execution_count": 47,
   "metadata": {},
   "outputs": [
    {
     "data": {
      "text/plain": [
       "3/17/20     6421\n",
       "3/18/20     7783\n",
       "3/19/20    13677\n",
       "3/20/20    19100\n",
       "3/21/20    25489\n",
       "dtype: object"
      ]
     },
     "execution_count": 47,
     "metadata": {},
     "output_type": "execute_result"
    }
   ],
   "source": [
    "us_confirmed[-5:]"
   ]
  },
  {
   "cell_type": "code",
   "execution_count": 48,
   "metadata": {},
   "outputs": [
    {
     "data": {
      "text/plain": [
       "3/17/20    108\n",
       "3/18/20    118\n",
       "3/19/20    200\n",
       "3/20/20    244\n",
       "3/21/20    307\n",
       "dtype: object"
      ]
     },
     "execution_count": 48,
     "metadata": {},
     "output_type": "execute_result"
    }
   ],
   "source": [
    "us_deaths[-5:]"
   ]
  },
  {
   "cell_type": "code",
   "execution_count": 49,
   "metadata": {},
   "outputs": [
    {
     "data": {
      "text/plain": [
       "25489"
      ]
     },
     "execution_count": 49,
     "metadata": {},
     "output_type": "execute_result"
    }
   ],
   "source": [
    "us_confirmed[-1]"
   ]
  },
  {
   "cell_type": "code",
   "execution_count": 50,
   "metadata": {},
   "outputs": [
    {
     "data": {
      "text/plain": [
       "25374"
      ]
     },
     "execution_count": 50,
     "metadata": {},
     "output_type": "execute_result"
    }
   ],
   "source": [
    "spain_confirmed[-1]"
   ]
  },
  {
   "cell_type": "code",
   "execution_count": 64,
   "metadata": {},
   "outputs": [
    {
     "name": "stdout",
     "output_type": "stream",
     "text": [
      "Index(['1/22/20', '1/23/20', '1/24/20', '1/25/20', '1/26/20', '1/27/20',\n",
      "       '1/28/20', '1/29/20', '1/30/20', '1/31/20', '2/1/20', '2/2/20',\n",
      "       '2/3/20', '2/4/20', '2/5/20', '2/6/20', '2/7/20', '2/8/20', '2/9/20',\n",
      "       '2/10/20', '2/11/20', '2/12/20', '2/13/20', '2/14/20', '2/15/20',\n",
      "       '2/16/20', '2/17/20', '2/18/20', '2/19/20', '2/20/20', '2/21/20',\n",
      "       '2/22/20', '2/23/20', '2/24/20', '2/25/20', '2/26/20', '2/27/20',\n",
      "       '2/28/20', '2/29/20', '3/1/20', '3/2/20', '3/3/20', '3/4/20', '3/5/20',\n",
      "       '3/6/20', '3/7/20', '3/8/20', '3/9/20', '3/10/20', '3/11/20', '3/12/20',\n",
      "       '3/13/20', '3/14/20', '3/15/20', '3/16/20', '3/17/20', '3/18/20',\n",
      "       '3/19/20', '3/20/20', '3/21/20'],\n",
      "      dtype='object')\n"
     ]
    },
    {
     "data": {
      "image/png": "[encoded data removed]",
      "text/plain": [
       "<Figure size 432x288 with 1 Axes>"
      ]
     },
     "metadata": {
      "needs_background": "light"
     },
     "output_type": "display_data"
    }
   ],
   "source": [
    "new_york_confirmed, dates = get_nation_state_series('US','New York','Confirmed')\n",
    "new_york_confirmed_lr = get_linear_regression_of_log(new_york_confirmed)\n",
    "\n",
    "forward_dates = [datetime.date.today()+datetime.timedelta(x) for x in range(0,5)]\n",
    "plt.plot(forward_dates,us_confirmed[-1]*np.exp(us_confirmed_lr.slope*x[0:5]))\n",
    "plt.plot(forward_dates,italy_confirmed[-1]*np.exp(italy_confirmed_lr.slope*x[0:5]))\n",
    "plt.plot(forward_dates,new_york_confirmed[-1]*np.exp(new_york_confirmed_lr.slope*x[0:5]))\n",
    "plt.plot(forward_dates,china_confirmed[-1]*np.exp(china_confirmed_lr.slope*x[0:5]))\n",
    "plt.plot(forward_dates,spain_confirmed[-1]*np.exp(spain_confirmed_lr.slope*x[0:5]))\n",
    "plt.plot(forward_dates,germany_confirmed[-1]*np.exp(germany_confirmed_lr.slope*x[0:5]))\n",
    "plt.ylabel('Confirmed Cases')\n",
    "plt.xticks(forward_dates)\n",
    "plt.legend(['US','Italy','New York','China','Spain','Germany'])\n",
    "plt.grid(True)"
   ]
  },
  {
   "cell_type": "code",
   "execution_count": 52,
   "metadata": {},
   "outputs": [
    {
     "data": {
      "text/plain": [
       "[datetime.date(2020, 3, 22),\n",
       " datetime.date(2020, 3, 23),\n",
       " datetime.date(2020, 3, 24),\n",
       " datetime.date(2020, 3, 25),\n",
       " datetime.date(2020, 3, 26)]"
      ]
     },
     "execution_count": 52,
     "metadata": {},
     "output_type": "execute_result"
    }
   ],
   "source": [
    "forward_dates"
   ]
  },
  {
   "cell_type": "code",
   "execution_count": 53,
   "metadata": {},
   "outputs": [
    {
     "data": {
      "text/plain": [
       "1.3652410785300129"
      ]
     },
     "execution_count": 53,
     "metadata": {},
     "output_type": "execute_result"
    }
   ],
   "source": [
    "0.693/new_york_confirmed_lr.slope"
   ]
  },
  {
   "cell_type": "code",
   "execution_count": 54,
   "metadata": {},
   "outputs": [
    {
     "name": "stdout",
     "output_type": "stream",
     "text": [
      "Index(['1/22/20', '1/23/20', '1/24/20', '1/25/20', '1/26/20', '1/27/20',\n",
      "       '1/28/20', '1/29/20', '1/30/20', '1/31/20', '2/1/20', '2/2/20',\n",
      "       '2/3/20', '2/4/20', '2/5/20', '2/6/20', '2/7/20', '2/8/20', '2/9/20',\n",
      "       '2/10/20', '2/11/20', '2/12/20', '2/13/20', '2/14/20', '2/15/20',\n",
      "       '2/16/20', '2/17/20', '2/18/20', '2/19/20', '2/20/20', '2/21/20',\n",
      "       '2/22/20', '2/23/20', '2/24/20', '2/25/20', '2/26/20', '2/27/20',\n",
      "       '2/28/20', '2/29/20', '3/1/20', '3/2/20', '3/3/20', '3/4/20', '3/5/20',\n",
      "       '3/6/20', '3/7/20', '3/8/20', '3/9/20', '3/10/20', '3/11/20', '3/12/20',\n",
      "       '3/13/20', '3/14/20', '3/15/20', '3/16/20', '3/17/20', '3/18/20',\n",
      "       '3/19/20', '3/20/20', '3/21/20'],\n",
      "      dtype='object')\n"
     ]
    },
    {
     "data": {
      "image/png": "[encoded data removed]",
      "text/plain": [
       "<Figure size 432x288 with 1 Axes>"
      ]
     },
     "metadata": {
      "needs_background": "light"
     },
     "output_type": "display_data"
    }
   ],
   "source": [
    "washington_confirmed = get_nation_state_series('US','Washington','Confirmed')[0]\n",
    "washington_confirmed_lr = get_linear_regression_of_log(washington_confirmed)\n",
    "washington_confirmed[-3:].plot(logy=True)\n",
    "plt.grid(True)"
   ]
  },
  {
   "cell_type": "code",
   "execution_count": 55,
   "metadata": {},
   "outputs": [
    {
     "data": {
      "text/plain": [
       "array([172, -62, 362, 148, 269], dtype=object)"
      ]
     },
     "execution_count": 55,
     "metadata": {},
     "output_type": "execute_result"
    }
   ],
   "source": [
    "np.diff(washington_confirmed[-6:])"
   ]
  },
  {
   "cell_type": "code",
   "execution_count": 56,
   "metadata": {},
   "outputs": [
    {
     "data": {
      "text/plain": [
       "array([172, -62, 362, 148, 269], dtype=object)"
      ]
     },
     "execution_count": 56,
     "metadata": {},
     "output_type": "execute_result"
    }
   ],
   "source": [
    "np.diff(washington_confirmed[-6:])"
   ]
  },
  {
   "cell_type": "code",
   "execution_count": null,
   "metadata": {},
   "outputs": [],
   "source": []
  }
 ],
 "metadata": {
  "colab": {
   "include_colab_link": true,
   "name": "Covid-19.ipynb",
   "provenance": []
  },
  "kernelspec": {
   "display_name": "Python 3",
   "language": "python",
   "name": "python3"
  },
  "language_info": {
   "codemirror_mode": {
    "name": "ipython",
    "version": 3
   },
   "file_extension": ".py",
   "mimetype": "text/x-python",
   "name": "python",
   "nbconvert_exporter": "python",
   "pygments_lexer": "ipython3",
   "version": "3.7.4"
  }
 },
 "nbformat": 4,
 "nbformat_minor": 4
}
